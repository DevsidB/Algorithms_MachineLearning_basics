{
 "cells": [
  {
   "cell_type": "markdown",
   "id": "157f3c34",
   "metadata": {},
   "source": [
    "__Manual functions of sigmoid and y for individual row written.__\n",
    "\n",
    "Iris dataset predicted using sklearn"
   ]
  },
  {
   "cell_type": "code",
   "execution_count": 1,
   "id": "0656edce",
   "metadata": {},
   "outputs": [],
   "source": [
    "%matplotlib inline\n",
    "from matplotlib import pyplot as plt\n",
    "from sklearn.datasets import load_iris\n",
    "import numpy as np"
   ]
  },
  {
   "cell_type": "code",
   "execution_count": 2,
   "id": "c1c065c2",
   "metadata": {},
   "outputs": [],
   "source": [
    "iris = load_iris()"
   ]
  },
  {
   "cell_type": "code",
   "execution_count": 3,
   "id": "b6358dbb",
   "metadata": {},
   "outputs": [
    {
     "data": {
      "text/plain": [
       "['DESCR',\n",
       " 'data',\n",
       " 'data_module',\n",
       " 'feature_names',\n",
       " 'filename',\n",
       " 'frame',\n",
       " 'target',\n",
       " 'target_names']"
      ]
     },
     "execution_count": 3,
     "metadata": {},
     "output_type": "execute_result"
    }
   ],
   "source": [
    "dir(iris)"
   ]
  },
  {
   "cell_type": "code",
   "execution_count": 4,
   "id": "a51d8736",
   "metadata": {},
   "outputs": [
    {
     "data": {
      "text/plain": [
       "array([[5.1, 3.5, 1.4, 0.2],\n",
       "       [4.9, 3. , 1.4, 0.2],\n",
       "       [4.7, 3.2, 1.3, 0.2],\n",
       "       [4.6, 3.1, 1.5, 0.2],\n",
       "       [5. , 3.6, 1.4, 0.2],\n",
       "       [5.4, 3.9, 1.7, 0.4],\n",
       "       [4.6, 3.4, 1.4, 0.3],\n",
       "       [5. , 3.4, 1.5, 0.2],\n",
       "       [4.4, 2.9, 1.4, 0.2],\n",
       "       [4.9, 3.1, 1.5, 0.1],\n",
       "       [5.4, 3.7, 1.5, 0.2],\n",
       "       [4.8, 3.4, 1.6, 0.2],\n",
       "       [4.8, 3. , 1.4, 0.1],\n",
       "       [4.3, 3. , 1.1, 0.1],\n",
       "       [5.8, 4. , 1.2, 0.2],\n",
       "       [5.7, 4.4, 1.5, 0.4],\n",
       "       [5.4, 3.9, 1.3, 0.4],\n",
       "       [5.1, 3.5, 1.4, 0.3],\n",
       "       [5.7, 3.8, 1.7, 0.3],\n",
       "       [5.1, 3.8, 1.5, 0.3],\n",
       "       [5.4, 3.4, 1.7, 0.2],\n",
       "       [5.1, 3.7, 1.5, 0.4],\n",
       "       [4.6, 3.6, 1. , 0.2],\n",
       "       [5.1, 3.3, 1.7, 0.5],\n",
       "       [4.8, 3.4, 1.9, 0.2],\n",
       "       [5. , 3. , 1.6, 0.2],\n",
       "       [5. , 3.4, 1.6, 0.4],\n",
       "       [5.2, 3.5, 1.5, 0.2],\n",
       "       [5.2, 3.4, 1.4, 0.2],\n",
       "       [4.7, 3.2, 1.6, 0.2],\n",
       "       [4.8, 3.1, 1.6, 0.2],\n",
       "       [5.4, 3.4, 1.5, 0.4],\n",
       "       [5.2, 4.1, 1.5, 0.1],\n",
       "       [5.5, 4.2, 1.4, 0.2],\n",
       "       [4.9, 3.1, 1.5, 0.2],\n",
       "       [5. , 3.2, 1.2, 0.2],\n",
       "       [5.5, 3.5, 1.3, 0.2],\n",
       "       [4.9, 3.6, 1.4, 0.1],\n",
       "       [4.4, 3. , 1.3, 0.2],\n",
       "       [5.1, 3.4, 1.5, 0.2],\n",
       "       [5. , 3.5, 1.3, 0.3],\n",
       "       [4.5, 2.3, 1.3, 0.3],\n",
       "       [4.4, 3.2, 1.3, 0.2],\n",
       "       [5. , 3.5, 1.6, 0.6],\n",
       "       [5.1, 3.8, 1.9, 0.4],\n",
       "       [4.8, 3. , 1.4, 0.3],\n",
       "       [5.1, 3.8, 1.6, 0.2],\n",
       "       [4.6, 3.2, 1.4, 0.2],\n",
       "       [5.3, 3.7, 1.5, 0.2],\n",
       "       [5. , 3.3, 1.4, 0.2],\n",
       "       [7. , 3.2, 4.7, 1.4],\n",
       "       [6.4, 3.2, 4.5, 1.5],\n",
       "       [6.9, 3.1, 4.9, 1.5],\n",
       "       [5.5, 2.3, 4. , 1.3],\n",
       "       [6.5, 2.8, 4.6, 1.5],\n",
       "       [5.7, 2.8, 4.5, 1.3],\n",
       "       [6.3, 3.3, 4.7, 1.6],\n",
       "       [4.9, 2.4, 3.3, 1. ],\n",
       "       [6.6, 2.9, 4.6, 1.3],\n",
       "       [5.2, 2.7, 3.9, 1.4],\n",
       "       [5. , 2. , 3.5, 1. ],\n",
       "       [5.9, 3. , 4.2, 1.5],\n",
       "       [6. , 2.2, 4. , 1. ],\n",
       "       [6.1, 2.9, 4.7, 1.4],\n",
       "       [5.6, 2.9, 3.6, 1.3],\n",
       "       [6.7, 3.1, 4.4, 1.4],\n",
       "       [5.6, 3. , 4.5, 1.5],\n",
       "       [5.8, 2.7, 4.1, 1. ],\n",
       "       [6.2, 2.2, 4.5, 1.5],\n",
       "       [5.6, 2.5, 3.9, 1.1],\n",
       "       [5.9, 3.2, 4.8, 1.8],\n",
       "       [6.1, 2.8, 4. , 1.3],\n",
       "       [6.3, 2.5, 4.9, 1.5],\n",
       "       [6.1, 2.8, 4.7, 1.2],\n",
       "       [6.4, 2.9, 4.3, 1.3],\n",
       "       [6.6, 3. , 4.4, 1.4],\n",
       "       [6.8, 2.8, 4.8, 1.4],\n",
       "       [6.7, 3. , 5. , 1.7],\n",
       "       [6. , 2.9, 4.5, 1.5],\n",
       "       [5.7, 2.6, 3.5, 1. ],\n",
       "       [5.5, 2.4, 3.8, 1.1],\n",
       "       [5.5, 2.4, 3.7, 1. ],\n",
       "       [5.8, 2.7, 3.9, 1.2],\n",
       "       [6. , 2.7, 5.1, 1.6],\n",
       "       [5.4, 3. , 4.5, 1.5],\n",
       "       [6. , 3.4, 4.5, 1.6],\n",
       "       [6.7, 3.1, 4.7, 1.5],\n",
       "       [6.3, 2.3, 4.4, 1.3],\n",
       "       [5.6, 3. , 4.1, 1.3],\n",
       "       [5.5, 2.5, 4. , 1.3],\n",
       "       [5.5, 2.6, 4.4, 1.2],\n",
       "       [6.1, 3. , 4.6, 1.4],\n",
       "       [5.8, 2.6, 4. , 1.2],\n",
       "       [5. , 2.3, 3.3, 1. ],\n",
       "       [5.6, 2.7, 4.2, 1.3],\n",
       "       [5.7, 3. , 4.2, 1.2],\n",
       "       [5.7, 2.9, 4.2, 1.3],\n",
       "       [6.2, 2.9, 4.3, 1.3],\n",
       "       [5.1, 2.5, 3. , 1.1],\n",
       "       [5.7, 2.8, 4.1, 1.3],\n",
       "       [6.3, 3.3, 6. , 2.5],\n",
       "       [5.8, 2.7, 5.1, 1.9],\n",
       "       [7.1, 3. , 5.9, 2.1],\n",
       "       [6.3, 2.9, 5.6, 1.8],\n",
       "       [6.5, 3. , 5.8, 2.2],\n",
       "       [7.6, 3. , 6.6, 2.1],\n",
       "       [4.9, 2.5, 4.5, 1.7],\n",
       "       [7.3, 2.9, 6.3, 1.8],\n",
       "       [6.7, 2.5, 5.8, 1.8],\n",
       "       [7.2, 3.6, 6.1, 2.5],\n",
       "       [6.5, 3.2, 5.1, 2. ],\n",
       "       [6.4, 2.7, 5.3, 1.9],\n",
       "       [6.8, 3. , 5.5, 2.1],\n",
       "       [5.7, 2.5, 5. , 2. ],\n",
       "       [5.8, 2.8, 5.1, 2.4],\n",
       "       [6.4, 3.2, 5.3, 2.3],\n",
       "       [6.5, 3. , 5.5, 1.8],\n",
       "       [7.7, 3.8, 6.7, 2.2],\n",
       "       [7.7, 2.6, 6.9, 2.3],\n",
       "       [6. , 2.2, 5. , 1.5],\n",
       "       [6.9, 3.2, 5.7, 2.3],\n",
       "       [5.6, 2.8, 4.9, 2. ],\n",
       "       [7.7, 2.8, 6.7, 2. ],\n",
       "       [6.3, 2.7, 4.9, 1.8],\n",
       "       [6.7, 3.3, 5.7, 2.1],\n",
       "       [7.2, 3.2, 6. , 1.8],\n",
       "       [6.2, 2.8, 4.8, 1.8],\n",
       "       [6.1, 3. , 4.9, 1.8],\n",
       "       [6.4, 2.8, 5.6, 2.1],\n",
       "       [7.2, 3. , 5.8, 1.6],\n",
       "       [7.4, 2.8, 6.1, 1.9],\n",
       "       [7.9, 3.8, 6.4, 2. ],\n",
       "       [6.4, 2.8, 5.6, 2.2],\n",
       "       [6.3, 2.8, 5.1, 1.5],\n",
       "       [6.1, 2.6, 5.6, 1.4],\n",
       "       [7.7, 3. , 6.1, 2.3],\n",
       "       [6.3, 3.4, 5.6, 2.4],\n",
       "       [6.4, 3.1, 5.5, 1.8],\n",
       "       [6. , 3. , 4.8, 1.8],\n",
       "       [6.9, 3.1, 5.4, 2.1],\n",
       "       [6.7, 3.1, 5.6, 2.4],\n",
       "       [6.9, 3.1, 5.1, 2.3],\n",
       "       [5.8, 2.7, 5.1, 1.9],\n",
       "       [6.8, 3.2, 5.9, 2.3],\n",
       "       [6.7, 3.3, 5.7, 2.5],\n",
       "       [6.7, 3. , 5.2, 2.3],\n",
       "       [6.3, 2.5, 5. , 1.9],\n",
       "       [6.5, 3. , 5.2, 2. ],\n",
       "       [6.2, 3.4, 5.4, 2.3],\n",
       "       [5.9, 3. , 5.1, 1.8]])"
      ]
     },
     "execution_count": 4,
     "metadata": {},
     "output_type": "execute_result"
    }
   ],
   "source": [
    "iris.data"
   ]
  },
  {
   "cell_type": "code",
   "execution_count": 5,
   "id": "bf0102e3",
   "metadata": {},
   "outputs": [
    {
     "data": {
      "text/plain": [
       "array([0, 0, 0, 0, 0, 0, 0, 0, 0, 0, 0, 0, 0, 0, 0, 0, 0, 0, 0, 0, 0, 0,\n",
       "       0, 0, 0, 0, 0, 0, 0, 0, 0, 0, 0, 0, 0, 0, 0, 0, 0, 0, 0, 0, 0, 0,\n",
       "       0, 0, 0, 0, 0, 0, 1, 1, 1, 1, 1, 1, 1, 1, 1, 1, 1, 1, 1, 1, 1, 1,\n",
       "       1, 1, 1, 1, 1, 1, 1, 1, 1, 1, 1, 1, 1, 1, 1, 1, 1, 1, 1, 1, 1, 1,\n",
       "       1, 1, 1, 1, 1, 1, 1, 1, 1, 1, 1, 1, 2, 2, 2, 2, 2, 2, 2, 2, 2, 2,\n",
       "       2, 2, 2, 2, 2, 2, 2, 2, 2, 2, 2, 2, 2, 2, 2, 2, 2, 2, 2, 2, 2, 2,\n",
       "       2, 2, 2, 2, 2, 2, 2, 2, 2, 2, 2, 2, 2, 2, 2, 2, 2, 2])"
      ]
     },
     "execution_count": 5,
     "metadata": {},
     "output_type": "execute_result"
    }
   ],
   "source": [
    "iris.target"
   ]
  },
  {
   "cell_type": "code",
   "execution_count": 6,
   "id": "a924be94",
   "metadata": {},
   "outputs": [
    {
     "data": {
      "text/plain": [
       "array(['setosa', 'versicolor', 'virginica'], dtype='<U10')"
      ]
     },
     "execution_count": 6,
     "metadata": {},
     "output_type": "execute_result"
    }
   ],
   "source": [
    "iris.target_names"
   ]
  },
  {
   "cell_type": "code",
   "execution_count": 7,
   "id": "2ed0198f",
   "metadata": {},
   "outputs": [],
   "source": [
    "from sklearn.model_selection import train_test_split\n",
    "X_train, X_test, y_train, y_test = train_test_split(iris.data, iris.target,random_state = 42) # (flattened 2d array,1d array)"
   ]
  },
  {
   "cell_type": "code",
   "execution_count": 8,
   "id": "e1d90c45",
   "metadata": {},
   "outputs": [
    {
     "data": {
      "text/plain": [
       "(112, 4)"
      ]
     },
     "execution_count": 8,
     "metadata": {},
     "output_type": "execute_result"
    }
   ],
   "source": [
    "X_train.shape"
   ]
  },
  {
   "cell_type": "code",
   "execution_count": 9,
   "id": "2661fc70",
   "metadata": {},
   "outputs": [
    {
     "data": {
      "text/plain": [
       "array([[6.1, 2.8, 4.7, 1.2],\n",
       "       [5.7, 3.8, 1.7, 0.3],\n",
       "       [7.7, 2.6, 6.9, 2.3],\n",
       "       [6. , 2.9, 4.5, 1.5],\n",
       "       [6.8, 2.8, 4.8, 1.4],\n",
       "       [5.4, 3.4, 1.5, 0.4],\n",
       "       [5.6, 2.9, 3.6, 1.3],\n",
       "       [6.9, 3.1, 5.1, 2.3],\n",
       "       [6.2, 2.2, 4.5, 1.5],\n",
       "       [5.8, 2.7, 3.9, 1.2],\n",
       "       [6.5, 3.2, 5.1, 2. ],\n",
       "       [4.8, 3. , 1.4, 0.1],\n",
       "       [5.5, 3.5, 1.3, 0.2],\n",
       "       [4.9, 3.1, 1.5, 0.1],\n",
       "       [5.1, 3.8, 1.5, 0.3],\n",
       "       [6.3, 3.3, 4.7, 1.6],\n",
       "       [6.5, 3. , 5.8, 2.2],\n",
       "       [5.6, 2.5, 3.9, 1.1],\n",
       "       [5.7, 2.8, 4.5, 1.3],\n",
       "       [6.4, 2.8, 5.6, 2.2],\n",
       "       [4.7, 3.2, 1.6, 0.2],\n",
       "       [6.1, 3. , 4.9, 1.8],\n",
       "       [5. , 3.4, 1.6, 0.4],\n",
       "       [6.4, 2.8, 5.6, 2.1],\n",
       "       [7.9, 3.8, 6.4, 2. ],\n",
       "       [6.7, 3. , 5.2, 2.3],\n",
       "       [6.7, 2.5, 5.8, 1.8],\n",
       "       [6.8, 3.2, 5.9, 2.3],\n",
       "       [4.8, 3. , 1.4, 0.3],\n",
       "       [4.8, 3.1, 1.6, 0.2],\n",
       "       [4.6, 3.6, 1. , 0.2],\n",
       "       [5.7, 4.4, 1.5, 0.4],\n",
       "       [6.7, 3.1, 4.4, 1.4],\n",
       "       [4.8, 3.4, 1.6, 0.2],\n",
       "       [4.4, 3.2, 1.3, 0.2],\n",
       "       [6.3, 2.5, 5. , 1.9],\n",
       "       [6.4, 3.2, 4.5, 1.5],\n",
       "       [5.2, 3.5, 1.5, 0.2]])"
      ]
     },
     "execution_count": 9,
     "metadata": {},
     "output_type": "execute_result"
    }
   ],
   "source": [
    "X_test"
   ]
  },
  {
   "cell_type": "code",
   "execution_count": 10,
   "id": "67b641ea",
   "metadata": {},
   "outputs": [
    {
     "data": {
      "text/plain": [
       "(112,)"
      ]
     },
     "execution_count": 10,
     "metadata": {},
     "output_type": "execute_result"
    }
   ],
   "source": [
    "y_train.shape"
   ]
  },
  {
   "cell_type": "code",
   "execution_count": 11,
   "id": "fa47d84c",
   "metadata": {},
   "outputs": [
    {
     "data": {
      "text/plain": [
       "(38,)"
      ]
     },
     "execution_count": 11,
     "metadata": {},
     "output_type": "execute_result"
    }
   ],
   "source": [
    "y_test.shape"
   ]
  },
  {
   "cell_type": "code",
   "execution_count": 12,
   "id": "70776ac8",
   "metadata": {},
   "outputs": [
    {
     "name": "stderr",
     "output_type": "stream",
     "text": [
      "C:\\Users\\DELL\\anaconda3\\lib\\site-packages\\sklearn\\linear_model\\_logistic.py:814: ConvergenceWarning: lbfgs failed to converge (status=1):\n",
      "STOP: TOTAL NO. of ITERATIONS REACHED LIMIT.\n",
      "\n",
      "Increase the number of iterations (max_iter) or scale the data as shown in:\n",
      "    https://scikit-learn.org/stable/modules/preprocessing.html\n",
      "Please also refer to the documentation for alternative solver options:\n",
      "    https://scikit-learn.org/stable/modules/linear_model.html#logistic-regression\n",
      "  n_iter_i = _check_optimize_result(\n"
     ]
    },
    {
     "data": {
      "text/plain": [
       "LogisticRegression()"
      ]
     },
     "execution_count": 12,
     "metadata": {},
     "output_type": "execute_result"
    }
   ],
   "source": [
    "from sklearn.linear_model import LogisticRegression\n",
    "model = LogisticRegression()\n",
    "model.fit(X_train,y_train)"
   ]
  },
  {
   "cell_type": "code",
   "execution_count": 13,
   "id": "18ae5996",
   "metadata": {},
   "outputs": [
    {
     "data": {
      "text/plain": [
       "array([[-0.38930451,  0.92000728, -2.33122099, -0.98311022],\n",
       "       [ 0.4992922 , -0.30959442, -0.21517621, -0.73384754],\n",
       "       [-0.10998769, -0.61041287,  2.54639721,  1.71695776]])"
      ]
     },
     "execution_count": 13,
     "metadata": {},
     "output_type": "execute_result"
    }
   ],
   "source": [
    "model.coef_ # (4 independant variables so => 4 slopes and 3 classes=> 'setosa', 'versicolor', 'virginica')\n",
    "#[[m1,m2,m3,m4],[m1,m2,m3,m4],[m1,m2,m3,m4]]\n",
    "#   class0          class1       class2"
   ]
  },
  {
   "cell_type": "code",
   "execution_count": 14,
   "id": "41e32783",
   "metadata": {},
   "outputs": [
    {
     "data": {
      "text/plain": [
       "-0.10998769431347519"
      ]
     },
     "execution_count": 14,
     "metadata": {},
     "output_type": "execute_result"
    }
   ],
   "source": [
    "model.coef_[2][0] #manually finding any required slope"
   ]
  },
  {
   "cell_type": "code",
   "execution_count": 15,
   "id": "194ee3ba",
   "metadata": {},
   "outputs": [
    {
     "data": {
      "text/plain": [
       "array([  8.89999518,   2.00742666, -10.90742184])"
      ]
     },
     "execution_count": 15,
     "metadata": {},
     "output_type": "execute_result"
    }
   ],
   "source": [
    "model.intercept_ # (3 classes 3 intercepts)\n",
    "# [intercept1, intercept2, intercept3]\n",
    "#   class0      class1       class2"
   ]
  },
  {
   "cell_type": "code",
   "execution_count": 16,
   "id": "152db1ba",
   "metadata": {},
   "outputs": [
    {
     "data": {
      "text/plain": [
       "-10.907421843052676"
      ]
     },
     "execution_count": 16,
     "metadata": {},
     "output_type": "execute_result"
    }
   ],
   "source": [
    "model.intercept_[2] #manually finding any required intercept"
   ]
  },
  {
   "cell_type": "markdown",
   "id": "70299d64",
   "metadata": {},
   "source": [
    "__Manually Finding the probabilities of single row using (y = m1x1 + m2x2 + ..mnxn.. + b) and sigmoid function__"
   ]
  },
  {
   "cell_type": "code",
   "execution_count": 17,
   "id": "6a00777e",
   "metadata": {},
   "outputs": [],
   "source": [
    "def find_x(row_no): # Function for assigning independant variables row wise from X_test\n",
    "    x1 = X_test[row_no][0]\n",
    "    x2 = X_test[row_no][1]\n",
    "    x3 = X_test[row_no][2]\n",
    "    x4 = X_test[row_no][3]\n",
    "    return x1,x2,x3,x4"
   ]
  },
  {
   "cell_type": "code",
   "execution_count": 18,
   "id": "fbcbbd8b",
   "metadata": {},
   "outputs": [],
   "source": [
    "row_no = 0 # Defining the row number for which the desired probabilities are required"
   ]
  },
  {
   "cell_type": "code",
   "execution_count": 19,
   "id": "e2e69e4d",
   "metadata": {},
   "outputs": [],
   "source": [
    "x1,x2,x3,x4 = find_x(row_no) #using the function above"
   ]
  },
  {
   "cell_type": "code",
   "execution_count": 20,
   "id": "86172eda",
   "metadata": {},
   "outputs": [
    {
     "data": {
      "text/plain": [
       "(6.1, 2.8, 4.7, 1.2)"
      ]
     },
     "execution_count": 20,
     "metadata": {},
     "output_type": "execute_result"
    }
   ],
   "source": [
    "x1,x2,x3,x4 #values returned from above function"
   ]
  },
  {
   "cell_type": "markdown",
   "id": "b04e29f1",
   "metadata": {},
   "source": [
    "__Writing y and sigmoid function__"
   ]
  },
  {
   "cell_type": "code",
   "execution_count": 21,
   "id": "a1bc4469",
   "metadata": {},
   "outputs": [],
   "source": [
    "def sigmoid(y):\n",
    "    import math\n",
    "    return 1/(1 + math.exp(-y))"
   ]
  },
  {
   "cell_type": "code",
   "execution_count": 22,
   "id": "32d869a5",
   "metadata": {},
   "outputs": [],
   "source": [
    "def prediction_function(x1,x2,x3,x4,m1,m2,m3,m4,clas):\n",
    "    y = x1*m1 + x2*m2 + x3*m3 +x4*m4 + model.intercept_[clas]\n",
    "    return y"
   ]
  },
  {
   "cell_type": "code",
   "execution_count": 23,
   "id": "4aa8c66b",
   "metadata": {},
   "outputs": [
    {
     "data": {
      "text/plain": [
       "-3.0352128628601935"
      ]
     },
     "execution_count": 23,
     "metadata": {},
     "output_type": "execute_result"
    }
   ],
   "source": [
    "y0=prediction_function(x1,x2,x3,x4,-0.38930451,  0.92000728, -2.33122099, -0.98311022,0)\n",
    "y0"
   ]
  },
  {
   "cell_type": "code",
   "execution_count": 24,
   "id": "5fdcd5df",
   "metadata": {},
   "outputs": [
    {
     "data": {
      "text/plain": [
       "2.294299470912987"
      ]
     },
     "execution_count": 24,
     "metadata": {},
     "output_type": "execute_result"
    }
   ],
   "source": [
    "y1= prediction_function(x1,x2,x3,x4,0.4992922 , -0.30959442, -0.21517621, -0.73384754,1)\n",
    "y1"
   ]
  },
  {
   "cell_type": "code",
   "execution_count": 25,
   "id": "3a177a54",
   "metadata": {
    "scrolled": true
   },
   "outputs": [
    {
     "data": {
      "text/plain": [
       "0.7409134109473232"
      ]
     },
     "execution_count": 25,
     "metadata": {},
     "output_type": "execute_result"
    }
   ],
   "source": [
    "y2 = prediction_function(x1,x2,x3,x4,-0.10998769, -0.61041287,  2.54639721,  1.71695776,2)\n",
    "y2"
   ]
  },
  {
   "cell_type": "code",
   "execution_count": 26,
   "id": "92e32525",
   "metadata": {
    "scrolled": true
   },
   "outputs": [
    {
     "data": {
      "text/plain": [
       "0.04586018688222186"
      ]
     },
     "execution_count": 26,
     "metadata": {},
     "output_type": "execute_result"
    }
   ],
   "source": [
    "sigmoid(y0)"
   ]
  },
  {
   "cell_type": "code",
   "execution_count": 27,
   "id": "52d1b5ad",
   "metadata": {
    "scrolled": true
   },
   "outputs": [
    {
     "data": {
      "text/plain": [
       "0.9084038219343968"
      ]
     },
     "execution_count": 27,
     "metadata": {},
     "output_type": "execute_result"
    }
   ],
   "source": [
    "sigmoid(y1)"
   ]
  },
  {
   "cell_type": "code",
   "execution_count": 28,
   "id": "49c3cc52",
   "metadata": {},
   "outputs": [
    {
     "data": {
      "text/plain": [
       "0.6771955617633766"
      ]
     },
     "execution_count": 28,
     "metadata": {},
     "output_type": "execute_result"
    }
   ],
   "source": [
    "sigmoid(y2)"
   ]
  },
  {
   "cell_type": "markdown",
   "id": "59ac7a90",
   "metadata": {},
   "source": [
    "__Comparing the manual answers with model.proba_ function__"
   ]
  },
  {
   "cell_type": "code",
   "execution_count": 29,
   "id": "433222c3",
   "metadata": {},
   "outputs": [
    {
     "data": {
      "text/plain": [
       "[0.04586018688222186, 0.9084038219343968, 0.6771955617633766]"
      ]
     },
     "execution_count": 29,
     "metadata": {},
     "output_type": "execute_result"
    }
   ],
   "source": [
    "proba_list= [] # creating a list of probabilities value we found above from sigmoid\n",
    "proba_list.append(sigmoid(y0))\n",
    "proba_list.append(sigmoid(y1))\n",
    "proba_list.append(sigmoid(y2))\n",
    "proba_list # Values for probabilities are different than model.proba below. "
   ]
  },
  {
   "cell_type": "code",
   "execution_count": 30,
   "id": "8353c9c4",
   "metadata": {},
   "outputs": [
    {
     "data": {
      "text/plain": [
       "0.9084038219343968"
      ]
     },
     "execution_count": 30,
     "metadata": {},
     "output_type": "execute_result"
    }
   ],
   "source": [
    "max(proba_list) #Values are different but the max gives correct answer.refer next cell"
   ]
  },
  {
   "cell_type": "code",
   "execution_count": 31,
   "id": "e796fc7d",
   "metadata": {},
   "outputs": [
    {
     "data": {
      "text/plain": [
       "1"
      ]
     },
     "execution_count": 31,
     "metadata": {},
     "output_type": "execute_result"
    }
   ],
   "source": [
    "proba_list.index(max(proba_list)) # max class from list (finding max index from python list)"
   ]
  },
  {
   "cell_type": "code",
   "execution_count": 32,
   "id": "7cd41257",
   "metadata": {},
   "outputs": [
    {
     "data": {
      "text/plain": [
       "array([0.00398432, 0.82211359, 0.17390209])"
      ]
     },
     "execution_count": 32,
     "metadata": {},
     "output_type": "execute_result"
    }
   ],
   "source": [
    "model.predict_proba(X_test)[row_no] #compare the values with proba_list above. Answers are diff but max gives same results."
   ]
  },
  {
   "cell_type": "code",
   "execution_count": 33,
   "id": "a11c18dc",
   "metadata": {},
   "outputs": [
    {
     "data": {
      "text/plain": [
       "0.822113591779305"
      ]
     },
     "execution_count": 33,
     "metadata": {},
     "output_type": "execute_result"
    }
   ],
   "source": [
    "np.max(model.predict_proba(X_test)[row_no]) #Values are different but the max index gives correct answer.refer next cell"
   ]
  },
  {
   "cell_type": "code",
   "execution_count": 34,
   "id": "7c2ff238",
   "metadata": {},
   "outputs": [
    {
     "data": {
      "text/plain": [
       "1"
      ]
     },
     "execution_count": 34,
     "metadata": {},
     "output_type": "execute_result"
    }
   ],
   "source": [
    "np.argmax(model.predict_proba(X_test)[row_no]) #max class from predict_proba (finding max index from np array)"
   ]
  },
  {
   "cell_type": "markdown",
   "id": "62bed30b",
   "metadata": {},
   "source": [
    "The differences in the manually predicted values and model.predictproba_ might be due to the reason that:\n",
    "    \n",
    "    1. Either the predictproba_is using softmax function where addition of all prob values is 1.\n",
    "    2. Or else the predict proba might be using normalization to scale the values  between 0 and 1 and then apply the y and sigmoid\n",
    "    \n",
    "Taking max number returns the same class for both the methods"
   ]
  },
  {
   "cell_type": "code",
   "execution_count": 35,
   "id": "fc27ac4d",
   "metadata": {},
   "outputs": [
    {
     "data": {
      "text/plain": [
       "[0.003984318274106136, 0.822113591779305, 0.17390208994658898]"
      ]
     },
     "execution_count": 35,
     "metadata": {},
     "output_type": "execute_result"
    }
   ],
   "source": [
    "list(model.predict_proba(X_test)[row_no])"
   ]
  },
  {
   "cell_type": "code",
   "execution_count": 36,
   "id": "be0e646c",
   "metadata": {},
   "outputs": [
    {
     "data": {
      "text/plain": [
       "1.0000000000000002"
      ]
     },
     "execution_count": 36,
     "metadata": {},
     "output_type": "execute_result"
    }
   ],
   "source": [
    "#Adding all values returned by predict_proba\n",
    "sum(model.predict_proba(X_test)[row_no]) # Softmax function is used.Addition is 1"
   ]
  },
  {
   "cell_type": "markdown",
   "id": "a5307bb0",
   "metadata": {},
   "source": [
    "__Predicting using softmax manually__"
   ]
  },
  {
   "cell_type": "code",
   "execution_count": 37,
   "id": "e496eef3",
   "metadata": {},
   "outputs": [
    {
     "data": {
      "text/plain": [
       "[0.028109913177878042, 0.5568043721803372, 0.41508571464178473]"
      ]
     },
     "execution_count": 37,
     "metadata": {},
     "output_type": "execute_result"
    }
   ],
   "source": [
    "softmax_proba_list = []\n",
    "for i in proba_list:\n",
    "    softmax_proba_list.append(i/sum(proba_list))\n",
    "softmax_proba_list    # all probability values[class0,class1,class2] when added will sum up to 1 (softmax-explained further)"
   ]
  },
  {
   "cell_type": "code",
   "execution_count": 38,
   "id": "f8f0ccfe",
   "metadata": {},
   "outputs": [
    {
     "data": {
      "text/plain": [
       "1.0"
      ]
     },
     "execution_count": 38,
     "metadata": {},
     "output_type": "execute_result"
    }
   ],
   "source": [
    "sum(softmax_proba_list)"
   ]
  },
  {
   "cell_type": "markdown",
   "id": "082268cd",
   "metadata": {},
   "source": [
    "__Selecting class and Comparing selection using different methods__"
   ]
  },
  {
   "cell_type": "markdown",
   "id": "e042e24e",
   "metadata": {},
   "source": [
    "__Selecting max from softmax_proba_list__"
   ]
  },
  {
   "cell_type": "code",
   "execution_count": 39,
   "id": "85306374",
   "metadata": {},
   "outputs": [
    {
     "data": {
      "text/plain": [
       "0.9084038219343968"
      ]
     },
     "execution_count": 39,
     "metadata": {},
     "output_type": "execute_result"
    }
   ],
   "source": [
    "max(proba_list)"
   ]
  },
  {
   "cell_type": "code",
   "execution_count": 40,
   "id": "5dc8aca3",
   "metadata": {},
   "outputs": [
    {
     "data": {
      "text/plain": [
       "1"
      ]
     },
     "execution_count": 40,
     "metadata": {},
     "output_type": "execute_result"
    }
   ],
   "source": [
    "proba_list.index(max(proba_list)) # max class from list"
   ]
  },
  {
   "cell_type": "code",
   "execution_count": 41,
   "id": "147eb361",
   "metadata": {},
   "outputs": [
    {
     "data": {
      "text/plain": [
       "1"
      ]
     },
     "execution_count": 41,
     "metadata": {},
     "output_type": "execute_result"
    }
   ],
   "source": [
    "np.argmax(model.predict_proba(X_test)[row_no]) #max class from predict_proba"
   ]
  },
  {
   "cell_type": "code",
   "execution_count": 42,
   "id": "9cda82c5",
   "metadata": {},
   "outputs": [
    {
     "data": {
      "text/plain": [
       "1"
      ]
     },
     "execution_count": 42,
     "metadata": {},
     "output_type": "execute_result"
    }
   ],
   "source": [
    "model.predict(X_test)[row_no] #class from model.predict"
   ]
  },
  {
   "cell_type": "code",
   "execution_count": 43,
   "id": "b6454942",
   "metadata": {},
   "outputs": [
    {
     "data": {
      "text/plain": [
       "1"
      ]
     },
     "execution_count": 43,
     "metadata": {},
     "output_type": "execute_result"
    }
   ],
   "source": [
    "y_test[row_no] # Actual class "
   ]
  },
  {
   "cell_type": "raw",
   "id": "66779e42",
   "metadata": {},
   "source": [
    "A bit about softmax :\n",
    "    \n",
    "    Suppose that we have 2 classes 1 and 0:\n",
    "    \n",
    "    Sigmoid:\n",
    "    1 : 0.45\n",
    "    2 : 0.67\n",
    "    Adding probabilities of sigmoid we can get any value.\n",
    "    \n",
    "    SOFTMAX :\n",
    "    1 :0.45--> (0.45)/(0.45+0.67) = 0.401\n",
    "    2 :0.67--> (0.67)/(0.45+0.67) = 0.598  \n",
    "    Adding probabilities of SOFTMAX we will always get 1.\n",
    "    \n",
    "    Consider the below class : We can observe that for each class the probabilities of occurance of any class is given an equal\n",
    "    weightage based on the probablities of the other classes. That ensures that each class prob is considered in equal ratio.\n",
    "    Sigmoid only considers single class while predicting the probabilities. While in Softmax every class is considered.\n",
    "    1: 0.30/(0.30+0.50+0.70) = 0.19999999999999998\n",
    "    2: 0.50/(0.30+0.50+0.70) = 0.3333333333333333\n",
    "    3: 0.70/(0.30+0.50+0.70) = 0.4666666666666666\n",
    "    0.19999999999999998 + 0.3333333333333333 + 0.4666666666666666 = 1.0"
   ]
  },
  {
   "cell_type": "markdown",
   "id": "3bfbde0e",
   "metadata": {},
   "source": [
    "__Predicting all probabilities,score and confusion matrix using model__"
   ]
  },
  {
   "cell_type": "code",
   "execution_count": 44,
   "id": "6f1cedfa",
   "metadata": {
    "scrolled": true
   },
   "outputs": [
    {
     "data": {
      "text/plain": [
       "array([[3.98431827e-03, 8.22113592e-01, 1.73902090e-01],\n",
       "       [9.44169914e-01, 5.58297764e-02, 3.10095485e-07],\n",
       "       [1.20792034e-08, 1.82695306e-03, 9.98173035e-01],\n",
       "       [6.68011120e-03, 7.87132811e-01, 2.06187078e-01],\n",
       "       [1.54197785e-03, 7.69740135e-01, 2.28717887e-01],\n",
       "       [9.52619928e-01, 4.73798103e-02, 2.62079084e-07],\n",
       "       [7.75264712e-02, 9.07007097e-01, 1.54664322e-02],\n",
       "       [1.77894767e-04, 1.58468046e-01, 8.41354060e-01],\n",
       "       [2.33028321e-03, 7.75643260e-01, 2.22026457e-01],\n",
       "       [2.87098862e-02, 9.44163368e-01, 2.71267454e-02],\n",
       "       [4.69963691e-04, 2.40769145e-01, 7.58760891e-01],\n",
       "       [9.65400946e-01, 3.45989406e-02, 1.13156245e-07],\n",
       "       [9.70919622e-01, 2.90803266e-02, 5.17811620e-08],\n",
       "       [9.58956472e-01, 4.10433664e-02, 1.61535225e-07],\n",
       "       [9.77781505e-01, 2.22183931e-02, 1.02385656e-07],\n",
       "       [4.72852674e-03, 6.96278410e-01, 2.98993063e-01],\n",
       "       [8.51770818e-06, 2.57989725e-02, 9.74192510e-01],\n",
       "       [2.75732104e-02, 9.46884457e-01, 2.55423322e-02],\n",
       "       [8.51924908e-03, 8.27260118e-01, 1.64220633e-01],\n",
       "       [1.68726969e-05, 3.91631328e-02, 9.60819994e-01],\n",
       "       [9.61408152e-01, 3.85915680e-02, 2.80378315e-07],\n",
       "       [1.39297334e-03, 3.98536517e-01, 6.00070510e-01],\n",
       "       [9.58705108e-01, 4.12945079e-02, 3.84156077e-07],\n",
       "       [2.18648549e-05, 4.95010235e-02, 9.50477112e-01],\n",
       "       [1.80527052e-06, 2.40233476e-02, 9.75974847e-01],\n",
       "       [1.04910008e-04, 1.09323242e-01, 8.90571848e-01],\n",
       "       [1.06003833e-05, 6.41929017e-02, 9.35796498e-01],\n",
       "       [5.01763204e-06, 1.96550615e-02, 9.80339921e-01],\n",
       "       [9.63696511e-01, 3.63032953e-02, 1.93836705e-07],\n",
       "       [9.52733722e-01, 4.72659455e-02, 3.32969180e-07],\n",
       "       [9.93730012e-01, 6.26997962e-03, 8.18690293e-09],\n",
       "       [9.81367490e-01, 1.86324465e-02, 6.35452459e-08],\n",
       "       [6.69193755e-03, 9.06628178e-01, 8.66798844e-02],\n",
       "       [9.66831367e-01, 3.31684193e-02, 2.13494811e-07],\n",
       "       [9.83964012e-01, 1.60359271e-02, 6.10839778e-08],\n",
       "       [3.45942357e-04, 2.76974763e-01, 7.22679294e-01],\n",
       "       [7.19080849e-03, 8.35996262e-01, 1.56812929e-01],\n",
       "       [9.66155495e-01, 3.38443790e-02, 1.25692207e-07]])"
      ]
     },
     "execution_count": 44,
     "metadata": {},
     "output_type": "execute_result"
    }
   ],
   "source": [
    "model.predict_proba(X_test)"
   ]
  },
  {
   "cell_type": "code",
   "execution_count": 45,
   "id": "cbc40319",
   "metadata": {},
   "outputs": [
    {
     "data": {
      "text/plain": [
       "array([1., 1., 1., 1., 1., 1., 1., 1., 1., 1., 1., 1., 1., 1., 1., 1., 1.,\n",
       "       1., 1., 1., 1., 1., 1., 1., 1., 1., 1., 1., 1., 1., 1., 1., 1., 1.,\n",
       "       1., 1., 1., 1.])"
      ]
     },
     "execution_count": 45,
     "metadata": {},
     "output_type": "execute_result"
    }
   ],
   "source": [
    "np.sum(model.predict_proba(X_test),axis =1) \n",
    "# observe how all probabilities in each row add to 1\n",
    "# This is the property of softmax function."
   ]
  },
  {
   "cell_type": "code",
   "execution_count": 46,
   "id": "4707aede",
   "metadata": {
    "scrolled": true
   },
   "outputs": [
    {
     "data": {
      "text/plain": [
       "array([1, 0, 2, 1, 1, 0, 1, 2, 1, 1, 2, 0, 0, 0, 0, 1, 2, 1, 1, 2, 0, 2,\n",
       "       0, 2, 2, 2, 2, 2, 0, 0, 0, 0, 1, 0, 0, 2, 1, 0])"
      ]
     },
     "execution_count": 46,
     "metadata": {},
     "output_type": "execute_result"
    }
   ],
   "source": [
    "y_test #Actual Values"
   ]
  },
  {
   "cell_type": "code",
   "execution_count": 47,
   "id": "4224a0f5",
   "metadata": {
    "scrolled": true
   },
   "outputs": [
    {
     "data": {
      "text/plain": [
       "array([[6.1, 2.8, 4.7, 1.2],\n",
       "       [5.7, 3.8, 1.7, 0.3],\n",
       "       [7.7, 2.6, 6.9, 2.3],\n",
       "       [6. , 2.9, 4.5, 1.5],\n",
       "       [6.8, 2.8, 4.8, 1.4],\n",
       "       [5.4, 3.4, 1.5, 0.4],\n",
       "       [5.6, 2.9, 3.6, 1.3],\n",
       "       [6.9, 3.1, 5.1, 2.3],\n",
       "       [6.2, 2.2, 4.5, 1.5],\n",
       "       [5.8, 2.7, 3.9, 1.2],\n",
       "       [6.5, 3.2, 5.1, 2. ],\n",
       "       [4.8, 3. , 1.4, 0.1],\n",
       "       [5.5, 3.5, 1.3, 0.2],\n",
       "       [4.9, 3.1, 1.5, 0.1],\n",
       "       [5.1, 3.8, 1.5, 0.3],\n",
       "       [6.3, 3.3, 4.7, 1.6],\n",
       "       [6.5, 3. , 5.8, 2.2],\n",
       "       [5.6, 2.5, 3.9, 1.1],\n",
       "       [5.7, 2.8, 4.5, 1.3],\n",
       "       [6.4, 2.8, 5.6, 2.2],\n",
       "       [4.7, 3.2, 1.6, 0.2],\n",
       "       [6.1, 3. , 4.9, 1.8],\n",
       "       [5. , 3.4, 1.6, 0.4],\n",
       "       [6.4, 2.8, 5.6, 2.1],\n",
       "       [7.9, 3.8, 6.4, 2. ],\n",
       "       [6.7, 3. , 5.2, 2.3],\n",
       "       [6.7, 2.5, 5.8, 1.8],\n",
       "       [6.8, 3.2, 5.9, 2.3],\n",
       "       [4.8, 3. , 1.4, 0.3],\n",
       "       [4.8, 3.1, 1.6, 0.2],\n",
       "       [4.6, 3.6, 1. , 0.2],\n",
       "       [5.7, 4.4, 1.5, 0.4],\n",
       "       [6.7, 3.1, 4.4, 1.4],\n",
       "       [4.8, 3.4, 1.6, 0.2],\n",
       "       [4.4, 3.2, 1.3, 0.2],\n",
       "       [6.3, 2.5, 5. , 1.9],\n",
       "       [6.4, 3.2, 4.5, 1.5],\n",
       "       [5.2, 3.5, 1.5, 0.2]])"
      ]
     },
     "execution_count": 47,
     "metadata": {},
     "output_type": "execute_result"
    }
   ],
   "source": [
    "X_test"
   ]
  },
  {
   "cell_type": "code",
   "execution_count": 48,
   "id": "8842ba7d",
   "metadata": {},
   "outputs": [
    {
     "name": "stdout",
     "output_type": "stream",
     "text": [
      "[[ 0 15]\n",
      " [ 1 11]\n",
      " [ 2 12]]\n"
     ]
    }
   ],
   "source": [
    "#checking the occurances in of each unique value in test set\n",
    "unique, counts = np.unique(y_test, return_counts=True)\n",
    "result = np.column_stack((unique, counts)) \n",
    "print (result)"
   ]
  },
  {
   "cell_type": "code",
   "execution_count": 49,
   "id": "eb2b998f",
   "metadata": {},
   "outputs": [
    {
     "data": {
      "text/plain": [
       "array([1, 0, 2, 1, 1, 0, 1, 2, 1, 1, 2, 0, 0, 0, 0, 1, 2, 1, 1, 2, 0, 2,\n",
       "       0, 2, 2, 2, 2, 2, 0, 0, 0, 0, 1, 0, 0, 2, 1, 0])"
      ]
     },
     "execution_count": 49,
     "metadata": {},
     "output_type": "execute_result"
    }
   ],
   "source": [
    "y_pred = model.predict(X_test)\n",
    "y_pred"
   ]
  },
  {
   "cell_type": "code",
   "execution_count": 50,
   "id": "fdde8f5f",
   "metadata": {},
   "outputs": [
    {
     "data": {
      "text/plain": [
       "1.0"
      ]
     },
     "execution_count": 50,
     "metadata": {},
     "output_type": "execute_result"
    }
   ],
   "source": [
    "model.score(X_test,y_test)"
   ]
  },
  {
   "cell_type": "code",
   "execution_count": 51,
   "id": "65c49f2c",
   "metadata": {},
   "outputs": [],
   "source": [
    "from sklearn.metrics import confusion_matrix\n",
    "cm = confusion_matrix(y_test,y_pred)"
   ]
  },
  {
   "cell_type": "code",
   "execution_count": 52,
   "id": "d2d8548d",
   "metadata": {},
   "outputs": [
    {
     "data": {
      "text/plain": [
       "Text(24.0, 0.5, 'True')"
      ]
     },
     "execution_count": 52,
     "metadata": {},
     "output_type": "execute_result"
    },
    {
     "data": {
      "image/png": "[encoded data removed]",
      "text/plain": [
       "<Figure size 360x252 with 2 Axes>"
      ]
     },
     "metadata": {
      "needs_background": "light"
     },
     "output_type": "display_data"
    }
   ],
   "source": [
    "import seaborn as sn\n",
    "plt.figure (figsize =(5,3.5))\n",
    "sn.heatmap(cm, annot = True,fmt = \"d\")\n",
    "plt.xlabel(\"Predicted\")\n",
    "plt.ylabel(\"True\")"
   ]
  },
  {
   "cell_type": "code",
   "execution_count": null,
   "id": "97a18adf",
   "metadata": {},
   "outputs": [],
   "source": []
  }
 ],
 "metadata": {
  "kernelspec": {
   "display_name": "Python 3 (ipykernel)",
   "language": "python",
   "name": "python3"
  },
  "language_info": {
   "codemirror_mode": {
    "name": "ipython",
    "version": 3
   },
   "file_extension": ".py",
   "mimetype": "text/x-python",
   "name": "python",
   "nbconvert_exporter": "python",
   "pygments_lexer": "ipython3",
   "version": "3.9.12"
  }
 },
 "nbformat": 4,
 "nbformat_minor": 5
}
