{
 "cells": [
  {
   "cell_type": "code",
   "execution_count": 1,
   "id": "1a85f983",
   "metadata": {},
   "outputs": [],
   "source": [
    "%matplotlib inline\n",
    "from matplotlib import pyplot as plt\n",
    "from sklearn.datasets import load_digits"
   ]
  },
  {
   "cell_type": "markdown",
   "id": "1930e972",
   "metadata": {},
   "source": [
    "__Data Exploration by Importing load_digits from sklearn__"
   ]
  },
  {
   "cell_type": "code",
   "execution_count": 2,
   "id": "239d7001",
   "metadata": {},
   "outputs": [],
   "source": [
    "digits = load_digits()"
   ]
  },
  {
   "cell_type": "code",
   "execution_count": 3,
   "id": "d8233cb1",
   "metadata": {},
   "outputs": [
    {
     "data": {
      "text/plain": [
       "['DESCR', 'data', 'feature_names', 'frame', 'images', 'target', 'target_names']"
      ]
     },
     "execution_count": 3,
     "metadata": {},
     "output_type": "execute_result"
    }
   ],
   "source": [
    "dir(digits)"
   ]
  },
  {
   "cell_type": "code",
   "execution_count": 4,
   "id": "f17e5c3f",
   "metadata": {},
   "outputs": [
    {
     "data": {
      "text/plain": [
       "array([[ 0.,  0.,  5., ...,  0.,  0.,  0.],\n",
       "       [ 0.,  0.,  0., ..., 10.,  0.,  0.],\n",
       "       [ 0.,  0.,  0., ..., 16.,  9.,  0.],\n",
       "       ...,\n",
       "       [ 0.,  0.,  1., ...,  6.,  0.,  0.],\n",
       "       [ 0.,  0.,  2., ..., 12.,  0.,  0.],\n",
       "       [ 0.,  0., 10., ..., 12.,  1.,  0.]])"
      ]
     },
     "execution_count": 4,
     "metadata": {},
     "output_type": "execute_result"
    }
   ],
   "source": [
    "digits.data #2d Array"
   ]
  },
  {
   "cell_type": "code",
   "execution_count": 5,
   "id": "29db9101",
   "metadata": {},
   "outputs": [
    {
     "data": {
      "text/plain": [
       "array([ 0.,  0.,  5., 13.,  9.,  1.,  0.,  0.,  0.,  0., 13., 15., 10.,\n",
       "       15.,  5.,  0.,  0.,  3., 15.,  2.,  0., 11.,  8.,  0.,  0.,  4.,\n",
       "       12.,  0.,  0.,  8.,  8.,  0.,  0.,  5.,  8.,  0.,  0.,  9.,  8.,\n",
       "        0.,  0.,  4., 11.,  0.,  1., 12.,  7.,  0.,  0.,  2., 14.,  5.,\n",
       "       10., 12.,  0.,  0.,  0.,  0.,  6., 13., 10.,  0.,  0.,  0.])"
      ]
     },
     "execution_count": 5,
     "metadata": {},
     "output_type": "execute_result"
    }
   ],
   "source": [
    "digits.data[0] #Accessing first element - 1d Flattedned array"
   ]
  },
  {
   "cell_type": "code",
   "execution_count": 6,
   "id": "d8fcfda2",
   "metadata": {
    "scrolled": true
   },
   "outputs": [
    {
     "data": {
      "text/plain": [
       "array([[[ 0.,  0.,  5., ...,  1.,  0.,  0.],\n",
       "        [ 0.,  0., 13., ..., 15.,  5.,  0.],\n",
       "        [ 0.,  3., 15., ..., 11.,  8.,  0.],\n",
       "        ...,\n",
       "        [ 0.,  4., 11., ..., 12.,  7.,  0.],\n",
       "        [ 0.,  2., 14., ..., 12.,  0.,  0.],\n",
       "        [ 0.,  0.,  6., ...,  0.,  0.,  0.]],\n",
       "\n",
       "       [[ 0.,  0.,  0., ...,  5.,  0.,  0.],\n",
       "        [ 0.,  0.,  0., ...,  9.,  0.,  0.],\n",
       "        [ 0.,  0.,  3., ...,  6.,  0.,  0.],\n",
       "        ...,\n",
       "        [ 0.,  0.,  1., ...,  6.,  0.,  0.],\n",
       "        [ 0.,  0.,  1., ...,  6.,  0.,  0.],\n",
       "        [ 0.,  0.,  0., ..., 10.,  0.,  0.]],\n",
       "\n",
       "       [[ 0.,  0.,  0., ..., 12.,  0.,  0.],\n",
       "        [ 0.,  0.,  3., ..., 14.,  0.,  0.],\n",
       "        [ 0.,  0.,  8., ..., 16.,  0.,  0.],\n",
       "        ...,\n",
       "        [ 0.,  9., 16., ...,  0.,  0.,  0.],\n",
       "        [ 0.,  3., 13., ..., 11.,  5.,  0.],\n",
       "        [ 0.,  0.,  0., ..., 16.,  9.,  0.]],\n",
       "\n",
       "       ...,\n",
       "\n",
       "       [[ 0.,  0.,  1., ...,  1.,  0.,  0.],\n",
       "        [ 0.,  0., 13., ...,  2.,  1.,  0.],\n",
       "        [ 0.,  0., 16., ..., 16.,  5.,  0.],\n",
       "        ...,\n",
       "        [ 0.,  0., 16., ..., 15.,  0.,  0.],\n",
       "        [ 0.,  0., 15., ..., 16.,  0.,  0.],\n",
       "        [ 0.,  0.,  2., ...,  6.,  0.,  0.]],\n",
       "\n",
       "       [[ 0.,  0.,  2., ...,  0.,  0.,  0.],\n",
       "        [ 0.,  0., 14., ..., 15.,  1.,  0.],\n",
       "        [ 0.,  4., 16., ..., 16.,  7.,  0.],\n",
       "        ...,\n",
       "        [ 0.,  0.,  0., ..., 16.,  2.,  0.],\n",
       "        [ 0.,  0.,  4., ..., 16.,  2.,  0.],\n",
       "        [ 0.,  0.,  5., ..., 12.,  0.,  0.]],\n",
       "\n",
       "       [[ 0.,  0., 10., ...,  1.,  0.,  0.],\n",
       "        [ 0.,  2., 16., ...,  1.,  0.,  0.],\n",
       "        [ 0.,  0., 15., ..., 15.,  0.,  0.],\n",
       "        ...,\n",
       "        [ 0.,  4., 16., ..., 16.,  6.,  0.],\n",
       "        [ 0.,  8., 16., ..., 16.,  8.,  0.],\n",
       "        [ 0.,  1.,  8., ..., 12.,  1.,  0.]]])"
      ]
     },
     "execution_count": 6,
     "metadata": {},
     "output_type": "execute_result"
    }
   ],
   "source": [
    "digits.images #3d Array"
   ]
  },
  {
   "cell_type": "code",
   "execution_count": 7,
   "id": "81aed076",
   "metadata": {},
   "outputs": [
    {
     "data": {
      "text/plain": [
       "array([[ 0.,  0.,  5., 13.,  9.,  1.,  0.,  0.],\n",
       "       [ 0.,  0., 13., 15., 10., 15.,  5.,  0.],\n",
       "       [ 0.,  3., 15.,  2.,  0., 11.,  8.,  0.],\n",
       "       [ 0.,  4., 12.,  0.,  0.,  8.,  8.,  0.],\n",
       "       [ 0.,  5.,  8.,  0.,  0.,  9.,  8.,  0.],\n",
       "       [ 0.,  4., 11.,  0.,  1., 12.,  7.,  0.],\n",
       "       [ 0.,  2., 14.,  5., 10., 12.,  0.,  0.],\n",
       "       [ 0.,  0.,  6., 13., 10.,  0.,  0.,  0.]])"
      ]
     },
     "execution_count": 7,
     "metadata": {},
     "output_type": "execute_result"
    }
   ],
   "source": [
    "digits.images[0] # Accessing first element - 2d non flattened array (8x8 dimension)"
   ]
  },
  {
   "cell_type": "code",
   "execution_count": 8,
   "id": "fad37712",
   "metadata": {},
   "outputs": [
    {
     "data": {
      "text/plain": [
       "(1797, 8, 8)"
      ]
     },
     "execution_count": 8,
     "metadata": {},
     "output_type": "execute_result"
    }
   ],
   "source": [
    "digits.images.shape"
   ]
  },
  {
   "cell_type": "code",
   "execution_count": 9,
   "id": "2587700d",
   "metadata": {},
   "outputs": [
    {
     "data": {
      "text/plain": [
       "(1797, 64)"
      ]
     },
     "execution_count": 9,
     "metadata": {},
     "output_type": "execute_result"
    }
   ],
   "source": [
    "digits.data.shape # (1797 rows, 64 columns) "
   ]
  },
  {
   "cell_type": "code",
   "execution_count": 10,
   "id": "cf35479e",
   "metadata": {},
   "outputs": [
    {
     "data": {
      "text/plain": [
       "array([0, 1, 2, 3, 4, 5, 6, 7, 8, 9])"
      ]
     },
     "execution_count": 10,
     "metadata": {},
     "output_type": "execute_result"
    }
   ],
   "source": [
    "digits.target_names # target names"
   ]
  },
  {
   "cell_type": "code",
   "execution_count": 11,
   "id": "ba908be3",
   "metadata": {},
   "outputs": [
    {
     "data": {
      "text/plain": [
       "(1797,)"
      ]
     },
     "execution_count": 11,
     "metadata": {},
     "output_type": "execute_result"
    }
   ],
   "source": [
    "digits.target.shape #1d array of target values"
   ]
  },
  {
   "cell_type": "code",
   "execution_count": 12,
   "id": "462e870b",
   "metadata": {},
   "outputs": [
    {
     "data": {
      "text/plain": [
       "<matplotlib.image.AxesImage at 0xa45b103850>"
      ]
     },
     "execution_count": 12,
     "metadata": {},
     "output_type": "execute_result"
    },
    {
     "data": {
      "image/png": "[encoded data removed]",
      "text/plain": [
       "<Figure size 288x288 with 1 Axes>"
      ]
     },
     "metadata": {
      "needs_background": "light"
     },
     "output_type": "display_data"
    }
   ],
   "source": [
    "plt.matshow(digits.images[0])"
   ]
  },
  {
   "cell_type": "code",
   "execution_count": 13,
   "id": "7739dc8e",
   "metadata": {},
   "outputs": [
    {
     "data": {
      "text/plain": [
       "array([0, 1, 2, 3, 4])"
      ]
     },
     "execution_count": 13,
     "metadata": {},
     "output_type": "execute_result"
    }
   ],
   "source": [
    "digits.target[0:5]"
   ]
  },
  {
   "cell_type": "code",
   "execution_count": 14,
   "id": "b9a4601c",
   "metadata": {},
   "outputs": [
    {
     "name": "stdout",
     "output_type": "stream",
     "text": [
      "0\n",
      "1\n",
      "2\n",
      "3\n",
      "4\n"
     ]
    },
    {
     "data": {
      "image/png": "[encoded data removed]",
      "text/plain": [
       "<Figure size 288x288 with 1 Axes>"
      ]
     },
     "metadata": {
      "needs_background": "light"
     },
     "output_type": "display_data"
    },
    {
     "data": {
      "image/png": "[encoded data removed]",
      "text/plain": [
       "<Figure size 288x288 with 1 Axes>"
      ]
     },
     "metadata": {
      "needs_background": "light"
     },
     "output_type": "display_data"
    },
    {
     "data": {
      "image/png": "[encoded data removed]",
      "text/plain": [
       "<Figure size 288x288 with 1 Axes>"
      ]
     },
     "metadata": {
      "needs_background": "light"
     },
     "output_type": "display_data"
    },
    {
     "data": {
      "image/png": "[encoded data removed]",
      "text/plain": [
       "<Figure size 288x288 with 1 Axes>"
      ]
     },
     "metadata": {
      "needs_background": "light"
     },
     "output_type": "display_data"
    },
    {
     "data": {
      "image/png": "[encoded data removed]",
      "text/plain": [
       "<Figure size 288x288 with 1 Axes>"
      ]
     },
     "metadata": {
      "needs_background": "light"
     },
     "output_type": "display_data"
    }
   ],
   "source": [
    "for i in range(5): #iterating through first five images\n",
    "    plt.matshow(digits.images[i])\n",
    "    print(digits.target[i])"
   ]
  },
  {
   "cell_type": "markdown",
   "id": "17554278",
   "metadata": {},
   "source": [
    "__Splitting data__"
   ]
  },
  {
   "cell_type": "code",
   "execution_count": 15,
   "id": "ea3922e5",
   "metadata": {},
   "outputs": [],
   "source": [
    "from sklearn.model_selection import train_test_split"
   ]
  },
  {
   "cell_type": "code",
   "execution_count": 16,
   "id": "e0aa7568",
   "metadata": {},
   "outputs": [],
   "source": [
    "X_train, X_test, y_train, y_test = train_test_split(digits.data, digits.target) # (flattened 2d array,1d array)"
   ]
  },
  {
   "cell_type": "code",
   "execution_count": 17,
   "id": "60fb128e",
   "metadata": {},
   "outputs": [
    {
     "data": {
      "text/plain": [
       "((1347, 64), (450, 64), (1347,), (450,))"
      ]
     },
     "execution_count": 17,
     "metadata": {},
     "output_type": "execute_result"
    }
   ],
   "source": [
    "X_train.shape,X_test.shape,y_train.shape,y_test.shape #printing shapes"
   ]
  },
  {
   "cell_type": "code",
   "execution_count": 25,
   "id": "58edcc33",
   "metadata": {},
   "outputs": [
    {
     "data": {
      "text/plain": [
       "(1347, 450, 1347, 450)"
      ]
     },
     "execution_count": 25,
     "metadata": {},
     "output_type": "execute_result"
    }
   ],
   "source": [
    "len(X_train),len(X_test),len(y_train),len(y_test) #printing length"
   ]
  },
  {
   "cell_type": "code",
   "execution_count": 18,
   "id": "0137ab47",
   "metadata": {},
   "outputs": [
    {
     "name": "stderr",
     "output_type": "stream",
     "text": [
      "C:\\Users\\DELL\\anaconda3\\lib\\site-packages\\sklearn\\linear_model\\_logistic.py:814: ConvergenceWarning: lbfgs failed to converge (status=1):\n",
      "STOP: TOTAL NO. of ITERATIONS REACHED LIMIT.\n",
      "\n",
      "Increase the number of iterations (max_iter) or scale the data as shown in:\n",
      "    https://scikit-learn.org/stable/modules/preprocessing.html\n",
      "Please also refer to the documentation for alternative solver options:\n",
      "    https://scikit-learn.org/stable/modules/linear_model.html#logistic-regression\n",
      "  n_iter_i = _check_optimize_result(\n"
     ]
    },
    {
     "data": {
      "text/plain": [
       "LogisticRegression()"
      ]
     },
     "execution_count": 18,
     "metadata": {},
     "output_type": "execute_result"
    }
   ],
   "source": [
    "from sklearn.linear_model import LogisticRegression\n",
    "model = LogisticRegression()\n",
    "model.fit(X_train,y_train)"
   ]
  },
  {
   "cell_type": "code",
   "execution_count": 19,
   "id": "99f8d865",
   "metadata": {},
   "outputs": [
    {
     "data": {
      "text/plain": [
       "array([7, 8, 1, 7, 9, 9, 9, 0, 7, 7, 7, 6, 9, 3, 4, 3, 2, 5, 5, 3, 6, 0,\n",
       "       2, 8, 6, 4, 3, 4, 5, 8, 3, 4, 8, 6, 3, 9, 4, 7, 1, 0, 9, 5, 1, 1,\n",
       "       5, 8, 8, 3, 8, 3, 9, 3, 7, 5, 3, 5, 2, 2, 9, 7, 7, 3, 9, 7, 9, 3,\n",
       "       9, 7, 4, 5, 5, 9, 3, 4, 0, 7, 2, 3, 2, 7, 1, 4, 6, 8, 1, 6, 1, 6,\n",
       "       2, 2, 7, 9, 6, 0, 5, 6, 7, 0, 5, 2, 9, 1, 0, 7, 3, 8, 0, 0, 2, 4,\n",
       "       7, 3, 0, 6, 2, 9, 2, 9, 0, 1, 8, 4, 6, 6, 2, 8, 6, 4, 8, 8, 0, 1,\n",
       "       4, 9, 2, 9, 6, 1, 8, 5, 1, 5, 9, 3, 8, 9, 2, 2, 2, 4, 3, 0, 0, 6,\n",
       "       8, 4, 5, 3, 1, 8, 8, 2, 3, 7, 8, 5, 2, 4, 2, 8, 4, 1, 7, 4, 8, 8,\n",
       "       2, 3, 3, 1, 4, 7, 2, 3, 5, 7, 8, 0, 3, 8, 3, 3, 4, 9, 4, 7, 6, 9,\n",
       "       6, 7, 9, 1, 7, 2, 0, 0, 1, 1, 9, 0, 5, 1, 7, 8, 2, 2, 9, 7, 7, 6,\n",
       "       0, 9, 2, 1, 7, 1, 1, 5, 4, 6, 9, 6, 9, 2, 5, 2, 7, 4, 7, 0, 4, 8,\n",
       "       3, 9, 9, 6, 3, 7, 3, 3, 3, 3, 4, 7, 0, 8, 7, 4, 6, 7, 6, 1, 2, 5,\n",
       "       6, 4, 5, 6, 6, 3, 7, 6, 5, 1, 6, 8, 7, 2, 6, 0, 7, 5, 6, 2, 4, 1,\n",
       "       8, 2, 5, 8, 3, 4, 6, 0, 2, 2, 1, 1, 4, 5, 0, 5, 5, 4, 9, 9, 1, 7,\n",
       "       5, 4, 5, 2, 1, 8, 7, 5, 2, 7, 8, 0, 2, 2, 3, 3, 2, 2, 6, 5, 0, 2,\n",
       "       8, 0, 4, 4, 7, 9, 0, 2, 4, 5, 4, 7, 8, 8, 3, 3, 0, 5, 4, 9, 3, 8,\n",
       "       4, 4, 6, 4, 0, 3, 9, 6, 0, 0, 7, 8, 9, 0, 6, 1, 1, 8, 3, 2, 1, 1,\n",
       "       4, 9, 9, 9, 6, 6, 3, 6, 4, 1, 3, 1, 8, 3, 6, 3, 0, 3, 3, 6, 1, 7,\n",
       "       2, 9, 4, 9, 0, 6, 4, 4, 9, 0, 9, 9, 5, 7, 4, 8, 6, 0, 9, 4, 5, 1,\n",
       "       0, 7, 2, 0, 0, 0, 6, 2, 6, 9, 9, 3, 3, 8, 5, 1, 2, 0, 9, 9, 2, 1,\n",
       "       5, 8, 8, 3, 7, 9, 8, 5, 0, 3])"
      ]
     },
     "execution_count": 19,
     "metadata": {},
     "output_type": "execute_result"
    }
   ],
   "source": [
    "y_pred = model.predict(X_test) #pedicted values\n",
    "y_pred"
   ]
  },
  {
   "cell_type": "code",
   "execution_count": 20,
   "id": "978f3055",
   "metadata": {},
   "outputs": [
    {
     "data": {
      "text/plain": [
       "array([7, 8, 1, 7, 4, 9, 9, 0, 7, 7, 4, 6, 9, 3, 4, 3, 2, 5, 5, 3, 6, 0,\n",
       "       2, 8, 6, 4, 9, 4, 5, 8, 3, 4, 8, 6, 3, 9, 4, 7, 1, 0, 9, 5, 1, 1,\n",
       "       5, 8, 8, 3, 1, 3, 9, 3, 7, 5, 3, 5, 2, 2, 9, 7, 7, 3, 9, 7, 7, 3,\n",
       "       9, 7, 4, 5, 5, 9, 3, 4, 0, 7, 2, 3, 2, 7, 1, 4, 6, 8, 1, 6, 1, 6,\n",
       "       2, 2, 7, 9, 6, 0, 5, 6, 7, 0, 5, 2, 9, 1, 0, 7, 3, 8, 0, 0, 2, 4,\n",
       "       7, 3, 0, 6, 2, 9, 2, 9, 0, 1, 1, 4, 6, 6, 2, 8, 6, 4, 8, 8, 0, 1,\n",
       "       4, 9, 2, 9, 6, 1, 8, 5, 1, 5, 9, 3, 8, 9, 2, 2, 2, 8, 3, 0, 0, 6,\n",
       "       1, 4, 5, 3, 1, 8, 8, 2, 3, 7, 8, 5, 2, 4, 2, 8, 4, 1, 7, 4, 8, 8,\n",
       "       2, 3, 3, 4, 4, 7, 2, 3, 5, 7, 8, 0, 3, 8, 3, 3, 5, 7, 4, 7, 6, 9,\n",
       "       6, 7, 9, 1, 7, 2, 0, 0, 1, 1, 9, 0, 5, 1, 7, 8, 2, 2, 9, 7, 9, 6,\n",
       "       0, 9, 2, 1, 7, 1, 1, 5, 4, 6, 9, 6, 9, 2, 5, 2, 7, 4, 7, 0, 4, 8,\n",
       "       3, 9, 9, 6, 3, 7, 3, 3, 3, 3, 4, 7, 0, 8, 7, 4, 6, 7, 6, 1, 2, 5,\n",
       "       6, 4, 5, 6, 6, 3, 7, 6, 5, 1, 6, 8, 7, 2, 6, 0, 7, 5, 6, 2, 4, 1,\n",
       "       8, 2, 5, 8, 3, 4, 6, 0, 2, 2, 1, 1, 4, 5, 0, 5, 5, 4, 9, 9, 1, 7,\n",
       "       5, 4, 5, 2, 1, 8, 7, 5, 2, 7, 8, 0, 2, 2, 3, 3, 2, 2, 6, 3, 0, 2,\n",
       "       8, 0, 4, 4, 7, 9, 0, 2, 4, 5, 4, 7, 9, 8, 3, 3, 0, 5, 4, 9, 3, 8,\n",
       "       4, 4, 6, 4, 0, 3, 9, 6, 0, 0, 7, 8, 9, 0, 6, 1, 1, 8, 3, 2, 1, 1,\n",
       "       4, 9, 9, 9, 6, 6, 3, 6, 4, 1, 3, 1, 8, 3, 6, 3, 0, 3, 3, 6, 1, 7,\n",
       "       2, 9, 4, 9, 0, 6, 4, 4, 9, 0, 9, 9, 5, 7, 4, 8, 6, 0, 9, 4, 5, 1,\n",
       "       0, 7, 2, 0, 0, 0, 6, 2, 6, 9, 9, 3, 3, 8, 5, 1, 2, 0, 9, 9, 2, 1,\n",
       "       5, 8, 8, 3, 7, 9, 8, 5, 0, 3])"
      ]
     },
     "execution_count": 20,
     "metadata": {},
     "output_type": "execute_result"
    }
   ],
   "source": [
    "y_test #Actual Values"
   ]
  },
  {
   "cell_type": "code",
   "execution_count": 21,
   "id": "2209454c",
   "metadata": {},
   "outputs": [
    {
     "data": {
      "text/plain": [
       "0.9688888888888889"
      ]
     },
     "execution_count": 21,
     "metadata": {},
     "output_type": "execute_result"
    }
   ],
   "source": [
    "model.score(X_test,y_test)"
   ]
  },
  {
   "cell_type": "markdown",
   "id": "876f5607",
   "metadata": {},
   "source": [
    "__Confusion Matrix (sklearn) and (seaborn)__ \n",
    "\n",
    "    Can also plot confusion matrix using tensorflow"
   ]
  },
  {
   "cell_type": "code",
   "execution_count": 22,
   "id": "5347df33",
   "metadata": {},
   "outputs": [],
   "source": [
    "from sklearn.metrics import confusion_matrix\n",
    "cm = confusion_matrix(y_test,y_pred)"
   ]
  },
  {
   "cell_type": "code",
   "execution_count": 23,
   "id": "c215d2de",
   "metadata": {},
   "outputs": [
    {
     "data": {
      "text/plain": [
       "Text(69.0, 0.5, 'True')"
      ]
     },
     "execution_count": 23,
     "metadata": {},
     "output_type": "execute_result"
    },
    {
     "data": {
      "image/png": "[encoded data removed]",
      "text/plain": [
       "<Figure size 720x504 with 2 Axes>"
      ]
     },
     "metadata": {
      "needs_background": "light"
     },
     "output_type": "display_data"
    }
   ],
   "source": [
    "import seaborn as sn\n",
    "plt.figure (figsize =(10,7))\n",
    "sn.heatmap(cm, annot = True,fmt = \"d\" )\n",
    "plt.xlabel(\"Predicted\")\n",
    "plt.ylabel(\"True\")"
   ]
  },
  {
   "cell_type": "code",
   "execution_count": null,
   "id": "b91579c8",
   "metadata": {},
   "outputs": [],
   "source": []
  }
 ],
 "metadata": {
  "kernelspec": {
   "display_name": "Python 3 (ipykernel)",
   "language": "python",
   "name": "python3"
  },
  "language_info": {
   "codemirror_mode": {
    "name": "ipython",
    "version": 3
   },
   "file_extension": ".py",
   "mimetype": "text/x-python",
   "name": "python",
   "nbconvert_exporter": "python",
   "pygments_lexer": "ipython3",
   "version": "3.9.12"
  }
 },
 "nbformat": 4,
 "nbformat_minor": 5
}
