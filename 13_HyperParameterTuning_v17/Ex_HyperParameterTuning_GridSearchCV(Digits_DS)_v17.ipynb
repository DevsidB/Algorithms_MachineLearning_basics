{
 "cells": [
  {
   "cell_type": "code",
   "execution_count": 1,
   "id": "420ef292",
   "metadata": {},
   "outputs": [],
   "source": [
    "import warnings\n",
    "warnings.filterwarnings('ignore')"
   ]
  },
  {
   "cell_type": "code",
   "execution_count": 2,
   "id": "22c1897b",
   "metadata": {},
   "outputs": [],
   "source": [
    "%matplotlib inline\n",
    "from matplotlib import pyplot as plt\n",
    "from sklearn.datasets import load_digits\n",
    "import pandas as pd\n",
    "import numpy as np"
   ]
  },
  {
   "cell_type": "code",
   "execution_count": 3,
   "id": "fe3e59e8",
   "metadata": {},
   "outputs": [
    {
     "data": {
      "text/plain": [
       "['DESCR', 'data', 'feature_names', 'frame', 'images', 'target', 'target_names']"
      ]
     },
     "execution_count": 3,
     "metadata": {},
     "output_type": "execute_result"
    }
   ],
   "source": [
    "digits = load_digits()\n",
    "dir(digits)"
   ]
  },
  {
   "cell_type": "code",
   "execution_count": 4,
   "id": "c45740d9",
   "metadata": {},
   "outputs": [],
   "source": [
    "from sklearn.svm import SVC\n",
    "from sklearn.ensemble import RandomForestClassifier\n",
    "from sklearn.linear_model import LogisticRegression\n",
    "from sklearn.naive_bayes import GaussianNB\n",
    "from sklearn.naive_bayes import MultinomialNB\n",
    "from sklearn.tree import DecisionTreeClassifier"
   ]
  },
  {
   "cell_type": "code",
   "execution_count": 5,
   "id": "1bc72829",
   "metadata": {},
   "outputs": [],
   "source": [
    "model_params = {                           # creating model porameters\n",
    "    'svm': {\n",
    "        'model': SVC(gamma='auto'),\n",
    "        'params': {\n",
    "            'C':[1,10,20],\n",
    "            'kernel': ['rbf','linear']\n",
    "        }\n",
    "    },\n",
    "    'random_forest':{\n",
    "        'model': RandomForestClassifier(),\n",
    "        'params': {\n",
    "            'n_estimators': [1,5,10]\n",
    "        }\n",
    "    },\n",
    "    'logistic_regression': {\n",
    "        'model': LogisticRegression(),\n",
    "        'params': {\n",
    "            'C': [1,5,10]\n",
    "        }\n",
    "    },\n",
    "     'Gaussian_NB': {\n",
    "        'model': GaussianNB(),\n",
    "        'params': {\n",
    "       \n",
    "        }\n",
    "    },\n",
    "     'Multinomial_NB': {\n",
    "        'model': MultinomialNB(),\n",
    "        'params': {\n",
    "           \n",
    "        }\n",
    "    },\n",
    "     'Decision_Tree_Classifier': {\n",
    "        'model': DecisionTreeClassifier(),\n",
    "        'params': {\n",
    "            'criterion': ['gini','entropy']\n",
    "        }\n",
    "    }\n",
    "}"
   ]
  },
  {
   "cell_type": "code",
   "execution_count": 6,
   "id": "9ca984c1",
   "metadata": {},
   "outputs": [
    {
     "data": {
      "text/plain": [
       "{'svm': {'model': SVC(gamma='auto'),\n",
       "  'params': {'C': [1, 10, 20], 'kernel': ['rbf', 'linear']}},\n",
       " 'random_forest': {'model': RandomForestClassifier(),\n",
       "  'params': {'n_estimators': [1, 5, 10]}},\n",
       " 'logistic_regression': {'model': LogisticRegression(),\n",
       "  'params': {'C': [1, 5, 10]}},\n",
       " 'Gaussian_NB': {'model': GaussianNB(), 'params': {}},\n",
       " 'Multinomial_NB': {'model': MultinomialNB(), 'params': {}},\n",
       " 'Decision_Tree_Classifier': {'model': DecisionTreeClassifier(),\n",
       "  'params': {'criterion': ['gini', 'entropy']}}}"
      ]
     },
     "execution_count": 6,
     "metadata": {},
     "output_type": "execute_result"
    }
   ],
   "source": [
    "model_params"
   ]
  },
  {
   "cell_type": "code",
   "execution_count": 7,
   "id": "e40f706e",
   "metadata": {},
   "outputs": [
    {
     "data": {
      "text/html": [
       "<div>\n",
       "<style scoped>\n",
       "    .dataframe tbody tr th:only-of-type {\n",
       "        vertical-align: middle;\n",
       "    }\n",
       "\n",
       "    .dataframe tbody tr th {\n",
       "        vertical-align: top;\n",
       "    }\n",
       "\n",
       "    .dataframe thead th {\n",
       "        text-align: right;\n",
       "    }\n",
       "</style>\n",
       "<table border=\"1\" class=\"dataframe\">\n",
       "  <thead>\n",
       "    <tr style=\"text-align: right;\">\n",
       "      <th></th>\n",
       "      <th>svm</th>\n",
       "      <th>random_forest</th>\n",
       "      <th>logistic_regression</th>\n",
       "      <th>Gaussian_NB</th>\n",
       "      <th>Multinomial_NB</th>\n",
       "      <th>Decision_Tree_Classifier</th>\n",
       "    </tr>\n",
       "  </thead>\n",
       "  <tbody>\n",
       "    <tr>\n",
       "      <th>model</th>\n",
       "      <td>SVC(gamma='auto')</td>\n",
       "      <td>RandomForestClassifier()</td>\n",
       "      <td>LogisticRegression()</td>\n",
       "      <td>GaussianNB()</td>\n",
       "      <td>MultinomialNB()</td>\n",
       "      <td>DecisionTreeClassifier()</td>\n",
       "    </tr>\n",
       "    <tr>\n",
       "      <th>params</th>\n",
       "      <td>{'C': [1, 10, 20], 'kernel': ['rbf', 'linear']}</td>\n",
       "      <td>{'n_estimators': [1, 5, 10]}</td>\n",
       "      <td>{'C': [1, 5, 10]}</td>\n",
       "      <td>{}</td>\n",
       "      <td>{}</td>\n",
       "      <td>{'criterion': ['gini', 'entropy']}</td>\n",
       "    </tr>\n",
       "  </tbody>\n",
       "</table>\n",
       "</div>"
      ],
      "text/plain": [
       "                                                    svm  \\\n",
       "model                                 SVC(gamma='auto')   \n",
       "params  {'C': [1, 10, 20], 'kernel': ['rbf', 'linear']}   \n",
       "\n",
       "                       random_forest   logistic_regression   Gaussian_NB  \\\n",
       "model       RandomForestClassifier()  LogisticRegression()  GaussianNB()   \n",
       "params  {'n_estimators': [1, 5, 10]}     {'C': [1, 5, 10]}            {}   \n",
       "\n",
       "         Multinomial_NB            Decision_Tree_Classifier  \n",
       "model   MultinomialNB()            DecisionTreeClassifier()  \n",
       "params               {}  {'criterion': ['gini', 'entropy']}  "
      ]
     },
     "execution_count": 7,
     "metadata": {},
     "output_type": "execute_result"
    }
   ],
   "source": [
    "df_params = pd.DataFrame(model_params) # creating and viewing the newly created parameters in dataframe.\n",
    "df_params"
   ]
  },
  {
   "cell_type": "code",
   "execution_count": 10,
   "id": "37f9fa64",
   "metadata": {},
   "outputs": [],
   "source": [
    "from sklearn.model_selection import GridSearchCV #takes (estimator, param_grid, cv)"
   ]
  },
  {
   "cell_type": "code",
   "execution_count": 11,
   "id": "d25411ea",
   "metadata": {},
   "outputs": [
    {
     "data": {
      "text/plain": [
       "[{'MODEL': 'svm',\n",
       "  'BEST SCORE': 0.9476973073351903,\n",
       "  'BEST PARAMS': {'C': 1, 'kernel': 'linear'}},\n",
       " {'MODEL': 'random_forest',\n",
       "  'BEST SCORE': 0.9020875889817394,\n",
       "  'BEST PARAMS': {'n_estimators': 10}},\n",
       " {'MODEL': 'logistic_regression',\n",
       "  'BEST SCORE': 0.9137650882079852,\n",
       "  'BEST PARAMS': {'C': 1}},\n",
       " {'MODEL': 'Gaussian_NB', 'BEST SCORE': 0.8069281956050759, 'BEST PARAMS': {}},\n",
       " {'MODEL': 'Multinomial_NB',\n",
       "  'BEST SCORE': 0.8703497369235531,\n",
       "  'BEST PARAMS': {}},\n",
       " {'MODEL': 'Decision_Tree_Classifier',\n",
       "  'BEST SCORE': 0.8080439492417207,\n",
       "  'BEST PARAMS': {'criterion': 'entropy'}}]"
      ]
     },
     "execution_count": 11,
     "metadata": {},
     "output_type": "execute_result"
    }
   ],
   "source": [
    "scores = []\n",
    "for i,j in model_params.items():\n",
    "    clf = GridSearchCV(j['model'], j['params'],cv =5)\n",
    "    clf.fit(digits.data,digits.target)\n",
    "    scores.append({\n",
    "        'MODEL': i,\n",
    "        'BEST SCORE': clf.best_score_,\n",
    "        'BEST PARAMS': clf.best_params_\n",
    "    })\n",
    "scores"
   ]
  },
  {
   "cell_type": "code",
   "execution_count": 12,
   "id": "2bfca978",
   "metadata": {},
   "outputs": [
    {
     "data": {
      "text/html": [
       "<div>\n",
       "<style scoped>\n",
       "    .dataframe tbody tr th:only-of-type {\n",
       "        vertical-align: middle;\n",
       "    }\n",
       "\n",
       "    .dataframe tbody tr th {\n",
       "        vertical-align: top;\n",
       "    }\n",
       "\n",
       "    .dataframe thead th {\n",
       "        text-align: right;\n",
       "    }\n",
       "</style>\n",
       "<table border=\"1\" class=\"dataframe\">\n",
       "  <thead>\n",
       "    <tr style=\"text-align: right;\">\n",
       "      <th></th>\n",
       "      <th>MODEL</th>\n",
       "      <th>BEST SCORE</th>\n",
       "      <th>BEST PARAMS</th>\n",
       "    </tr>\n",
       "  </thead>\n",
       "  <tbody>\n",
       "    <tr>\n",
       "      <th>0</th>\n",
       "      <td>svm</td>\n",
       "      <td>0.947697</td>\n",
       "      <td>{'C': 1, 'kernel': 'linear'}</td>\n",
       "    </tr>\n",
       "    <tr>\n",
       "      <th>1</th>\n",
       "      <td>random_forest</td>\n",
       "      <td>0.902088</td>\n",
       "      <td>{'n_estimators': 10}</td>\n",
       "    </tr>\n",
       "    <tr>\n",
       "      <th>2</th>\n",
       "      <td>logistic_regression</td>\n",
       "      <td>0.913765</td>\n",
       "      <td>{'C': 1}</td>\n",
       "    </tr>\n",
       "    <tr>\n",
       "      <th>3</th>\n",
       "      <td>Gaussian_NB</td>\n",
       "      <td>0.806928</td>\n",
       "      <td>{}</td>\n",
       "    </tr>\n",
       "    <tr>\n",
       "      <th>4</th>\n",
       "      <td>Multinomial_NB</td>\n",
       "      <td>0.870350</td>\n",
       "      <td>{}</td>\n",
       "    </tr>\n",
       "    <tr>\n",
       "      <th>5</th>\n",
       "      <td>Decision_Tree_Classifier</td>\n",
       "      <td>0.808044</td>\n",
       "      <td>{'criterion': 'entropy'}</td>\n",
       "    </tr>\n",
       "  </tbody>\n",
       "</table>\n",
       "</div>"
      ],
      "text/plain": [
       "                      MODEL  BEST SCORE                   BEST PARAMS\n",
       "0                       svm    0.947697  {'C': 1, 'kernel': 'linear'}\n",
       "1             random_forest    0.902088          {'n_estimators': 10}\n",
       "2       logistic_regression    0.913765                      {'C': 1}\n",
       "3               Gaussian_NB    0.806928                            {}\n",
       "4            Multinomial_NB    0.870350                            {}\n",
       "5  Decision_Tree_Classifier    0.808044      {'criterion': 'entropy'}"
      ]
     },
     "execution_count": 12,
     "metadata": {},
     "output_type": "execute_result"
    }
   ],
   "source": [
    "best_model_df = pd.DataFrame(scores) # creating dataframe from the above scores \n",
    "best_model_df"
   ]
  },
  {
   "cell_type": "code",
   "execution_count": 13,
   "id": "50d341d4",
   "metadata": {},
   "outputs": [
    {
     "data": {
      "text/plain": [
       "0.9476973073351903"
      ]
     },
     "execution_count": 13,
     "metadata": {},
     "output_type": "execute_result"
    }
   ],
   "source": [
    "max(best_model_df['BEST SCORE'])"
   ]
  },
  {
   "cell_type": "markdown",
   "id": "2e78f32e",
   "metadata": {},
   "source": [
    "__Exploring by changing the values of parameters__"
   ]
  },
  {
   "cell_type": "code",
   "execution_count": 14,
   "id": "36711d3c",
   "metadata": {},
   "outputs": [],
   "source": [
    "model_params1 = {                           # creating model porameters\n",
    "    'svm': {\n",
    "        'model': SVC(gamma='auto'),\n",
    "        'params': {\n",
    "            'C':list(range(1,10)),\n",
    "            'kernel': ['rbf','linear']\n",
    "        }\n",
    "    },\n",
    "    'random_forest':{\n",
    "        'model': RandomForestClassifier(),\n",
    "        'params': {\n",
    "            'n_estimators': list(range(1,10))\n",
    "        }\n",
    "    },\n",
    "    'logistic_regression': {\n",
    "        'model': LogisticRegression(),\n",
    "        'params': {\n",
    "            'C': list(range(1,10))\n",
    "        }\n",
    "    },\n",
    "     'Gaussian_NB': {\n",
    "        'model': GaussianNB(),\n",
    "        'params': {\n",
    "       \n",
    "        }\n",
    "    },\n",
    "     'Multinomial_NB': {\n",
    "        'model': MultinomialNB(),\n",
    "        'params': {\n",
    "           \n",
    "        }\n",
    "    },\n",
    "     'Decision_Tree_Classifier': {\n",
    "        'model': DecisionTreeClassifier(),\n",
    "        'params': {\n",
    "            'criterion': ['gini','entropy']\n",
    "        }\n",
    "    }\n",
    "}"
   ]
  },
  {
   "cell_type": "code",
   "execution_count": 15,
   "id": "708d4f0e",
   "metadata": {},
   "outputs": [
    {
     "data": {
      "text/plain": [
       "[]"
      ]
     },
     "execution_count": 15,
     "metadata": {},
     "output_type": "execute_result"
    }
   ],
   "source": [
    "scores1 = []\n",
    "for i,j in model_params1.items():\n",
    "    clf = GridSearchCV(j['model'], j['params'],cv =5)\n",
    "    clf.fit(digits.data,digits.target)\n",
    "    scores.append({\n",
    "        'MODEL': i,\n",
    "        'BEST SCORE': clf.best_score_,\n",
    "        'BEST PARAMS': clf.best_params_\n",
    "    })\n",
    "scores1"
   ]
  },
  {
   "cell_type": "code",
   "execution_count": 16,
   "id": "1d57a83c",
   "metadata": {},
   "outputs": [
    {
     "data": {
      "text/html": [
       "<div>\n",
       "<style scoped>\n",
       "    .dataframe tbody tr th:only-of-type {\n",
       "        vertical-align: middle;\n",
       "    }\n",
       "\n",
       "    .dataframe tbody tr th {\n",
       "        vertical-align: top;\n",
       "    }\n",
       "\n",
       "    .dataframe thead th {\n",
       "        text-align: right;\n",
       "    }\n",
       "</style>\n",
       "<table border=\"1\" class=\"dataframe\">\n",
       "  <thead>\n",
       "    <tr style=\"text-align: right;\">\n",
       "      <th></th>\n",
       "      <th>MODEL</th>\n",
       "      <th>BEST SCORE</th>\n",
       "      <th>BEST PARAMS</th>\n",
       "    </tr>\n",
       "  </thead>\n",
       "  <tbody>\n",
       "    <tr>\n",
       "      <th>0</th>\n",
       "      <td>svm</td>\n",
       "      <td>0.947697</td>\n",
       "      <td>{'C': 1, 'kernel': 'linear'}</td>\n",
       "    </tr>\n",
       "    <tr>\n",
       "      <th>1</th>\n",
       "      <td>random_forest</td>\n",
       "      <td>0.902088</td>\n",
       "      <td>{'n_estimators': 10}</td>\n",
       "    </tr>\n",
       "    <tr>\n",
       "      <th>2</th>\n",
       "      <td>logistic_regression</td>\n",
       "      <td>0.913765</td>\n",
       "      <td>{'C': 1}</td>\n",
       "    </tr>\n",
       "    <tr>\n",
       "      <th>3</th>\n",
       "      <td>Gaussian_NB</td>\n",
       "      <td>0.806928</td>\n",
       "      <td>{}</td>\n",
       "    </tr>\n",
       "    <tr>\n",
       "      <th>4</th>\n",
       "      <td>Multinomial_NB</td>\n",
       "      <td>0.870350</td>\n",
       "      <td>{}</td>\n",
       "    </tr>\n",
       "    <tr>\n",
       "      <th>5</th>\n",
       "      <td>Decision_Tree_Classifier</td>\n",
       "      <td>0.808044</td>\n",
       "      <td>{'criterion': 'entropy'}</td>\n",
       "    </tr>\n",
       "    <tr>\n",
       "      <th>6</th>\n",
       "      <td>svm</td>\n",
       "      <td>0.947697</td>\n",
       "      <td>{'C': 1, 'kernel': 'linear'}</td>\n",
       "    </tr>\n",
       "    <tr>\n",
       "      <th>7</th>\n",
       "      <td>random_forest</td>\n",
       "      <td>0.905980</td>\n",
       "      <td>{'n_estimators': 9}</td>\n",
       "    </tr>\n",
       "    <tr>\n",
       "      <th>8</th>\n",
       "      <td>logistic_regression</td>\n",
       "      <td>0.913765</td>\n",
       "      <td>{'C': 1}</td>\n",
       "    </tr>\n",
       "    <tr>\n",
       "      <th>9</th>\n",
       "      <td>Gaussian_NB</td>\n",
       "      <td>0.806928</td>\n",
       "      <td>{}</td>\n",
       "    </tr>\n",
       "    <tr>\n",
       "      <th>10</th>\n",
       "      <td>Multinomial_NB</td>\n",
       "      <td>0.870350</td>\n",
       "      <td>{}</td>\n",
       "    </tr>\n",
       "    <tr>\n",
       "      <th>11</th>\n",
       "      <td>Decision_Tree_Classifier</td>\n",
       "      <td>0.807479</td>\n",
       "      <td>{'criterion': 'entropy'}</td>\n",
       "    </tr>\n",
       "  </tbody>\n",
       "</table>\n",
       "</div>"
      ],
      "text/plain": [
       "                       MODEL  BEST SCORE                   BEST PARAMS\n",
       "0                        svm    0.947697  {'C': 1, 'kernel': 'linear'}\n",
       "1              random_forest    0.902088          {'n_estimators': 10}\n",
       "2        logistic_regression    0.913765                      {'C': 1}\n",
       "3                Gaussian_NB    0.806928                            {}\n",
       "4             Multinomial_NB    0.870350                            {}\n",
       "5   Decision_Tree_Classifier    0.808044      {'criterion': 'entropy'}\n",
       "6                        svm    0.947697  {'C': 1, 'kernel': 'linear'}\n",
       "7              random_forest    0.905980           {'n_estimators': 9}\n",
       "8        logistic_regression    0.913765                      {'C': 1}\n",
       "9                Gaussian_NB    0.806928                            {}\n",
       "10            Multinomial_NB    0.870350                            {}\n",
       "11  Decision_Tree_Classifier    0.807479      {'criterion': 'entropy'}"
      ]
     },
     "execution_count": 16,
     "metadata": {},
     "output_type": "execute_result"
    }
   ],
   "source": [
    "best_model_df1 = pd.DataFrame(scores) # creating dataframe from the above scores \n",
    "best_model_df1"
   ]
  },
  {
   "cell_type": "markdown",
   "id": "0d717d82",
   "metadata": {},
   "source": [
    "___svm (C=1, kernel=linear) with 94.7697% score is the best score.___"
   ]
  },
  {
   "cell_type": "code",
   "execution_count": null,
   "id": "d7c8633b",
   "metadata": {},
   "outputs": [],
   "source": []
  }
 ],
 "metadata": {
  "kernelspec": {
   "display_name": "Python 3 (ipykernel)",
   "language": "python",
   "name": "python3"
  },
  "language_info": {
   "codemirror_mode": {
    "name": "ipython",
    "version": 3
   },
   "file_extension": ".py",
   "mimetype": "text/x-python",
   "name": "python",
   "nbconvert_exporter": "python",
   "pygments_lexer": "ipython3",
   "version": "3.9.12"
  }
 },
 "nbformat": 4,
 "nbformat_minor": 5
}
