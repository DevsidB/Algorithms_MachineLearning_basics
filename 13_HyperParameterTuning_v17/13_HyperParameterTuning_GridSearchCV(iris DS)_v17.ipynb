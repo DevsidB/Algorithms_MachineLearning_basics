{
 "cells": [
  {
   "cell_type": "raw",
   "id": "65b3d17b",
   "metadata": {},
   "source": [
    "Aim: \n",
    "    1. Concepts of Grid SearchCV (Hyperparameter Tuning)\n",
    "    2. How to choose the best model"
   ]
  },
  {
   "cell_type": "code",
   "execution_count": 1,
   "id": "d503d593",
   "metadata": {},
   "outputs": [],
   "source": [
    "import warnings\n",
    "warnings.filterwarnings('ignore')"
   ]
  },
  {
   "cell_type": "markdown",
   "id": "d00406bf",
   "metadata": {},
   "source": [
    "## Hyper Parameter Tuning"
   ]
  },
  {
   "cell_type": "code",
   "execution_count": 2,
   "id": "47ab41db",
   "metadata": {},
   "outputs": [],
   "source": [
    "%matplotlib inline\n",
    "from matplotlib import pyplot as plt\n",
    "from sklearn.datasets import load_iris\n",
    "import pandas as pd\n",
    "import numpy as np"
   ]
  },
  {
   "cell_type": "code",
   "execution_count": 3,
   "id": "1f2ab226",
   "metadata": {},
   "outputs": [
    {
     "data": {
      "text/plain": [
       "['DESCR',\n",
       " 'data',\n",
       " 'data_module',\n",
       " 'feature_names',\n",
       " 'filename',\n",
       " 'frame',\n",
       " 'target',\n",
       " 'target_names']"
      ]
     },
     "execution_count": 3,
     "metadata": {},
     "output_type": "execute_result"
    }
   ],
   "source": [
    "iris = load_iris()\n",
    "dir(iris)"
   ]
  },
  {
   "cell_type": "markdown",
   "id": "2e8280a4",
   "metadata": {},
   "source": [
    "__TrainTest Split__"
   ]
  },
  {
   "cell_type": "code",
   "execution_count": 4,
   "id": "0ccdcfec",
   "metadata": {},
   "outputs": [],
   "source": [
    "from sklearn.model_selection import train_test_split\n",
    "X_train, X_test, y_train, y_test = train_test_split(iris.data, iris.target) # (flattened 2d array,1d array)"
   ]
  },
  {
   "cell_type": "markdown",
   "id": "e6044793",
   "metadata": {},
   "source": [
    "__SVM Model__"
   ]
  },
  {
   "cell_type": "code",
   "execution_count": 5,
   "id": "a118c121",
   "metadata": {},
   "outputs": [
    {
     "data": {
      "text/plain": [
       "{'C': 30,\n",
       " 'break_ties': False,\n",
       " 'cache_size': 200,\n",
       " 'class_weight': None,\n",
       " 'coef0': 0.0,\n",
       " 'decision_function_shape': 'ovr',\n",
       " 'degree': 3,\n",
       " 'gamma': 'auto',\n",
       " 'kernel': 'rbf',\n",
       " 'max_iter': -1,\n",
       " 'probability': False,\n",
       " 'random_state': None,\n",
       " 'shrinking': True,\n",
       " 'tol': 0.001,\n",
       " 'verbose': False}"
      ]
     },
     "execution_count": 5,
     "metadata": {},
     "output_type": "execute_result"
    }
   ],
   "source": [
    "from sklearn.svm import SVC\n",
    "SVMmodel = SVC(kernel = 'rbf',C=30,gamma='auto')\n",
    "SVMmodel.fit(X_train,y_train)\n",
    "SVMmodel.get_params()"
   ]
  },
  {
   "cell_type": "code",
   "execution_count": 6,
   "id": "8126064a",
   "metadata": {},
   "outputs": [
    {
     "data": {
      "text/plain": [
       "0.9473684210526315"
      ]
     },
     "execution_count": 6,
     "metadata": {},
     "output_type": "execute_result"
    }
   ],
   "source": [
    "SVMmodel.score(X_test,y_test)"
   ]
  },
  {
   "cell_type": "markdown",
   "id": "ebc17233",
   "metadata": {},
   "source": [
    "The problem with this approach is that when we reload the train test split the score changes.\n",
    "To tackle with this issue we use cross validation from sklearn"
   ]
  },
  {
   "cell_type": "markdown",
   "id": "f798abd6",
   "metadata": {},
   "source": [
    "__Cross Validation__"
   ]
  },
  {
   "cell_type": "code",
   "execution_count": 7,
   "id": "2fa347c5",
   "metadata": {},
   "outputs": [],
   "source": [
    "from sklearn.model_selection import cross_val_score  # default n_splits= 5.Train test split is not required for C-validation"
   ]
  },
  {
   "cell_type": "code",
   "execution_count": 8,
   "id": "6b6aa50d",
   "metadata": {},
   "outputs": [
    {
     "data": {
      "text/plain": [
       "array([1.        , 1.        , 0.9       , 0.96666667, 1.        ])"
      ]
     },
     "execution_count": 8,
     "metadata": {},
     "output_type": "execute_result"
    }
   ],
   "source": [
    "cross_val_score(SVC(kernel = 'linear',C=10,gamma='auto'),iris.data,iris.target) # Takes (estimator,X,y)\n",
    "# (splits into train and test data internally, and gives the score.)\n",
    "# Details explained in Cross validation Folder"
   ]
  },
  {
   "cell_type": "code",
   "execution_count": 9,
   "id": "7bc32af9",
   "metadata": {},
   "outputs": [
    {
     "data": {
      "text/plain": [
       "array([0.96666667, 1.        , 0.96666667, 0.96666667, 1.        ])"
      ]
     },
     "execution_count": 9,
     "metadata": {},
     "output_type": "execute_result"
    }
   ],
   "source": [
    "cross_val_score(SVC(kernel = 'rbf',C=10,gamma='auto'),iris.data,iris.target) # Takes (estimator,X,y)"
   ]
  },
  {
   "cell_type": "code",
   "execution_count": 10,
   "id": "58927f30",
   "metadata": {},
   "outputs": [
    {
     "data": {
      "text/plain": [
       "array([0.96666667, 1.        , 0.9       , 0.96666667, 1.        ])"
      ]
     },
     "execution_count": 10,
     "metadata": {},
     "output_type": "execute_result"
    }
   ],
   "source": [
    "cross_val_score(SVC(kernel = 'rbf',C=20,gamma='auto'),iris.data,iris.target) # Takes (estimator,X,y)"
   ]
  },
  {
   "cell_type": "raw",
   "id": "315d3709",
   "metadata": {},
   "source": [
    "By changing the parameters of the model we found the cross validated score. \n",
    "This method is manual and repetititive.\n",
    "Still we need to rewrite the code for each combinations of hyper parameters to get the score, which is a tedious process.\n",
    "We can use the for loops:"
   ]
  },
  {
   "cell_type": "markdown",
   "id": "d2ac69cc",
   "metadata": {},
   "source": [
    "__Cross Validation using: for loop__"
   ]
  },
  {
   "cell_type": "code",
   "execution_count": 11,
   "id": "41617eb7",
   "metadata": {},
   "outputs": [
    {
     "data": {
      "text/plain": [
       "{'Sid': 98}"
      ]
     },
     "execution_count": 11,
     "metadata": {},
     "output_type": "execute_result"
    }
   ],
   "source": [
    "#Trial1: Adding values to python dictionary\n",
    "dictionary= {}\n",
    "dictionary['Sid']= 98\n",
    "dictionary"
   ]
  },
  {
   "cell_type": "code",
   "execution_count": 12,
   "id": "d7478702",
   "metadata": {},
   "outputs": [
    {
     "data": {
      "text/plain": [
       "{'rbf': 98, 'linear': 100}"
      ]
     },
     "execution_count": 12,
     "metadata": {},
     "output_type": "execute_result"
    }
   ],
   "source": [
    "#Trial2: Adding values to python dictionary\n",
    "kernels = ['rbf','linear']\n",
    "dictionary= {}\n",
    "dictionary[kernels[0]]= 98\n",
    "dictionary[kernels[1]]= 100\n",
    "dictionary"
   ]
  },
  {
   "cell_type": "code",
   "execution_count": 13,
   "id": "c5604128",
   "metadata": {},
   "outputs": [
    {
     "data": {
      "text/plain": [
       "{'rbf_1': 0.9800000000000001,\n",
       " 'rbf_10': 0.9800000000000001,\n",
       " 'rbf_20': 0.9666666666666668,\n",
       " 'linear_1': 0.9800000000000001,\n",
       " 'linear_10': 0.9733333333333334,\n",
       " 'linear_20': 0.9666666666666666}"
      ]
     },
     "execution_count": 13,
     "metadata": {},
     "output_type": "execute_result"
    }
   ],
   "source": [
    "kernels = ['rbf','linear'] # list of kernels\n",
    "C=[1,10,20]                # list of C values\n",
    "avg_scores = {}            # dictionary \n",
    "for i in kernels:\n",
    "    for j in C:\n",
    "        cv_scores = cross_val_score(SVC(kernel = i,C=j,gamma='auto'),iris.data,iris.target) \n",
    "        avg_scores[i + '_' + str(j)] = np.average(cv_scores) #averages the 5 scores and adds to dictionary\n",
    "avg_scores"
   ]
  },
  {
   "cell_type": "raw",
   "id": "4c7dd297",
   "metadata": {},
   "source": [
    "Using for loops we can iterate through each of the passed parameters. \n",
    "Same results can be achieved using SKLEARNS Grid Search CV. \n",
    "Also best results and best params can be displayed using Grid Search CV."
   ]
  },
  {
   "cell_type": "markdown",
   "id": "6e0d11c6",
   "metadata": {},
   "source": [
    "__Sklearns Grid Search CV__"
   ]
  },
  {
   "cell_type": "code",
   "execution_count": 14,
   "id": "2af8a5e3",
   "metadata": {},
   "outputs": [
    {
     "data": {
      "text/plain": [
       "{'mean_fit_time': array([0.00120149, 0.00100107, 0.0010006 , 0.00100064, 0.00100069,\n",
       "        0.00100064]),\n",
       " 'std_fit_time': array([3.99306654e-04, 1.22872340e-06, 9.53674316e-08, 0.00000000e+00,\n",
       "        9.53674316e-08, 0.00000000e+00]),\n",
       " 'mean_score_time': array([0.00059996, 0.00020013, 0.00100079, 0.00020008, 0.        ,\n",
       "        0.00020008]),\n",
       " 'std_score_time': array([4.89862743e-04, 4.00257111e-04, 1.16800773e-07, 4.00161743e-04,\n",
       "        0.00000000e+00, 4.00161743e-04]),\n",
       " 'param_C': masked_array(data=[1, 1, 10, 10, 20, 20],\n",
       "              mask=[False, False, False, False, False, False],\n",
       "        fill_value='?',\n",
       "             dtype=object),\n",
       " 'param_kernel': masked_array(data=['rbf', 'linear', 'rbf', 'linear', 'rbf', 'linear'],\n",
       "              mask=[False, False, False, False, False, False],\n",
       "        fill_value='?',\n",
       "             dtype=object),\n",
       " 'params': [{'C': 1, 'kernel': 'rbf'},\n",
       "  {'C': 1, 'kernel': 'linear'},\n",
       "  {'C': 10, 'kernel': 'rbf'},\n",
       "  {'C': 10, 'kernel': 'linear'},\n",
       "  {'C': 20, 'kernel': 'rbf'},\n",
       "  {'C': 20, 'kernel': 'linear'}],\n",
       " 'split0_test_score': array([0.96666667, 0.96666667, 0.96666667, 1.        , 0.96666667,\n",
       "        1.        ]),\n",
       " 'split1_test_score': array([1., 1., 1., 1., 1., 1.]),\n",
       " 'split2_test_score': array([0.96666667, 0.96666667, 0.96666667, 0.9       , 0.9       ,\n",
       "        0.9       ]),\n",
       " 'split3_test_score': array([0.96666667, 0.96666667, 0.96666667, 0.96666667, 0.96666667,\n",
       "        0.93333333]),\n",
       " 'split4_test_score': array([1., 1., 1., 1., 1., 1.]),\n",
       " 'mean_test_score': array([0.98      , 0.98      , 0.98      , 0.97333333, 0.96666667,\n",
       "        0.96666667]),\n",
       " 'std_test_score': array([0.01632993, 0.01632993, 0.01632993, 0.03887301, 0.03651484,\n",
       "        0.0421637 ]),\n",
       " 'rank_test_score': array([1, 1, 1, 4, 5, 6])}"
      ]
     },
     "execution_count": 14,
     "metadata": {},
     "output_type": "execute_result"
    }
   ],
   "source": [
    "from sklearn.model_selection import GridSearchCV #takes (estimator, param_grid, cv)\n",
    "clf = GridSearchCV(SVC(gamma='auto'),\n",
    "                   {'C':[1,10,20], 'kernel' : ['rbf','linear']},\n",
    "                   cv = 5)\n",
    "\n",
    "clf.fit(iris.data,iris.target)\n",
    "clf.cv_results_      #results generated are key value pairs.Not easy to view. Creating pandas dataframe of results below."
   ]
  },
  {
   "cell_type": "code",
   "execution_count": 15,
   "id": "cb2ab4f9",
   "metadata": {},
   "outputs": [
    {
     "data": {
      "text/html": [
       "<div>\n",
       "<style scoped>\n",
       "    .dataframe tbody tr th:only-of-type {\n",
       "        vertical-align: middle;\n",
       "    }\n",
       "\n",
       "    .dataframe tbody tr th {\n",
       "        vertical-align: top;\n",
       "    }\n",
       "\n",
       "    .dataframe thead th {\n",
       "        text-align: right;\n",
       "    }\n",
       "</style>\n",
       "<table border=\"1\" class=\"dataframe\">\n",
       "  <thead>\n",
       "    <tr style=\"text-align: right;\">\n",
       "      <th></th>\n",
       "      <th>mean_fit_time</th>\n",
       "      <th>std_fit_time</th>\n",
       "      <th>mean_score_time</th>\n",
       "      <th>std_score_time</th>\n",
       "      <th>param_C</th>\n",
       "      <th>param_kernel</th>\n",
       "      <th>params</th>\n",
       "      <th>split0_test_score</th>\n",
       "      <th>split1_test_score</th>\n",
       "      <th>split2_test_score</th>\n",
       "      <th>split3_test_score</th>\n",
       "      <th>split4_test_score</th>\n",
       "      <th>mean_test_score</th>\n",
       "      <th>std_test_score</th>\n",
       "      <th>rank_test_score</th>\n",
       "    </tr>\n",
       "  </thead>\n",
       "  <tbody>\n",
       "    <tr>\n",
       "      <th>0</th>\n",
       "      <td>0.001201</td>\n",
       "      <td>3.993067e-04</td>\n",
       "      <td>0.000600</td>\n",
       "      <td>4.898627e-04</td>\n",
       "      <td>1</td>\n",
       "      <td>rbf</td>\n",
       "      <td>{'C': 1, 'kernel': 'rbf'}</td>\n",
       "      <td>0.966667</td>\n",
       "      <td>1.0</td>\n",
       "      <td>0.966667</td>\n",
       "      <td>0.966667</td>\n",
       "      <td>1.0</td>\n",
       "      <td>0.980000</td>\n",
       "      <td>0.016330</td>\n",
       "      <td>1</td>\n",
       "    </tr>\n",
       "    <tr>\n",
       "      <th>1</th>\n",
       "      <td>0.001001</td>\n",
       "      <td>1.228723e-06</td>\n",
       "      <td>0.000200</td>\n",
       "      <td>4.002571e-04</td>\n",
       "      <td>1</td>\n",
       "      <td>linear</td>\n",
       "      <td>{'C': 1, 'kernel': 'linear'}</td>\n",
       "      <td>0.966667</td>\n",
       "      <td>1.0</td>\n",
       "      <td>0.966667</td>\n",
       "      <td>0.966667</td>\n",
       "      <td>1.0</td>\n",
       "      <td>0.980000</td>\n",
       "      <td>0.016330</td>\n",
       "      <td>1</td>\n",
       "    </tr>\n",
       "    <tr>\n",
       "      <th>2</th>\n",
       "      <td>0.001001</td>\n",
       "      <td>9.536743e-08</td>\n",
       "      <td>0.001001</td>\n",
       "      <td>1.168008e-07</td>\n",
       "      <td>10</td>\n",
       "      <td>rbf</td>\n",
       "      <td>{'C': 10, 'kernel': 'rbf'}</td>\n",
       "      <td>0.966667</td>\n",
       "      <td>1.0</td>\n",
       "      <td>0.966667</td>\n",
       "      <td>0.966667</td>\n",
       "      <td>1.0</td>\n",
       "      <td>0.980000</td>\n",
       "      <td>0.016330</td>\n",
       "      <td>1</td>\n",
       "    </tr>\n",
       "    <tr>\n",
       "      <th>3</th>\n",
       "      <td>0.001001</td>\n",
       "      <td>0.000000e+00</td>\n",
       "      <td>0.000200</td>\n",
       "      <td>4.001617e-04</td>\n",
       "      <td>10</td>\n",
       "      <td>linear</td>\n",
       "      <td>{'C': 10, 'kernel': 'linear'}</td>\n",
       "      <td>1.000000</td>\n",
       "      <td>1.0</td>\n",
       "      <td>0.900000</td>\n",
       "      <td>0.966667</td>\n",
       "      <td>1.0</td>\n",
       "      <td>0.973333</td>\n",
       "      <td>0.038873</td>\n",
       "      <td>4</td>\n",
       "    </tr>\n",
       "    <tr>\n",
       "      <th>4</th>\n",
       "      <td>0.001001</td>\n",
       "      <td>9.536743e-08</td>\n",
       "      <td>0.000000</td>\n",
       "      <td>0.000000e+00</td>\n",
       "      <td>20</td>\n",
       "      <td>rbf</td>\n",
       "      <td>{'C': 20, 'kernel': 'rbf'}</td>\n",
       "      <td>0.966667</td>\n",
       "      <td>1.0</td>\n",
       "      <td>0.900000</td>\n",
       "      <td>0.966667</td>\n",
       "      <td>1.0</td>\n",
       "      <td>0.966667</td>\n",
       "      <td>0.036515</td>\n",
       "      <td>5</td>\n",
       "    </tr>\n",
       "    <tr>\n",
       "      <th>5</th>\n",
       "      <td>0.001001</td>\n",
       "      <td>0.000000e+00</td>\n",
       "      <td>0.000200</td>\n",
       "      <td>4.001617e-04</td>\n",
       "      <td>20</td>\n",
       "      <td>linear</td>\n",
       "      <td>{'C': 20, 'kernel': 'linear'}</td>\n",
       "      <td>1.000000</td>\n",
       "      <td>1.0</td>\n",
       "      <td>0.900000</td>\n",
       "      <td>0.933333</td>\n",
       "      <td>1.0</td>\n",
       "      <td>0.966667</td>\n",
       "      <td>0.042164</td>\n",
       "      <td>6</td>\n",
       "    </tr>\n",
       "  </tbody>\n",
       "</table>\n",
       "</div>"
      ],
      "text/plain": [
       "   mean_fit_time  std_fit_time  mean_score_time  std_score_time param_C  \\\n",
       "0       0.001201  3.993067e-04         0.000600    4.898627e-04       1   \n",
       "1       0.001001  1.228723e-06         0.000200    4.002571e-04       1   \n",
       "2       0.001001  9.536743e-08         0.001001    1.168008e-07      10   \n",
       "3       0.001001  0.000000e+00         0.000200    4.001617e-04      10   \n",
       "4       0.001001  9.536743e-08         0.000000    0.000000e+00      20   \n",
       "5       0.001001  0.000000e+00         0.000200    4.001617e-04      20   \n",
       "\n",
       "  param_kernel                         params  split0_test_score  \\\n",
       "0          rbf      {'C': 1, 'kernel': 'rbf'}           0.966667   \n",
       "1       linear   {'C': 1, 'kernel': 'linear'}           0.966667   \n",
       "2          rbf     {'C': 10, 'kernel': 'rbf'}           0.966667   \n",
       "3       linear  {'C': 10, 'kernel': 'linear'}           1.000000   \n",
       "4          rbf     {'C': 20, 'kernel': 'rbf'}           0.966667   \n",
       "5       linear  {'C': 20, 'kernel': 'linear'}           1.000000   \n",
       "\n",
       "   split1_test_score  split2_test_score  split3_test_score  split4_test_score  \\\n",
       "0                1.0           0.966667           0.966667                1.0   \n",
       "1                1.0           0.966667           0.966667                1.0   \n",
       "2                1.0           0.966667           0.966667                1.0   \n",
       "3                1.0           0.900000           0.966667                1.0   \n",
       "4                1.0           0.900000           0.966667                1.0   \n",
       "5                1.0           0.900000           0.933333                1.0   \n",
       "\n",
       "   mean_test_score  std_test_score  rank_test_score  \n",
       "0         0.980000        0.016330                1  \n",
       "1         0.980000        0.016330                1  \n",
       "2         0.980000        0.016330                1  \n",
       "3         0.973333        0.038873                4  \n",
       "4         0.966667        0.036515                5  \n",
       "5         0.966667        0.042164                6  "
      ]
     },
     "execution_count": 15,
     "metadata": {},
     "output_type": "execute_result"
    }
   ],
   "source": [
    "grid_df = pd.DataFrame(clf.cv_results_ )  #converting the above generated results to dataframe\n",
    "grid_df   # returned whole lot of different parameter  values "
   ]
  },
  {
   "cell_type": "code",
   "execution_count": 16,
   "id": "96e5f47a",
   "metadata": {},
   "outputs": [
    {
     "data": {
      "text/html": [
       "<div>\n",
       "<style scoped>\n",
       "    .dataframe tbody tr th:only-of-type {\n",
       "        vertical-align: middle;\n",
       "    }\n",
       "\n",
       "    .dataframe tbody tr th {\n",
       "        vertical-align: top;\n",
       "    }\n",
       "\n",
       "    .dataframe thead th {\n",
       "        text-align: right;\n",
       "    }\n",
       "</style>\n",
       "<table border=\"1\" class=\"dataframe\">\n",
       "  <thead>\n",
       "    <tr style=\"text-align: right;\">\n",
       "      <th></th>\n",
       "      <th>param_C</th>\n",
       "      <th>param_kernel</th>\n",
       "      <th>mean_test_score</th>\n",
       "    </tr>\n",
       "  </thead>\n",
       "  <tbody>\n",
       "    <tr>\n",
       "      <th>0</th>\n",
       "      <td>1</td>\n",
       "      <td>rbf</td>\n",
       "      <td>0.980000</td>\n",
       "    </tr>\n",
       "    <tr>\n",
       "      <th>1</th>\n",
       "      <td>1</td>\n",
       "      <td>linear</td>\n",
       "      <td>0.980000</td>\n",
       "    </tr>\n",
       "    <tr>\n",
       "      <th>2</th>\n",
       "      <td>10</td>\n",
       "      <td>rbf</td>\n",
       "      <td>0.980000</td>\n",
       "    </tr>\n",
       "    <tr>\n",
       "      <th>3</th>\n",
       "      <td>10</td>\n",
       "      <td>linear</td>\n",
       "      <td>0.973333</td>\n",
       "    </tr>\n",
       "    <tr>\n",
       "      <th>4</th>\n",
       "      <td>20</td>\n",
       "      <td>rbf</td>\n",
       "      <td>0.966667</td>\n",
       "    </tr>\n",
       "    <tr>\n",
       "      <th>5</th>\n",
       "      <td>20</td>\n",
       "      <td>linear</td>\n",
       "      <td>0.966667</td>\n",
       "    </tr>\n",
       "  </tbody>\n",
       "</table>\n",
       "</div>"
      ],
      "text/plain": [
       "  param_C param_kernel  mean_test_score\n",
       "0       1          rbf         0.980000\n",
       "1       1       linear         0.980000\n",
       "2      10          rbf         0.980000\n",
       "3      10       linear         0.973333\n",
       "4      20          rbf         0.966667\n",
       "5      20       linear         0.966667"
      ]
     },
     "execution_count": 16,
     "metadata": {},
     "output_type": "execute_result"
    }
   ],
   "source": [
    "grid_df = grid_df[['param_C','param_kernel','mean_test_score']] # selecting the required columns only\n",
    "grid_df"
   ]
  },
  {
   "cell_type": "code",
   "execution_count": 17,
   "id": "60e14170",
   "metadata": {
    "scrolled": true
   },
   "outputs": [
    {
     "data": {
      "text/plain": [
       "['__abstractmethods__',\n",
       " '__class__',\n",
       " '__delattr__',\n",
       " '__dict__',\n",
       " '__dir__',\n",
       " '__doc__',\n",
       " '__eq__',\n",
       " '__format__',\n",
       " '__ge__',\n",
       " '__getattribute__',\n",
       " '__getstate__',\n",
       " '__gt__',\n",
       " '__hash__',\n",
       " '__init__',\n",
       " '__init_subclass__',\n",
       " '__le__',\n",
       " '__lt__',\n",
       " '__module__',\n",
       " '__ne__',\n",
       " '__new__',\n",
       " '__reduce__',\n",
       " '__reduce_ex__',\n",
       " '__repr__',\n",
       " '__setattr__',\n",
       " '__setstate__',\n",
       " '__sizeof__',\n",
       " '__str__',\n",
       " '__subclasshook__',\n",
       " '__weakref__',\n",
       " '_abc_impl',\n",
       " '_check_feature_names',\n",
       " '_check_n_features',\n",
       " '_check_refit_for_multimetric',\n",
       " '_estimator_type',\n",
       " '_format_results',\n",
       " '_get_param_names',\n",
       " '_get_tags',\n",
       " '_more_tags',\n",
       " '_pairwise',\n",
       " '_repr_html_',\n",
       " '_repr_html_inner',\n",
       " '_repr_mimebundle_',\n",
       " '_required_parameters',\n",
       " '_run_search',\n",
       " '_select_best_index',\n",
       " '_validate_data',\n",
       " 'best_estimator_',\n",
       " 'best_index_',\n",
       " 'best_params_',\n",
       " 'best_score_',\n",
       " 'classes_',\n",
       " 'cv',\n",
       " 'cv_results_',\n",
       " 'decision_function',\n",
       " 'error_score',\n",
       " 'estimator',\n",
       " 'fit',\n",
       " 'get_params',\n",
       " 'inverse_transform',\n",
       " 'multimetric_',\n",
       " 'n_features_in_',\n",
       " 'n_jobs',\n",
       " 'n_splits_',\n",
       " 'param_grid',\n",
       " 'pre_dispatch',\n",
       " 'predict',\n",
       " 'predict_log_proba',\n",
       " 'predict_proba',\n",
       " 'refit',\n",
       " 'refit_time_',\n",
       " 'return_train_score',\n",
       " 'score',\n",
       " 'score_samples',\n",
       " 'scorer_',\n",
       " 'scoring',\n",
       " 'set_params',\n",
       " 'transform',\n",
       " 'verbose']"
      ]
     },
     "execution_count": 17,
     "metadata": {},
     "output_type": "execute_result"
    }
   ],
   "source": [
    "dir(clf)  # some other attributes we can try"
   ]
  },
  {
   "cell_type": "code",
   "execution_count": 18,
   "id": "4e931189",
   "metadata": {},
   "outputs": [
    {
     "data": {
      "text/plain": [
       "0.9800000000000001"
      ]
     },
     "execution_count": 18,
     "metadata": {},
     "output_type": "execute_result"
    }
   ],
   "source": [
    "clf.best_score_ #returns the best score out of all the combinations"
   ]
  },
  {
   "cell_type": "code",
   "execution_count": 19,
   "id": "a6700990",
   "metadata": {},
   "outputs": [
    {
     "data": {
      "text/plain": [
       "{'C': 1, 'kernel': 'rbf'}"
      ]
     },
     "execution_count": 19,
     "metadata": {},
     "output_type": "execute_result"
    }
   ],
   "source": [
    "clf.best_params_ # returns the best combination"
   ]
  },
  {
   "cell_type": "raw",
   "id": "eb991f4e",
   "metadata": {},
   "source": [
    "Sklearns grid search CV considers all the parameters we provide.\n",
    "That can be computationally expensive sometimes, as we are iterating through each of the parameters.\n",
    "Say, if we have C = 1 to 100. Grid Search CV will iterate through each of these.\n",
    "Randomized CV can be used to generate random values as shown below.\n",
    "Noye: (n_iter parameter decides the number of random results to generate)"
   ]
  },
  {
   "cell_type": "markdown",
   "id": "180fe10e",
   "metadata": {},
   "source": [
    "__RandomizedSearchCV__"
   ]
  },
  {
   "cell_type": "code",
   "execution_count": 20,
   "id": "fd270653",
   "metadata": {},
   "outputs": [
    {
     "data": {
      "text/plain": [
       "{'mean_fit_time': array([0.00100155, 0.00080037, 0.00100107]),\n",
       " 'std_fit_time': array([7.13664510e-07, 4.00185937e-04, 6.28991411e-07]),\n",
       " 'mean_score_time': array([0.00059981, 0.00040026, 0.        ]),\n",
       " 'std_score_time': array([0.00048975, 0.00049021, 0.        ]),\n",
       " 'param_kernel': masked_array(data=['linear', 'linear', 'rbf'],\n",
       "              mask=[False, False, False],\n",
       "        fill_value='?',\n",
       "             dtype=object),\n",
       " 'param_C': masked_array(data=[10, 1, 20],\n",
       "              mask=[False, False, False],\n",
       "        fill_value='?',\n",
       "             dtype=object),\n",
       " 'params': [{'kernel': 'linear', 'C': 10},\n",
       "  {'kernel': 'linear', 'C': 1},\n",
       "  {'kernel': 'rbf', 'C': 20}],\n",
       " 'split0_test_score': array([1.        , 0.96666667, 0.96666667]),\n",
       " 'split1_test_score': array([1., 1., 1.]),\n",
       " 'split2_test_score': array([0.9       , 0.96666667, 0.9       ]),\n",
       " 'split3_test_score': array([0.96666667, 0.96666667, 0.96666667]),\n",
       " 'split4_test_score': array([1., 1., 1.]),\n",
       " 'mean_test_score': array([0.97333333, 0.98      , 0.96666667]),\n",
       " 'std_test_score': array([0.03887301, 0.01632993, 0.03651484]),\n",
       " 'rank_test_score': array([2, 1, 3])}"
      ]
     },
     "execution_count": 20,
     "metadata": {},
     "output_type": "execute_result"
    }
   ],
   "source": [
    "from sklearn.model_selection import RandomizedSearchCV\n",
    "clfrandom = RandomizedSearchCV(SVC(gamma='auto'),\n",
    "                   {'C':[1,10,20], 'kernel' : ['rbf','linear']},\n",
    "                   cv = 5,\n",
    "                    n_iter = 3)  # most important parameter of RandomizedSearchCV (decides the number of random outputs)\n",
    "\n",
    "\n",
    "clfrandom.fit(iris.data,iris.target)\n",
    "clfrandom.cv_results_      #results generated are key value pairs.Not easy to view. Creating pandas dataframe of results below."
   ]
  },
  {
   "cell_type": "code",
   "execution_count": 21,
   "id": "67dfc3f4",
   "metadata": {},
   "outputs": [
    {
     "data": {
      "text/html": [
       "<div>\n",
       "<style scoped>\n",
       "    .dataframe tbody tr th:only-of-type {\n",
       "        vertical-align: middle;\n",
       "    }\n",
       "\n",
       "    .dataframe tbody tr th {\n",
       "        vertical-align: top;\n",
       "    }\n",
       "\n",
       "    .dataframe thead th {\n",
       "        text-align: right;\n",
       "    }\n",
       "</style>\n",
       "<table border=\"1\" class=\"dataframe\">\n",
       "  <thead>\n",
       "    <tr style=\"text-align: right;\">\n",
       "      <th></th>\n",
       "      <th>mean_fit_time</th>\n",
       "      <th>std_fit_time</th>\n",
       "      <th>mean_score_time</th>\n",
       "      <th>std_score_time</th>\n",
       "      <th>param_kernel</th>\n",
       "      <th>param_C</th>\n",
       "      <th>params</th>\n",
       "      <th>split0_test_score</th>\n",
       "      <th>split1_test_score</th>\n",
       "      <th>split2_test_score</th>\n",
       "      <th>split3_test_score</th>\n",
       "      <th>split4_test_score</th>\n",
       "      <th>mean_test_score</th>\n",
       "      <th>std_test_score</th>\n",
       "      <th>rank_test_score</th>\n",
       "    </tr>\n",
       "  </thead>\n",
       "  <tbody>\n",
       "    <tr>\n",
       "      <th>0</th>\n",
       "      <td>0.001002</td>\n",
       "      <td>7.136645e-07</td>\n",
       "      <td>0.0006</td>\n",
       "      <td>0.00049</td>\n",
       "      <td>linear</td>\n",
       "      <td>10</td>\n",
       "      <td>{'kernel': 'linear', 'C': 10}</td>\n",
       "      <td>1.000000</td>\n",
       "      <td>1.0</td>\n",
       "      <td>0.900000</td>\n",
       "      <td>0.966667</td>\n",
       "      <td>1.0</td>\n",
       "      <td>0.973333</td>\n",
       "      <td>0.038873</td>\n",
       "      <td>2</td>\n",
       "    </tr>\n",
       "    <tr>\n",
       "      <th>1</th>\n",
       "      <td>0.000800</td>\n",
       "      <td>4.001859e-04</td>\n",
       "      <td>0.0004</td>\n",
       "      <td>0.00049</td>\n",
       "      <td>linear</td>\n",
       "      <td>1</td>\n",
       "      <td>{'kernel': 'linear', 'C': 1}</td>\n",
       "      <td>0.966667</td>\n",
       "      <td>1.0</td>\n",
       "      <td>0.966667</td>\n",
       "      <td>0.966667</td>\n",
       "      <td>1.0</td>\n",
       "      <td>0.980000</td>\n",
       "      <td>0.016330</td>\n",
       "      <td>1</td>\n",
       "    </tr>\n",
       "    <tr>\n",
       "      <th>2</th>\n",
       "      <td>0.001001</td>\n",
       "      <td>6.289914e-07</td>\n",
       "      <td>0.0000</td>\n",
       "      <td>0.00000</td>\n",
       "      <td>rbf</td>\n",
       "      <td>20</td>\n",
       "      <td>{'kernel': 'rbf', 'C': 20}</td>\n",
       "      <td>0.966667</td>\n",
       "      <td>1.0</td>\n",
       "      <td>0.900000</td>\n",
       "      <td>0.966667</td>\n",
       "      <td>1.0</td>\n",
       "      <td>0.966667</td>\n",
       "      <td>0.036515</td>\n",
       "      <td>3</td>\n",
       "    </tr>\n",
       "  </tbody>\n",
       "</table>\n",
       "</div>"
      ],
      "text/plain": [
       "   mean_fit_time  std_fit_time  mean_score_time  std_score_time param_kernel  \\\n",
       "0       0.001002  7.136645e-07           0.0006         0.00049       linear   \n",
       "1       0.000800  4.001859e-04           0.0004         0.00049       linear   \n",
       "2       0.001001  6.289914e-07           0.0000         0.00000          rbf   \n",
       "\n",
       "  param_C                         params  split0_test_score  \\\n",
       "0      10  {'kernel': 'linear', 'C': 10}           1.000000   \n",
       "1       1   {'kernel': 'linear', 'C': 1}           0.966667   \n",
       "2      20     {'kernel': 'rbf', 'C': 20}           0.966667   \n",
       "\n",
       "   split1_test_score  split2_test_score  split3_test_score  split4_test_score  \\\n",
       "0                1.0           0.900000           0.966667                1.0   \n",
       "1                1.0           0.966667           0.966667                1.0   \n",
       "2                1.0           0.900000           0.966667                1.0   \n",
       "\n",
       "   mean_test_score  std_test_score  rank_test_score  \n",
       "0         0.973333        0.038873                2  \n",
       "1         0.980000        0.016330                1  \n",
       "2         0.966667        0.036515                3  "
      ]
     },
     "execution_count": 21,
     "metadata": {},
     "output_type": "execute_result"
    }
   ],
   "source": [
    "rand_df = pd.DataFrame(clfrandom.cv_results_ )  #converting the above generated results to dataframe\n",
    "rand_df   # returned only 2 randomly generated reults. "
   ]
  },
  {
   "cell_type": "code",
   "execution_count": 22,
   "id": "191c2a8d",
   "metadata": {},
   "outputs": [
    {
     "data": {
      "text/html": [
       "<div>\n",
       "<style scoped>\n",
       "    .dataframe tbody tr th:only-of-type {\n",
       "        vertical-align: middle;\n",
       "    }\n",
       "\n",
       "    .dataframe tbody tr th {\n",
       "        vertical-align: top;\n",
       "    }\n",
       "\n",
       "    .dataframe thead th {\n",
       "        text-align: right;\n",
       "    }\n",
       "</style>\n",
       "<table border=\"1\" class=\"dataframe\">\n",
       "  <thead>\n",
       "    <tr style=\"text-align: right;\">\n",
       "      <th></th>\n",
       "      <th>param_C</th>\n",
       "      <th>param_kernel</th>\n",
       "      <th>mean_test_score</th>\n",
       "    </tr>\n",
       "  </thead>\n",
       "  <tbody>\n",
       "    <tr>\n",
       "      <th>0</th>\n",
       "      <td>10</td>\n",
       "      <td>linear</td>\n",
       "      <td>0.973333</td>\n",
       "    </tr>\n",
       "    <tr>\n",
       "      <th>1</th>\n",
       "      <td>1</td>\n",
       "      <td>linear</td>\n",
       "      <td>0.980000</td>\n",
       "    </tr>\n",
       "    <tr>\n",
       "      <th>2</th>\n",
       "      <td>20</td>\n",
       "      <td>rbf</td>\n",
       "      <td>0.966667</td>\n",
       "    </tr>\n",
       "  </tbody>\n",
       "</table>\n",
       "</div>"
      ],
      "text/plain": [
       "  param_C param_kernel  mean_test_score\n",
       "0      10       linear         0.973333\n",
       "1       1       linear         0.980000\n",
       "2      20          rbf         0.966667"
      ]
     },
     "execution_count": 22,
     "metadata": {},
     "output_type": "execute_result"
    }
   ],
   "source": [
    "rand_df = rand_df[['param_C','param_kernel','mean_test_score']] # selecting the required columns only\n",
    "rand_df"
   ]
  },
  {
   "cell_type": "code",
   "execution_count": 23,
   "id": "2df8308a",
   "metadata": {},
   "outputs": [
    {
     "data": {
      "text/plain": [
       "0.9800000000000001"
      ]
     },
     "execution_count": 23,
     "metadata": {},
     "output_type": "execute_result"
    }
   ],
   "source": [
    "clfrandom.best_score_ "
   ]
  },
  {
   "cell_type": "code",
   "execution_count": 24,
   "id": "adde83b4",
   "metadata": {},
   "outputs": [
    {
     "data": {
      "text/plain": [
       "{'kernel': 'linear', 'C': 1}"
      ]
     },
     "execution_count": 24,
     "metadata": {},
     "output_type": "execute_result"
    }
   ],
   "source": [
    "clfrandom.best_params_ "
   ]
  },
  {
   "cell_type": "markdown",
   "id": "b44206ba",
   "metadata": {},
   "source": [
    "## Best Model Selection - with Hyper parameter Tuning"
   ]
  },
  {
   "cell_type": "raw",
   "id": "785a174c",
   "metadata": {},
   "source": [
    "We will select the best model out of \n",
    "1. Random forest\n",
    "2. SVM \n",
    "3. logistic regression for iris dataset."
   ]
  },
  {
   "cell_type": "code",
   "execution_count": 25,
   "id": "22bf7a03",
   "metadata": {},
   "outputs": [
    {
     "data": {
      "text/plain": [
       "[1, 2, 3, 4, 5, 6, 7, 8, 9]"
      ]
     },
     "execution_count": 25,
     "metadata": {},
     "output_type": "execute_result"
    }
   ],
   "source": [
    "list(range(1,10)) #This can also be used further in model_params to automate the parameters in range.\n",
    "# for C\n",
    "# for n_estimators"
   ]
  },
  {
   "cell_type": "code",
   "execution_count": 26,
   "id": "59313fe0",
   "metadata": {},
   "outputs": [],
   "source": [
    "from sklearn.svm import SVC\n",
    "from sklearn.ensemble import RandomForestClassifier\n",
    "from sklearn.linear_model import LogisticRegression"
   ]
  },
  {
   "cell_type": "code",
   "execution_count": 27,
   "id": "bd5f27a1",
   "metadata": {},
   "outputs": [],
   "source": [
    "model_params = {                           # creating model poarameters\n",
    "    'svm': {\n",
    "        'model': SVC(gamma='auto'),\n",
    "        'params': {\n",
    "            'C':[1,10,20],\n",
    "            'kernel': ['rbf','linear']\n",
    "        }\n",
    "    },\n",
    "    'random_forest':{\n",
    "        'model': RandomForestClassifier(),\n",
    "        'params': {\n",
    "            'n_estimators': [1,5,10]\n",
    "        }\n",
    "    },\n",
    "    'logistic_regression': {\n",
    "        'model': LogisticRegression(),\n",
    "        'params': {\n",
    "            'C': [1,5,10]\n",
    "        }\n",
    "    }   \n",
    "}"
   ]
  },
  {
   "cell_type": "code",
   "execution_count": 28,
   "id": "da734380",
   "metadata": {},
   "outputs": [
    {
     "data": {
      "text/plain": [
       "{'svm': {'model': SVC(gamma='auto'),\n",
       "  'params': {'C': [1, 10, 20], 'kernel': ['rbf', 'linear']}},\n",
       " 'random_forest': {'model': RandomForestClassifier(),\n",
       "  'params': {'n_estimators': [1, 5, 10]}},\n",
       " 'logistic_regression': {'model': LogisticRegression(),\n",
       "  'params': {'C': [1, 5, 10]}}}"
      ]
     },
     "execution_count": 28,
     "metadata": {},
     "output_type": "execute_result"
    }
   ],
   "source": [
    "model_params"
   ]
  },
  {
   "cell_type": "code",
   "execution_count": 29,
   "id": "be2d6ebd",
   "metadata": {},
   "outputs": [
    {
     "data": {
      "text/html": [
       "<div>\n",
       "<style scoped>\n",
       "    .dataframe tbody tr th:only-of-type {\n",
       "        vertical-align: middle;\n",
       "    }\n",
       "\n",
       "    .dataframe tbody tr th {\n",
       "        vertical-align: top;\n",
       "    }\n",
       "\n",
       "    .dataframe thead th {\n",
       "        text-align: right;\n",
       "    }\n",
       "</style>\n",
       "<table border=\"1\" class=\"dataframe\">\n",
       "  <thead>\n",
       "    <tr style=\"text-align: right;\">\n",
       "      <th></th>\n",
       "      <th>svm</th>\n",
       "      <th>random_forest</th>\n",
       "      <th>logistic_regression</th>\n",
       "    </tr>\n",
       "  </thead>\n",
       "  <tbody>\n",
       "    <tr>\n",
       "      <th>model</th>\n",
       "      <td>SVC(gamma='auto')</td>\n",
       "      <td>RandomForestClassifier()</td>\n",
       "      <td>LogisticRegression()</td>\n",
       "    </tr>\n",
       "    <tr>\n",
       "      <th>params</th>\n",
       "      <td>{'C': [1, 10, 20], 'kernel': ['rbf', 'linear']}</td>\n",
       "      <td>{'n_estimators': [1, 5, 10]}</td>\n",
       "      <td>{'C': [1, 5, 10]}</td>\n",
       "    </tr>\n",
       "  </tbody>\n",
       "</table>\n",
       "</div>"
      ],
      "text/plain": [
       "                                                    svm  \\\n",
       "model                                 SVC(gamma='auto')   \n",
       "params  {'C': [1, 10, 20], 'kernel': ['rbf', 'linear']}   \n",
       "\n",
       "                       random_forest   logistic_regression  \n",
       "model       RandomForestClassifier()  LogisticRegression()  \n",
       "params  {'n_estimators': [1, 5, 10]}     {'C': [1, 5, 10]}  "
      ]
     },
     "execution_count": 29,
     "metadata": {},
     "output_type": "execute_result"
    }
   ],
   "source": [
    "df_params = pd.DataFrame(model_params) # creating and viewing the newly created parameters in dataframe.\n",
    "df_params"
   ]
  },
  {
   "cell_type": "raw",
   "id": "9ddf641d",
   "metadata": {},
   "source": [
    "GridSearchCV takes clf = GridSearchCV(estimators, parameter grid, cv)\n",
    "Iterating model_params to get:\n",
    "1. Name of model as i\n",
    "1. Estimator as j[model]\n",
    "2. param_grid as j[params]"
   ]
  },
  {
   "cell_type": "code",
   "execution_count": 30,
   "id": "3843fbba",
   "metadata": {},
   "outputs": [
    {
     "name": "stdout",
     "output_type": "stream",
     "text": [
      "svm\n",
      "random_forest\n",
      "logistic_regression\n"
     ]
    }
   ],
   "source": [
    "#trial1 :\n",
    "for i,j in model_params.items(): \n",
    "    print(i)     # returns the estimators\n",
    "#     print(j)"
   ]
  },
  {
   "cell_type": "code",
   "execution_count": 31,
   "id": "a83f7296",
   "metadata": {},
   "outputs": [
    {
     "name": "stdout",
     "output_type": "stream",
     "text": [
      "{'model': SVC(gamma='auto'), 'params': {'C': [1, 10, 20], 'kernel': ['rbf', 'linear']}}\n",
      "{'model': RandomForestClassifier(), 'params': {'n_estimators': [1, 5, 10]}}\n",
      "{'model': LogisticRegression(), 'params': {'C': [1, 5, 10]}}\n"
     ]
    }
   ],
   "source": [
    "#trial2\n",
    "for i,j in model_params.items():\n",
    "#     print(i)\n",
    "    print(j)    # returns the parameter grid"
   ]
  },
  {
   "cell_type": "code",
   "execution_count": 32,
   "id": "d4b14c4c",
   "metadata": {},
   "outputs": [
    {
     "name": "stdout",
     "output_type": "stream",
     "text": [
      "SVC(gamma='auto')\n",
      "RandomForestClassifier()\n",
      "LogisticRegression()\n"
     ]
    }
   ],
   "source": [
    "#trial3 - estimators\n",
    "for i,j in model_params.items():\n",
    "#     print(i)\n",
    "    print(j['model'])"
   ]
  },
  {
   "cell_type": "code",
   "execution_count": 33,
   "id": "c2851ac7",
   "metadata": {},
   "outputs": [
    {
     "name": "stdout",
     "output_type": "stream",
     "text": [
      "{'C': [1, 10, 20], 'kernel': ['rbf', 'linear']}\n",
      "{'n_estimators': [1, 5, 10]}\n",
      "{'C': [1, 5, 10]}\n"
     ]
    }
   ],
   "source": [
    "#trial4 - parameters\n",
    "for i,j in model_params.items():\n",
    "#     print(i)\n",
    "    print(j['params'])"
   ]
  },
  {
   "cell_type": "markdown",
   "id": "f9bc3cd0",
   "metadata": {},
   "source": [
    "__Finding the best model with their best scores and best parameters__"
   ]
  },
  {
   "cell_type": "code",
   "execution_count": 38,
   "id": "226f1791",
   "metadata": {},
   "outputs": [],
   "source": [
    "from sklearn.model_selection import GridSearchCV #takes (estimator, param_grid, cv)"
   ]
  },
  {
   "cell_type": "code",
   "execution_count": 34,
   "id": "7c6f1fb0",
   "metadata": {},
   "outputs": [
    {
     "data": {
      "text/plain": [
       "[{'MODEL': 'svm',\n",
       "  'BEST SCORE': 0.9800000000000001,\n",
       "  'BEST PARAMS': {'C': 1, 'kernel': 'rbf'}},\n",
       " {'MODEL': 'random_forest',\n",
       "  'BEST SCORE': 0.9666666666666668,\n",
       "  'BEST PARAMS': {'n_estimators': 5}},\n",
       " {'MODEL': 'logistic_regression',\n",
       "  'BEST SCORE': 0.9800000000000001,\n",
       "  'BEST PARAMS': {'C': 5}}]"
      ]
     },
     "execution_count": 34,
     "metadata": {},
     "output_type": "execute_result"
    }
   ],
   "source": [
    "scores = []\n",
    "for i,j in model_params.items():\n",
    "    clf = GridSearchCV(j['model'], j['params'],cv =5)\n",
    "    clf.fit(iris.data,iris.target)\n",
    "    scores.append({\n",
    "        'MODEL': i,\n",
    "        'BEST SCORE': clf.best_score_,\n",
    "        'BEST PARAMS': clf.best_params_\n",
    "    })\n",
    "scores"
   ]
  },
  {
   "cell_type": "code",
   "execution_count": 37,
   "id": "dea03b63",
   "metadata": {},
   "outputs": [
    {
     "data": {
      "text/plain": [
       "list"
      ]
     },
     "execution_count": 37,
     "metadata": {},
     "output_type": "execute_result"
    }
   ],
   "source": [
    "type(scores) #this is a list, with dictionary inside it."
   ]
  },
  {
   "cell_type": "code",
   "execution_count": 35,
   "id": "cd21a090",
   "metadata": {},
   "outputs": [
    {
     "data": {
      "text/html": [
       "<div>\n",
       "<style scoped>\n",
       "    .dataframe tbody tr th:only-of-type {\n",
       "        vertical-align: middle;\n",
       "    }\n",
       "\n",
       "    .dataframe tbody tr th {\n",
       "        vertical-align: top;\n",
       "    }\n",
       "\n",
       "    .dataframe thead th {\n",
       "        text-align: right;\n",
       "    }\n",
       "</style>\n",
       "<table border=\"1\" class=\"dataframe\">\n",
       "  <thead>\n",
       "    <tr style=\"text-align: right;\">\n",
       "      <th></th>\n",
       "      <th>MODEL</th>\n",
       "      <th>BEST SCORE</th>\n",
       "      <th>BEST PARAMS</th>\n",
       "    </tr>\n",
       "  </thead>\n",
       "  <tbody>\n",
       "    <tr>\n",
       "      <th>0</th>\n",
       "      <td>svm</td>\n",
       "      <td>0.980000</td>\n",
       "      <td>{'C': 1, 'kernel': 'rbf'}</td>\n",
       "    </tr>\n",
       "    <tr>\n",
       "      <th>1</th>\n",
       "      <td>random_forest</td>\n",
       "      <td>0.966667</td>\n",
       "      <td>{'n_estimators': 5}</td>\n",
       "    </tr>\n",
       "    <tr>\n",
       "      <th>2</th>\n",
       "      <td>logistic_regression</td>\n",
       "      <td>0.980000</td>\n",
       "      <td>{'C': 5}</td>\n",
       "    </tr>\n",
       "  </tbody>\n",
       "</table>\n",
       "</div>"
      ],
      "text/plain": [
       "                 MODEL  BEST SCORE                BEST PARAMS\n",
       "0                  svm    0.980000  {'C': 1, 'kernel': 'rbf'}\n",
       "1        random_forest    0.966667        {'n_estimators': 5}\n",
       "2  logistic_regression    0.980000                   {'C': 5}"
      ]
     },
     "execution_count": 35,
     "metadata": {},
     "output_type": "execute_result"
    }
   ],
   "source": [
    "best_model_df = pd.DataFrame(scores) # creating dataframe from the above scores \n",
    "best_model_df"
   ]
  },
  {
   "cell_type": "code",
   "execution_count": null,
   "id": "42deec4b",
   "metadata": {},
   "outputs": [],
   "source": []
  }
 ],
 "metadata": {
  "kernelspec": {
   "display_name": "Python 3 (ipykernel)",
   "language": "python",
   "name": "python3"
  },
  "language_info": {
   "codemirror_mode": {
    "name": "ipython",
    "version": 3
   },
   "file_extension": ".py",
   "mimetype": "text/x-python",
   "name": "python",
   "nbconvert_exporter": "python",
   "pygments_lexer": "ipython3",
   "version": "3.9.12"
  }
 },
 "nbformat": 4,
 "nbformat_minor": 5
}
