{
 "cells": [
  {
   "cell_type": "markdown",
   "id": "6b86ffa1",
   "metadata": {},
   "source": [
    "__Result: Support Vector Machines gave best accuracy: 99 % digits dataset__"
   ]
  },
  {
   "cell_type": "code",
   "execution_count": 1,
   "id": "756875e7",
   "metadata": {},
   "outputs": [],
   "source": [
    "%matplotlib inline\n",
    "from matplotlib import pyplot as plt\n",
    "from sklearn.datasets import load_digits\n",
    "import pandas as pd\n",
    "import numpy as np"
   ]
  },
  {
   "cell_type": "code",
   "execution_count": 2,
   "id": "30865563",
   "metadata": {},
   "outputs": [],
   "source": [
    "digits = load_digits()"
   ]
  },
  {
   "cell_type": "code",
   "execution_count": 3,
   "id": "16a8d6e9",
   "metadata": {},
   "outputs": [
    {
     "data": {
      "text/plain": [
       "['DESCR', 'data', 'feature_names', 'frame', 'images', 'target', 'target_names']"
      ]
     },
     "execution_count": 3,
     "metadata": {},
     "output_type": "execute_result"
    }
   ],
   "source": [
    "dir(digits)"
   ]
  },
  {
   "cell_type": "code",
   "execution_count": 4,
   "id": "ee6ef898",
   "metadata": {},
   "outputs": [
    {
     "data": {
      "text/plain": [
       "(64,)"
      ]
     },
     "execution_count": 4,
     "metadata": {},
     "output_type": "execute_result"
    }
   ],
   "source": [
    "digits.data[0].shape #first row of X"
   ]
  },
  {
   "cell_type": "code",
   "execution_count": 5,
   "id": "7c728bf4",
   "metadata": {},
   "outputs": [
    {
     "data": {
      "text/plain": [
       "array([0, 1, 2, ..., 8, 9, 8])"
      ]
     },
     "execution_count": 5,
     "metadata": {},
     "output_type": "execute_result"
    }
   ],
   "source": [
    "digits.target # y actual values"
   ]
  },
  {
   "cell_type": "code",
   "execution_count": 6,
   "id": "66989124",
   "metadata": {},
   "outputs": [
    {
     "data": {
      "text/plain": [
       "array([0, 1, 2, 3, 4, 5, 6, 7, 8, 9])"
      ]
     },
     "execution_count": 6,
     "metadata": {},
     "output_type": "execute_result"
    }
   ],
   "source": [
    "np.unique(digits.target) #all unique values in y actual"
   ]
  },
  {
   "cell_type": "markdown",
   "id": "6521d3e1",
   "metadata": {},
   "source": [
    "__Traintest split__"
   ]
  },
  {
   "cell_type": "code",
   "execution_count": 7,
   "id": "a34aa182",
   "metadata": {},
   "outputs": [],
   "source": [
    "from sklearn.model_selection import train_test_split\n",
    "X_train, X_test, y_train, y_test = train_test_split(digits.data,digits.target,test_size=0.2) # (flattened 2d array,1d array)"
   ]
  },
  {
   "cell_type": "code",
   "execution_count": 8,
   "id": "8014cebc",
   "metadata": {},
   "outputs": [
    {
     "data": {
      "text/plain": [
       "(1437, 64)"
      ]
     },
     "execution_count": 8,
     "metadata": {},
     "output_type": "execute_result"
    }
   ],
   "source": [
    "X_train.shape"
   ]
  },
  {
   "cell_type": "code",
   "execution_count": 9,
   "id": "231dda55",
   "metadata": {},
   "outputs": [
    {
     "data": {
      "text/plain": [
       "(360, 64)"
      ]
     },
     "execution_count": 9,
     "metadata": {},
     "output_type": "execute_result"
    }
   ],
   "source": [
    "X_test.shape"
   ]
  },
  {
   "cell_type": "code",
   "execution_count": 10,
   "id": "30c6f5f9",
   "metadata": {},
   "outputs": [
    {
     "data": {
      "text/plain": [
       "(1437,)"
      ]
     },
     "execution_count": 10,
     "metadata": {},
     "output_type": "execute_result"
    }
   ],
   "source": [
    "y_train.shape"
   ]
  },
  {
   "cell_type": "code",
   "execution_count": 11,
   "id": "650c0d91",
   "metadata": {},
   "outputs": [
    {
     "data": {
      "text/plain": [
       "(360,)"
      ]
     },
     "execution_count": 11,
     "metadata": {},
     "output_type": "execute_result"
    }
   ],
   "source": [
    "y_test.shape"
   ]
  },
  {
   "cell_type": "markdown",
   "id": "77924c2e",
   "metadata": {},
   "source": [
    "__SVM MODEL__"
   ]
  },
  {
   "cell_type": "code",
   "execution_count": 12,
   "id": "ec0b81a5",
   "metadata": {},
   "outputs": [],
   "source": [
    "from sklearn.svm import SVC\n",
    "SVMmodel = SVC()"
   ]
  },
  {
   "cell_type": "code",
   "execution_count": 13,
   "id": "6350c573",
   "metadata": {},
   "outputs": [
    {
     "data": {
      "text/plain": [
       "SVC()"
      ]
     },
     "execution_count": 13,
     "metadata": {},
     "output_type": "execute_result"
    }
   ],
   "source": [
    "SVMmodel.fit(X_train,y_train)"
   ]
  },
  {
   "cell_type": "code",
   "execution_count": 14,
   "id": "c589f35a",
   "metadata": {},
   "outputs": [
    {
     "data": {
      "text/plain": [
       "0.9888888888888889"
      ]
     },
     "execution_count": 14,
     "metadata": {},
     "output_type": "execute_result"
    }
   ],
   "source": [
    "SVMmodel.score(X_test,y_test)"
   ]
  },
  {
   "cell_type": "code",
   "execution_count": 15,
   "id": "9c246cd5",
   "metadata": {},
   "outputs": [
    {
     "data": {
      "text/plain": [
       "array([7, 9, 9, 3, 2, 8, 3, 8, 5, 8, 2, 7, 6, 2, 7, 8, 0, 8, 8, 4, 2, 0,\n",
       "       0, 6, 4, 3, 1, 9, 3, 1, 3, 0, 9, 3, 3, 9, 1, 9, 4, 5, 1, 3, 3, 5,\n",
       "       5, 6, 4, 7, 7, 4, 3, 7, 0, 4, 5, 7, 2, 1, 3, 5, 1, 4, 0, 0, 9, 5,\n",
       "       2, 2, 0, 5, 7, 2, 8, 1, 4, 7, 4, 2, 8, 1, 8, 8, 5, 3, 3, 0, 9, 7,\n",
       "       3, 7, 1, 2, 0, 8, 4, 3, 0, 5, 3, 9, 2, 1, 5, 7, 0, 0, 4, 1, 6, 2,\n",
       "       4, 0, 0, 0, 5, 7, 4, 1, 9, 5, 0, 0, 8, 8, 8, 9, 9, 3, 9, 5, 1, 4,\n",
       "       4, 2, 1, 0, 4, 7, 9, 5, 1, 7, 7, 2, 8, 9, 5, 1, 5, 4, 5, 0, 3, 3,\n",
       "       3, 7, 2, 6, 4, 2, 9, 8, 0, 6, 8, 8, 8, 3, 1, 4, 0, 0, 9, 2, 9, 6,\n",
       "       2, 3, 4, 9, 4, 4, 9, 8, 9, 3, 3, 9, 1, 7, 4, 7, 4, 2, 8, 6, 1, 0,\n",
       "       8, 7, 9, 8, 0, 4, 6, 3, 3, 3, 5, 7, 9, 2, 2, 8, 5, 3, 3, 1, 4, 2,\n",
       "       3, 4, 6, 9, 2, 2, 1, 0, 2, 9, 7, 5, 9, 4, 8, 2, 8, 3, 9, 3, 1, 4,\n",
       "       5, 1, 5, 1, 9, 8, 3, 4, 1, 6, 4, 6, 9, 4, 0, 1, 1, 9, 6, 1, 9, 1,\n",
       "       6, 6, 3, 5, 0, 5, 4, 3, 3, 4, 5, 9, 4, 2, 4, 8, 1, 3, 8, 7, 9, 7,\n",
       "       9, 8, 5, 5, 0, 1, 9, 5, 4, 4, 6, 9, 9, 5, 7, 0, 7, 6, 9, 5, 7, 7,\n",
       "       1, 3, 5, 1, 3, 7, 2, 3, 6, 5, 5, 4, 5, 2, 9, 7, 5, 9, 0, 3, 7, 2,\n",
       "       1, 3, 9, 8, 0, 7, 9, 6, 0, 1, 6, 2, 7, 9, 2, 7, 3, 1, 8, 9, 7, 3,\n",
       "       8, 9, 0, 4, 4, 8, 6, 9])"
      ]
     },
     "execution_count": 15,
     "metadata": {},
     "output_type": "execute_result"
    }
   ],
   "source": [
    "SVMpred=SVMmodel.predict(X_test)\n",
    "SVMpred"
   ]
  },
  {
   "cell_type": "code",
   "execution_count": 16,
   "id": "507aac3e",
   "metadata": {},
   "outputs": [
    {
     "data": {
      "text/plain": [
       "Text(24.0, 0.5, 'True')"
      ]
     },
     "execution_count": 16,
     "metadata": {},
     "output_type": "execute_result"
    },
    {
     "data": {
      "image/png": "[encoded data removed]",
      "text/plain": [
       "<Figure size 360x252 with 2 Axes>"
      ]
     },
     "metadata": {
      "needs_background": "light"
     },
     "output_type": "display_data"
    }
   ],
   "source": [
    "from sklearn.metrics import confusion_matrix\n",
    "cm = confusion_matrix(y_test,SVMpred)\n",
    "import seaborn as sn\n",
    "plt.figure (figsize =(5,3.5))\n",
    "sn.heatmap(cm, annot = True,fmt = \"d\")\n",
    "plt.xlabel(\"Predicted\")\n",
    "plt.ylabel(\"True\")"
   ]
  },
  {
   "cell_type": "markdown",
   "id": "d1ccc28a",
   "metadata": {},
   "source": [
    "__LOGISTIC REGRESSION__"
   ]
  },
  {
   "cell_type": "code",
   "execution_count": 17,
   "id": "1bc13508",
   "metadata": {},
   "outputs": [
    {
     "name": "stderr",
     "output_type": "stream",
     "text": [
      "C:\\Users\\DELL\\anaconda3\\lib\\site-packages\\sklearn\\linear_model\\_logistic.py:814: ConvergenceWarning: lbfgs failed to converge (status=1):\n",
      "STOP: TOTAL NO. of ITERATIONS REACHED LIMIT.\n",
      "\n",
      "Increase the number of iterations (max_iter) or scale the data as shown in:\n",
      "    https://scikit-learn.org/stable/modules/preprocessing.html\n",
      "Please also refer to the documentation for alternative solver options:\n",
      "    https://scikit-learn.org/stable/modules/linear_model.html#logistic-regression\n",
      "  n_iter_i = _check_optimize_result(\n"
     ]
    },
    {
     "data": {
      "text/plain": [
       "LogisticRegression()"
      ]
     },
     "execution_count": 17,
     "metadata": {},
     "output_type": "execute_result"
    }
   ],
   "source": [
    "from sklearn.linear_model import LogisticRegression\n",
    "LRmodel = LogisticRegression()\n",
    "LRmodel.fit(X_train,y_train)"
   ]
  },
  {
   "cell_type": "code",
   "execution_count": 18,
   "id": "7131d074",
   "metadata": {},
   "outputs": [
    {
     "data": {
      "text/plain": [
       "array([7, 9, 9, 3, 2, 8, 3, 8, 5, 8, 2, 7, 6, 2, 7, 8, 0, 8, 8, 4, 2, 0,\n",
       "       0, 6, 4, 3, 8, 9, 5, 1, 3, 0, 9, 3, 3, 9, 1, 9, 4, 1, 1, 3, 3, 5,\n",
       "       5, 6, 4, 7, 7, 4, 3, 7, 0, 4, 5, 7, 2, 1, 3, 5, 1, 4, 0, 0, 9, 5,\n",
       "       2, 2, 0, 5, 7, 2, 8, 8, 4, 7, 4, 2, 8, 1, 8, 1, 5, 3, 3, 0, 9, 7,\n",
       "       3, 7, 1, 2, 0, 8, 4, 8, 0, 5, 3, 9, 2, 1, 5, 7, 0, 0, 4, 1, 6, 2,\n",
       "       4, 0, 0, 0, 5, 7, 4, 1, 9, 5, 0, 0, 1, 8, 8, 9, 9, 3, 9, 5, 1, 4,\n",
       "       4, 2, 8, 0, 4, 7, 9, 5, 1, 7, 7, 2, 8, 9, 5, 1, 5, 4, 5, 0, 3, 3,\n",
       "       3, 7, 2, 6, 4, 2, 5, 8, 0, 5, 8, 8, 8, 3, 1, 4, 0, 0, 9, 2, 9, 6,\n",
       "       2, 3, 4, 9, 4, 4, 9, 8, 9, 3, 3, 9, 1, 7, 4, 7, 4, 2, 8, 6, 1, 0,\n",
       "       8, 7, 9, 8, 0, 7, 6, 3, 3, 3, 5, 7, 9, 2, 2, 8, 5, 3, 3, 1, 4, 2,\n",
       "       3, 4, 6, 9, 2, 2, 1, 0, 2, 9, 7, 5, 9, 4, 8, 2, 8, 3, 9, 3, 1, 4,\n",
       "       5, 1, 5, 1, 9, 8, 3, 4, 1, 6, 4, 6, 9, 4, 0, 1, 1, 9, 6, 1, 9, 1,\n",
       "       6, 6, 5, 5, 0, 5, 4, 3, 3, 4, 5, 9, 4, 2, 4, 8, 1, 3, 8, 7, 9, 7,\n",
       "       9, 8, 5, 5, 0, 1, 9, 5, 4, 4, 6, 9, 9, 5, 7, 0, 7, 6, 9, 5, 3, 7,\n",
       "       1, 3, 5, 1, 3, 7, 2, 3, 6, 5, 5, 4, 5, 2, 9, 7, 5, 9, 0, 3, 7, 2,\n",
       "       1, 3, 9, 8, 0, 7, 9, 6, 0, 1, 6, 2, 7, 9, 2, 7, 3, 1, 8, 9, 7, 3,\n",
       "       8, 9, 0, 4, 4, 8, 6, 9])"
      ]
     },
     "execution_count": 18,
     "metadata": {},
     "output_type": "execute_result"
    }
   ],
   "source": [
    "LRpred = LRmodel.predict(X_test) #predicted values\n",
    "LRpred"
   ]
  },
  {
   "cell_type": "code",
   "execution_count": 19,
   "id": "5a503f87",
   "metadata": {},
   "outputs": [
    {
     "data": {
      "text/plain": [
       "0.9583333333333334"
      ]
     },
     "execution_count": 19,
     "metadata": {},
     "output_type": "execute_result"
    }
   ],
   "source": [
    "LRmodel.score(X_test,y_test)"
   ]
  },
  {
   "cell_type": "code",
   "execution_count": 20,
   "id": "7a6d2f9a",
   "metadata": {},
   "outputs": [
    {
     "data": {
      "text/plain": [
       "array([[ 0.00000000e+00, -5.33653444e-03, -2.95185107e-02,\n",
       "         6.26077172e-02,  3.48049945e-02, -9.80274299e-02,\n",
       "        -1.39185120e-01, -1.30591810e-02, -7.83781948e-05,\n",
       "        -3.51017287e-02,  5.46076852e-03,  1.57017868e-01,\n",
       "         3.00092815e-02,  1.06362779e-01, -5.59112495e-02,\n",
       "        -1.53362043e-02, -3.17925051e-05,  7.29033641e-02,\n",
       "         1.28944300e-01, -4.14270119e-02, -3.31040805e-01,\n",
       "         1.60660444e-01,  5.51279122e-02, -5.22911626e-03,\n",
       "        -1.05832877e-05,  1.79223975e-01,  1.13565815e-01,\n",
       "        -1.32668758e-01, -4.01306190e-01,  2.94289799e-02,\n",
       "         8.10397976e-02, -1.38396899e-04,  0.00000000e+00,\n",
       "         1.66013887e-01,  1.06208306e-01, -1.41074767e-01,\n",
       "        -3.40812903e-01,  7.55270967e-03,  9.61199906e-02,\n",
       "         0.00000000e+00, -3.40262640e-04, -7.33679561e-04,\n",
       "         2.42777931e-01, -2.08447520e-01, -1.43286703e-01,\n",
       "         7.13398313e-02,  6.24939324e-02, -4.72772051e-04,\n",
       "        -9.96316961e-04, -9.10039510e-02,  1.23927953e-01,\n",
       "        -1.20130499e-02,  1.08968518e-01,  4.35697248e-02,\n",
       "        -1.28401669e-02, -6.08656919e-03, -1.10461901e-05,\n",
       "        -1.13994939e-02, -7.04711161e-02,  1.46915934e-01,\n",
       "        -4.85708677e-03, -4.65128872e-02, -7.76675868e-03,\n",
       "        -9.04339891e-03],\n",
       "       [ 0.00000000e+00,  1.06467230e-02, -1.59969992e-01,\n",
       "         1.82516013e-01, -6.48459375e-01,  3.43990370e-01,\n",
       "         4.51245339e-02, -5.87453229e-03, -1.12471273e-03,\n",
       "        -3.01914243e-01, -3.85507285e-01, -2.77969833e-01,\n",
       "         1.28583421e-01, -6.65200670e-02, -3.33496545e-01,\n",
       "        -4.66947453e-03, -2.30672941e-04,  2.24190458e-01,\n",
       "        -7.91913196e-02,  5.99442941e-01,  2.78710878e-01,\n",
       "        -1.45408764e-01,  4.02064132e-02, -1.47241395e-03,\n",
       "        -2.50437706e-02, -1.69687716e-01,  5.62071737e-02,\n",
       "         9.28326309e-03,  2.86557954e-01, -7.64461114e-03,\n",
       "         6.14343017e-02, -4.91603339e-05,  0.00000000e+00,\n",
       "        -1.06404926e-01,  1.39914533e-01, -1.67326206e-01,\n",
       "         1.35922722e-01,  2.06380228e-01, -1.69129855e-01,\n",
       "         0.00000000e+00, -1.31732634e-04, -1.34926893e-01,\n",
       "        -1.02339184e-02,  3.79256778e-01, -4.06361046e-02,\n",
       "        -9.79819107e-02, -4.15644466e-01, -8.29326058e-04,\n",
       "        -1.26669171e-03, -1.14924770e-01, -9.30159225e-02,\n",
       "         1.09482569e-01,  3.23036580e-01, -6.55315792e-02,\n",
       "        -3.15014926e-01,  2.30918969e-01, -3.83288527e-04,\n",
       "         1.97027193e-02, -1.79049043e-01,  4.41431922e-02,\n",
       "        -7.18992909e-02,  2.30660808e-01,  1.22387693e-01,\n",
       "         2.30319921e-01],\n",
       "       [ 0.00000000e+00,  2.20018428e-02,  4.61804232e-04,\n",
       "         5.02824670e-02,  6.02717592e-02, -8.75455143e-02,\n",
       "        -2.80492775e-02, -1.85881846e-03, -8.68115174e-03,\n",
       "         2.41767677e-01,  9.82366936e-03, -1.61782699e-01,\n",
       "         2.64058071e-01,  7.97293527e-03,  7.73804146e-03,\n",
       "        -2.26860093e-03, -3.84117440e-03, -9.37639081e-02,\n",
       "        -1.18385603e-01, -2.37639405e-01,  2.41026156e-01,\n",
       "        -3.32996188e-02,  1.78956610e-01, -7.00267248e-04,\n",
       "        -1.08694992e-05, -1.95961302e-01, -5.19935752e-01,\n",
       "        -3.86183404e-01, -2.67174160e-01,  1.75679270e-02,\n",
       "         6.02906157e-02, -3.17547952e-05,  0.00000000e+00,\n",
       "        -1.62696704e-01, -3.66470540e-01, -9.42270378e-02,\n",
       "         2.34652539e-02, -1.79768374e-01, -2.35194501e-01,\n",
       "         0.00000000e+00, -1.27033559e-04,  9.22320860e-02,\n",
       "         6.52121717e-02,  4.08447181e-01, -3.14055350e-01,\n",
       "        -3.19935279e-01, -1.32516193e-01,  1.67640427e-03,\n",
       "         2.65812563e-03,  7.64597885e-02,  1.00581050e-01,\n",
       "         5.40669598e-01,  3.03177626e-01,  2.81456055e-01,\n",
       "         1.33659309e-01, -1.63525508e-02,  9.21795834e-04,\n",
       "         2.20014895e-02,  1.63019892e-01,  7.19165346e-02,\n",
       "         4.70721530e-02,  2.40027689e-01,  3.92556652e-01,\n",
       "         9.25257051e-02],\n",
       "       [ 0.00000000e+00,  1.10283267e-01, -5.05554527e-02,\n",
       "         9.24341832e-02,  3.93744098e-01,  1.19797673e-01,\n",
       "        -5.79610443e-02, -2.22739757e-03, -1.04869357e-02,\n",
       "         1.25597046e-01,  2.91328719e-01,  2.61853596e-02,\n",
       "         1.11426732e-01,  2.85956392e-01,  1.16144723e-01,\n",
       "        -2.09733688e-02, -3.15676156e-03, -8.84320941e-02,\n",
       "        -3.69929958e-01, -4.61766901e-01,  5.59745479e-02,\n",
       "        -2.19098589e-01, -6.96000894e-03, -7.13006766e-04,\n",
       "        -1.05972494e-05, -1.29547979e-01, -3.23687977e-01,\n",
       "        -1.23761297e-01,  2.52237735e-01, -3.50534327e-01,\n",
       "        -2.54571037e-01, -3.17705946e-05,  0.00000000e+00,\n",
       "        -9.02682749e-02, -1.33316580e-01,  1.61855975e-02,\n",
       "         4.83317829e-02, -1.47373258e-01,  7.57231844e-03,\n",
       "         0.00000000e+00, -1.26963595e-04, -6.39209643e-02,\n",
       "        -1.44553640e-01, -4.86807504e-01,  1.40491014e-01,\n",
       "         3.09506004e-01,  8.90551878e-02, -2.05208246e-03,\n",
       "        -1.44545929e-04, -2.29248505e-02,  3.25715548e-02,\n",
       "        -1.60955713e-01, -1.48790247e-02,  2.52450082e-01,\n",
       "         3.75254879e-01, -4.51173756e-02, -1.28855736e-05,\n",
       "         8.97534373e-02,  1.06831634e-01,  1.04318968e-01,\n",
       "        -5.87238977e-02, -2.18241526e-02,  7.16804019e-02,\n",
       "        -1.23420424e-01],\n",
       "       [ 0.00000000e+00, -1.16143445e-02, -5.10803093e-02,\n",
       "        -3.36377416e-01, -1.93608496e-01, -2.40108941e-01,\n",
       "        -1.43389057e-01,  9.20412820e-03, -7.83637872e-05,\n",
       "        -2.05637155e-02, -1.85297077e-01, -1.10624956e-01,\n",
       "        -3.94264030e-01, -2.63239365e-01, -1.28584432e-01,\n",
       "         2.72363263e-02, -3.18414780e-05,  1.45435540e-01,\n",
       "         1.91835561e-01,  2.94349814e-01, -5.77691669e-02,\n",
       "         7.83985987e-02,  9.79045494e-02,  2.53300513e-02,\n",
       "         2.52325414e-02, -2.63328255e-02,  1.39320646e-01,\n",
       "         1.31342126e-01,  1.80352547e-01, -5.49847061e-02,\n",
       "         3.36383915e-01,  1.43077559e-03,  0.00000000e+00,\n",
       "         1.96197061e-01,  1.81227829e-01, -1.52806222e-01,\n",
       "         3.13233361e-01,  2.37890455e-01,  4.45903160e-01,\n",
       "         0.00000000e+00,  1.69088143e-03,  4.46403672e-01,\n",
       "         7.17199499e-03,  4.94547458e-01,  4.47974368e-01,\n",
       "         1.20769941e-01,  1.15272814e-01, -5.15596779e-04,\n",
       "         2.49610658e-03,  1.89071173e-01, -2.16171764e-01,\n",
       "         6.10169460e-02,  9.73683573e-02, -2.58967978e-01,\n",
       "        -2.23546219e-01, -4.46725269e-03, -1.30261244e-05,\n",
       "        -7.06059083e-02, -6.01860801e-02, -3.13836294e-01,\n",
       "        -1.17865873e-01, -1.71104530e-01, -6.71153245e-02,\n",
       "        -9.16751923e-03],\n",
       "       [ 0.00000000e+00,  5.96746308e-02,  3.41393509e-01,\n",
       "        -9.91473020e-02, -2.49854641e-02,  2.30373133e-01,\n",
       "         3.55443072e-01, -6.31398658e-03, -6.57683813e-05,\n",
       "        -9.67279758e-02,  1.50508151e-01,  2.02470047e-01,\n",
       "         1.05329028e-02, -1.38985377e-01,  1.95190456e-02,\n",
       "         1.30993946e-02, -1.08631246e-04, -4.75939570e-02,\n",
       "         3.86646854e-02,  1.11782931e-02, -3.59292065e-01,\n",
       "        -3.81121279e-01, -4.58729407e-01, -6.37571931e-03,\n",
       "        -6.47505328e-05,  1.93451611e-01,  4.07596192e-01,\n",
       "        -3.83403680e-02,  2.35731321e-01, -1.16806713e-01,\n",
       "        -1.95592083e-01, -5.37789178e-05,  0.00000000e+00,\n",
       "         5.79932844e-02,  1.02197102e-01, -1.64812587e-01,\n",
       "        -1.06442322e-01,  4.28461834e-03,  1.41965559e-01,\n",
       "         0.00000000e+00, -1.27223135e-04, -1.85901460e-01,\n",
       "        -1.88006341e-01, -2.57734980e-01, -1.73423459e-01,\n",
       "         1.07214631e-01, -1.06341179e-02, -6.32498352e-04,\n",
       "        -1.38976923e-04, -9.80644158e-02, -6.16716457e-02,\n",
       "        -1.49432334e-01, -8.56317571e-02, -3.23502171e-02,\n",
       "        -1.26091600e-01, -2.48184504e-02, -1.08425196e-05,\n",
       "         6.68611138e-02,  4.61197954e-01,  2.56224145e-01,\n",
       "         8.64366353e-02,  3.19271813e-02, -2.16520172e-01,\n",
       "        -8.19540469e-02],\n",
       "       [ 0.00000000e+00, -7.64814054e-03, -2.06409998e-01,\n",
       "        -6.88352287e-02,  3.62752718e-02, -1.39575750e-01,\n",
       "        -1.48513906e-02, -1.38065367e-03, -1.14857840e-04,\n",
       "        -1.26237073e-01, -1.63919319e-01, -5.14844540e-02,\n",
       "        -2.88527977e-01, -8.66714913e-03,  4.40318003e-02,\n",
       "        -1.35152750e-03, -4.92018737e-05, -1.19710982e-01,\n",
       "         1.95707942e-01,  1.51456178e-02, -2.21568627e-01,\n",
       "        -3.40493616e-01, -1.10232915e-01, -1.00496554e-03,\n",
       "        -1.59484075e-05,  9.56076991e-02,  4.06439778e-02,\n",
       "         8.03497332e-02, -2.30505368e-01, -6.39126369e-02,\n",
       "        -2.03405500e-01, -1.16875003e-04,  0.00000000e+00,\n",
       "         2.12991346e-01,  9.15275578e-02,  1.99994832e-01,\n",
       "         2.37948774e-02, -5.72878413e-02,  1.37838387e-01,\n",
       "         0.00000000e+00, -4.53051385e-04, -1.97766223e-01,\n",
       "         4.86617255e-01,  1.84701061e-01,  1.49666574e-01,\n",
       "         1.98073378e-02,  2.51051115e-01,  4.00702524e-03,\n",
       "        -8.16063150e-04, -1.18501787e-01,  6.85835637e-02,\n",
       "         7.70469018e-02, -6.44464004e-02,  2.69886232e-01,\n",
       "         1.70778378e-01, -1.33786915e-01, -1.07903022e-05,\n",
       "        -5.46891215e-03, -1.20237389e-01, -1.43226472e-01,\n",
       "         4.86821374e-02,  1.21125817e-01,  2.51652757e-02,\n",
       "        -5.95269962e-02],\n",
       "       [ 0.00000000e+00,  3.18050774e-02,  1.37453451e-01,\n",
       "         9.76574115e-02,  4.67378077e-02,  1.08010552e-01,\n",
       "         1.67011622e-01,  7.88403907e-02, -7.48688713e-05,\n",
       "         8.68882204e-02,  1.61529617e-01,  1.66896530e-01,\n",
       "         3.89933393e-01, -1.24817628e-01, -9.65685454e-03,\n",
       "         7.08014112e-02, -3.17842915e-05, -2.05218674e-01,\n",
       "        -2.62396242e-01, -1.48472232e-01,  1.36655543e-01,\n",
       "         2.09116460e-01,  1.07020010e-01,  1.45883749e-02,\n",
       "        -1.37112335e-05, -9.01501755e-02, -2.91914046e-02,\n",
       "        -2.66680489e-01,  7.21954824e-02,  2.59398353e-01,\n",
       "         2.21039469e-01, -3.27684561e-05,  0.00000000e+00,\n",
       "         5.49427983e-02,  7.41881876e-02, -5.36975876e-02,\n",
       "         1.27142025e-01,  2.70196236e-01,  1.73126110e-01,\n",
       "         0.00000000e+00, -1.26972031e-04,  4.99228800e-02,\n",
       "        -6.29326508e-02,  1.01909528e-01,  1.29333149e-01,\n",
       "        -1.28390752e-01, -2.66894205e-02, -4.66523950e-04,\n",
       "        -1.57349220e-04, -5.13088694e-02, -1.08708567e-01,\n",
       "         4.23015962e-02, -1.68853861e-01, -4.19842416e-01,\n",
       "        -1.05164882e-01, -3.13874406e-03, -1.65640434e-05,\n",
       "         1.11040617e-02,  7.38373224e-02, -3.18200617e-01,\n",
       "        -2.53292741e-01, -3.09294117e-01, -8.91614335e-02,\n",
       "        -5.91356347e-03],\n",
       "       [ 0.00000000e+00, -1.34612857e-01,  1.72527050e-01,\n",
       "        -1.79257005e-01,  8.66649392e-02, -5.34785050e-03,\n",
       "        -2.67971456e-01, -7.32218915e-03,  2.09384870e-02,\n",
       "        -1.14375025e-01,  4.26677275e-02, -8.81831214e-04,\n",
       "        -1.99115435e-01,  1.60906353e-01,  3.68586919e-02,\n",
       "        -3.95014833e-03,  7.53509006e-03,  4.52410588e-02,\n",
       "         1.40956111e-01, -5.26314601e-02,  1.13446794e-01,\n",
       "         1.58890876e-01,  9.76117293e-02, -1.33488381e-03,\n",
       "        -5.11452042e-05,  7.48903592e-02, -1.09447534e-01,\n",
       "         3.79564952e-01, -1.57023200e-01, -4.46071567e-02,\n",
       "        -5.05513641e-02, -5.16136851e-05,  0.00000000e+00,\n",
       "        -4.12060611e-02, -8.92443042e-02,  2.87050607e-01,\n",
       "         5.29550608e-02, -1.77711056e-01, -4.87320384e-01,\n",
       "         0.00000000e+00, -1.30659949e-04, -8.49837962e-02,\n",
       "         1.93663818e-01,  6.16426443e-02,  1.65038717e-01,\n",
       "         8.03415771e-02,  8.91541269e-02, -8.87978036e-04,\n",
       "        -1.49353731e-03,  6.44164591e-03,  2.59416132e-01,\n",
       "        -2.86262776e-01, -2.27986707e-01,  7.00503697e-02,\n",
       "         1.68806560e-01, -3.15338649e-02, -4.51773831e-04,\n",
       "        -6.30369155e-02, -3.86983288e-01,  5.76967177e-02,\n",
       "         1.99216856e-01,  3.00954244e-02, -1.61729494e-01,\n",
       "        -7.98198220e-02],\n",
       "       [ 0.00000000e+00, -7.51996647e-02, -1.54301551e-01,\n",
       "         1.98119160e-01,  2.08554464e-01, -2.31566242e-01,\n",
       "         8.38281171e-02, -5.00077602e-02, -2.33449760e-04,\n",
       "         2.40666818e-01,  7.34050290e-02,  5.01739690e-02,\n",
       "        -5.26363591e-02,  4.10311272e-02,  3.03356778e-01,\n",
       "        -6.25878077e-02, -5.32297649e-05,  6.69491939e-02,\n",
       "         1.33794524e-01,  2.18203440e-02,  1.43856747e-01,\n",
       "         5.12355489e-01, -9.04892578e-04, -2.30880533e-02,\n",
       "        -1.11654340e-05,  6.85063531e-02,  2.24928864e-01,\n",
       "         3.47094241e-01,  2.89338785e-02,  3.32094891e-01,\n",
       "        -5.60681156e-02, -9.24656903e-04,  0.00000000e+00,\n",
       "        -2.87562411e-01, -1.06232090e-01,  2.70713372e-01,\n",
       "        -2.77589858e-01, -1.64163718e-01, -1.10880786e-01,\n",
       "         0.00000000e+00, -1.26982504e-04,  7.96743767e-02,\n",
       "        -5.89716620e-01, -6.77514647e-01, -3.61102206e-01,\n",
       "        -1.62671379e-01, -2.15429792e-02,  1.73348177e-04,\n",
       "        -1.40751018e-04,  2.24756037e-01, -1.05512354e-01,\n",
       "        -2.21853737e-01, -2.70753331e-01, -1.40720273e-01,\n",
       "        -6.58413321e-02,  3.43827538e-02, -1.15787225e-05,\n",
       "        -5.89115919e-02,  1.20401126e-02,  9.40478909e-02,\n",
       "         1.25231107e-01, -1.05101233e-01, -6.94968389e-02,\n",
       "         4.60001446e-02]])"
      ]
     },
     "execution_count": 20,
     "metadata": {},
     "output_type": "execute_result"
    }
   ],
   "source": [
    "LRmodel.coef_ #64 variables(slopes) 10 classes"
   ]
  },
  {
   "cell_type": "code",
   "execution_count": 21,
   "id": "608a88a7",
   "metadata": {},
   "outputs": [
    {
     "data": {
      "text/plain": [
       "(10, 64)"
      ]
     },
     "execution_count": 21,
     "metadata": {},
     "output_type": "execute_result"
    }
   ],
   "source": [
    "LRmodel.coef_.shape # (10 rows(classes),64 columns(variables))"
   ]
  },
  {
   "cell_type": "code",
   "execution_count": 22,
   "id": "2d085149",
   "metadata": {},
   "outputs": [
    {
     "data": {
      "text/plain": [
       "array([ 0.00510003, -0.10230684, -0.00079728, -0.01594345,  0.0463174 ,\n",
       "        0.00502217, -0.00696129,  0.01266102,  0.07309804, -0.01618979])"
      ]
     },
     "execution_count": 22,
     "metadata": {},
     "output_type": "execute_result"
    }
   ],
   "source": [
    "LRmodel.intercept_ #10 intercepts(10 classes)"
   ]
  },
  {
   "cell_type": "markdown",
   "id": "efc27af6",
   "metadata": {},
   "source": [
    "__CONFUSION MATRIX__"
   ]
  },
  {
   "cell_type": "code",
   "execution_count": 23,
   "id": "be1e4097",
   "metadata": {},
   "outputs": [],
   "source": [
    "from sklearn.metrics import confusion_matrix\n",
    "cm = confusion_matrix(y_test,LRpred)"
   ]
  },
  {
   "cell_type": "code",
   "execution_count": 24,
   "id": "21e55031",
   "metadata": {},
   "outputs": [
    {
     "data": {
      "text/plain": [
       "Text(24.0, 0.5, 'True')"
      ]
     },
     "execution_count": 24,
     "metadata": {},
     "output_type": "execute_result"
    },
    {
     "data": {
      "image/png": "[encoded data removed]",
      "text/plain": [
       "<Figure size 360x252 with 2 Axes>"
      ]
     },
     "metadata": {
      "needs_background": "light"
     },
     "output_type": "display_data"
    }
   ],
   "source": [
    "import seaborn as sn\n",
    "plt.figure (figsize =(5,3.5))\n",
    "sn.heatmap(cm, annot = True,fmt = \"d\")\n",
    "plt.xlabel(\"Predicted\")\n",
    "plt.ylabel(\"True\")"
   ]
  },
  {
   "cell_type": "code",
   "execution_count": null,
   "id": "c3d0ecb6",
   "metadata": {},
   "outputs": [],
   "source": []
  }
 ],
 "metadata": {
  "kernelspec": {
   "display_name": "Python 3 (ipykernel)",
   "language": "python",
   "name": "python3"
  },
  "language_info": {
   "codemirror_mode": {
    "name": "ipython",
    "version": 3
   },
   "file_extension": ".py",
   "mimetype": "text/x-python",
   "name": "python",
   "nbconvert_exporter": "python",
   "pygments_lexer": "ipython3",
   "version": "3.9.12"
  }
 },
 "nbformat": 4,
 "nbformat_minor": 5
}
