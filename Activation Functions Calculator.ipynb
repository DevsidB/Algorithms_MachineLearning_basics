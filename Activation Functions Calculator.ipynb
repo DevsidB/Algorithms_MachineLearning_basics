{
 "cells": [
  {
   "cell_type": "markdown",
   "id": "132f57b2",
   "metadata": {},
   "source": [
    "__Sigmoid Activation__ Values between 0 to 0.5 to  1 "
   ]
  },
  {
   "cell_type": "code",
   "execution_count": 1,
   "id": "4d5b74a4",
   "metadata": {},
   "outputs": [],
   "source": [
    "def sigmoid(x):\n",
    "    import math\n",
    "    return 1/(1 + math.exp(-x))"
   ]
  },
  {
   "cell_type": "code",
   "execution_count": 12,
   "id": "6b6db737",
   "metadata": {},
   "outputs": [
    {
     "data": {
      "text/plain": [
       "1.0"
      ]
     },
     "execution_count": 12,
     "metadata": {},
     "output_type": "execute_result"
    }
   ],
   "source": [
    "sigmoid(150)"
   ]
  },
  {
   "cell_type": "code",
   "execution_count": 13,
   "id": "c98cfcfa",
   "metadata": {},
   "outputs": [
    {
     "data": {
      "text/plain": [
       "7.175095973164411e-66"
      ]
     },
     "execution_count": 13,
     "metadata": {},
     "output_type": "execute_result"
    }
   ],
   "source": [
    "sigmoid(-150)"
   ]
  },
  {
   "cell_type": "code",
   "execution_count": 14,
   "id": "c7405d36",
   "metadata": {},
   "outputs": [
    {
     "data": {
      "text/plain": [
       "0.5"
      ]
     },
     "execution_count": 14,
     "metadata": {},
     "output_type": "execute_result"
    }
   ],
   "source": [
    "sigmoid(0)"
   ]
  },
  {
   "cell_type": "markdown",
   "id": "30f4ab67",
   "metadata": {},
   "source": [
    "__Tanh Activation__ Values between -1 to 0 to 1 "
   ]
  },
  {
   "cell_type": "code",
   "execution_count": 9,
   "id": "1ab08cca",
   "metadata": {},
   "outputs": [],
   "source": [
    "def tanh(x):\n",
    "    import math\n",
    "    return (math.exp(x)- math.exp(-x))/(math.exp(x)+ math.exp(-x))"
   ]
  },
  {
   "cell_type": "code",
   "execution_count": 10,
   "id": "b8f5931b",
   "metadata": {},
   "outputs": [
    {
     "data": {
      "text/plain": [
       "-1.0"
      ]
     },
     "execution_count": 10,
     "metadata": {},
     "output_type": "execute_result"
    }
   ],
   "source": [
    "tanh(-150)"
   ]
  },
  {
   "cell_type": "code",
   "execution_count": 11,
   "id": "0f749e31",
   "metadata": {},
   "outputs": [
    {
     "data": {
      "text/plain": [
       "1.0"
      ]
     },
     "execution_count": 11,
     "metadata": {},
     "output_type": "execute_result"
    }
   ],
   "source": [
    "tanh(150)"
   ]
  },
  {
   "cell_type": "code",
   "execution_count": 15,
   "id": "e8dd912b",
   "metadata": {},
   "outputs": [
    {
     "data": {
      "text/plain": [
       "0.0"
      ]
     },
     "execution_count": 15,
     "metadata": {},
     "output_type": "execute_result"
    }
   ],
   "source": [
    "tanh(0)"
   ]
  },
  {
   "cell_type": "markdown",
   "id": "9c97f025",
   "metadata": {},
   "source": [
    "__Relu Activation__ Values between 0 to x"
   ]
  },
  {
   "cell_type": "code",
   "execution_count": 17,
   "id": "549504a5",
   "metadata": {},
   "outputs": [],
   "source": [
    "def relu(x):\n",
    "    return max(0,x)"
   ]
  },
  {
   "cell_type": "code",
   "execution_count": 18,
   "id": "f3d35f26",
   "metadata": {},
   "outputs": [
    {
     "data": {
      "text/plain": [
       "0"
      ]
     },
     "execution_count": 18,
     "metadata": {},
     "output_type": "execute_result"
    }
   ],
   "source": [
    "relu(-150)"
   ]
  },
  {
   "cell_type": "code",
   "execution_count": 19,
   "id": "b0c1dfdd",
   "metadata": {},
   "outputs": [
    {
     "data": {
      "text/plain": [
       "150"
      ]
     },
     "execution_count": 19,
     "metadata": {},
     "output_type": "execute_result"
    }
   ],
   "source": [
    "relu(150)"
   ]
  },
  {
   "cell_type": "code",
   "execution_count": 20,
   "id": "bc841871",
   "metadata": {},
   "outputs": [
    {
     "data": {
      "text/plain": [
       "0"
      ]
     },
     "execution_count": 20,
     "metadata": {},
     "output_type": "execute_result"
    }
   ],
   "source": [
    "relu(0)"
   ]
  },
  {
   "cell_type": "markdown",
   "id": "99b9bdc7",
   "metadata": {},
   "source": [
    "__LeakyRelu Activation__ Values between 0.1x to x"
   ]
  },
  {
   "cell_type": "code",
   "execution_count": 22,
   "id": "2d0e449f",
   "metadata": {},
   "outputs": [],
   "source": [
    "def leakyrelu(x):\n",
    "    return max(0.1 * x, x)"
   ]
  },
  {
   "cell_type": "code",
   "execution_count": 23,
   "id": "6253c798",
   "metadata": {},
   "outputs": [
    {
     "data": {
      "text/plain": [
       "-15.0"
      ]
     },
     "execution_count": 23,
     "metadata": {},
     "output_type": "execute_result"
    }
   ],
   "source": [
    "leakyrelu(-150)"
   ]
  },
  {
   "cell_type": "code",
   "execution_count": 24,
   "id": "5a1bfb7b",
   "metadata": {},
   "outputs": [
    {
     "data": {
      "text/plain": [
       "150"
      ]
     },
     "execution_count": 24,
     "metadata": {},
     "output_type": "execute_result"
    }
   ],
   "source": [
    "leakyrelu(150)"
   ]
  },
  {
   "cell_type": "code",
   "execution_count": 25,
   "id": "4898b551",
   "metadata": {},
   "outputs": [
    {
     "data": {
      "text/plain": [
       "0.0"
      ]
     },
     "execution_count": 25,
     "metadata": {},
     "output_type": "execute_result"
    }
   ],
   "source": [
    "leakyrelu(0)"
   ]
  },
  {
   "cell_type": "code",
   "execution_count": null,
   "id": "680109d8",
   "metadata": {},
   "outputs": [],
   "source": []
  }
 ],
 "metadata": {
  "kernelspec": {
   "display_name": "Python 3 (ipykernel)",
   "language": "python",
   "name": "python3"
  },
  "language_info": {
   "codemirror_mode": {
    "name": "ipython",
    "version": 3
   },
   "file_extension": ".py",
   "mimetype": "text/x-python",
   "name": "python",
   "nbconvert_exporter": "python",
   "pygments_lexer": "ipython3",
   "version": "3.9.12"
  }
 },
 "nbformat": 4,
 "nbformat_minor": 5
}
