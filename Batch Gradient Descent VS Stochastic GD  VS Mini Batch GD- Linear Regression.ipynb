{
 "cells": [
  {
   "cell_type": "markdown",
   "id": "ec556c4a",
   "metadata": {},
   "source": [
    "__We will use very simple home prices data set to implement batch and stochastic gradient descent in python. Batch gradient descent uses all training samples in forward pass to calculate cumulative error and than we adjust weights using derivatives. In stochastic GD, we randomly pick one training sample, perform forward pass, compute the error and immediately adjust weights. So the key difference here is that to adjust weights batch GD will use all training samples where as stochastic GD will use one randomly picked training sample.__"
   ]
  },
  {
   "cell_type": "code",
   "execution_count": 1,
   "id": "719edabc",
   "metadata": {},
   "outputs": [],
   "source": [
    "import pandas as pd\n",
    "import numpy as np\n",
    "from matplotlib import pyplot as plt \n",
    "%matplotlib inline"
   ]
  },
  {
   "cell_type": "code",
   "execution_count": 2,
   "id": "ec6cca5b",
   "metadata": {},
   "outputs": [
    {
     "data": {
      "text/plain": [
       "(20, 3)"
      ]
     },
     "execution_count": 2,
     "metadata": {},
     "output_type": "execute_result"
    }
   ],
   "source": [
    "df = pd.read_csv(\"housing_banglore.csv\")\n",
    "df.shape"
   ]
  },
  {
   "cell_type": "code",
   "execution_count": 3,
   "id": "6066e1ae",
   "metadata": {},
   "outputs": [],
   "source": [
    "from sklearn import preprocessing\n",
    "sx =  preprocessing.MinMaxScaler()     # For scaling values in range 0-1\n",
    "sy =  preprocessing.MinMaxScaler()      # For scaling values in range 0-1\n",
    "x= df.drop('price', axis = 'columns')   # dropping the last column from x_train\n",
    "scaled_X = sx.fit_transform(x)\n",
    "scaled_y = sy.fit_transform(df['price'].values.reshape(df.shape[0],1)) # df.shape[0] returns number of rows in df.\n",
    "# type(scaled_X) --> Numpy array\n",
    "# type(scaled_y) --> Numpy array\n",
    "# scaled_X.shape --> (20, 2)\n",
    "# scaled_y.shape --> (20, 1)"
   ]
  },
  {
   "cell_type": "raw",
   "id": "316a9687",
   "metadata": {},
   "source": [
    "type(df ['price']) #Returns pandas series --> Cannot use in fit and cannot convert to 2d numpy with (rows,column)\n",
    "type(df['price'].values # Returns 1d numpy array of shape (20,) --> Does'nt consist column\n",
    "type(df['price'].values.reshape(20,1) # Returns 2d numpy array of shape (20,1) --> required in fit function"
   ]
  },
  {
   "cell_type": "markdown",
   "id": "a3cad02d",
   "metadata": {},
   "source": [
    "## Batch Gradient Descent Function"
   ]
  },
  {
   "cell_type": "markdown",
   "id": "35fb098c",
   "metadata": {},
   "source": [
    "__Quick Review space of code for batch_gradient_descent(). CAN SKIP THIS PART__"
   ]
  },
  {
   "cell_type": "markdown",
   "id": "9a7ed80e",
   "metadata": {},
   "source": [
    "__y_predicted = np.dot(w,X.T) + b ===== QUICK CHECK__"
   ]
  },
  {
   "cell_type": "code",
   "execution_count": 4,
   "id": "7871a903",
   "metadata": {},
   "outputs": [],
   "source": [
    "t = (scaled_X.T)"
   ]
  },
  {
   "cell_type": "code",
   "execution_count": 5,
   "id": "cb99bdd9",
   "metadata": {},
   "outputs": [],
   "source": [
    "# w = np.ones(shape= (2)).reshape(1,2) #--> Returns shape (1,2)--> 2d array --> y_predicted becomes a 2d array \n",
    "w = np.ones(shape= (2)) # Will also work as shape is (2,) --> 1d array with 2 columns. --> y_predicted becomes a 1d array \n",
    "# dot matrix for np.dot(w,scaled_X.T) will still be valid as it will be considered as 2 column which satisfies the condition (1, 2)(2, 20) for both above cases\n",
    "# matrix subtraction for (scaled_y - y_predicted) after reshape above with (20, 1) (1, 20) returns mean 0.2768\n",
    "# matrix subtraction for (scaled_y - y_predicted.T) after reshape above with (20, 1) (20, 1) after transpose returns mean 0.2768"
   ]
  },
  {
   "cell_type": "code",
   "execution_count": 6,
   "id": "c0a74dd3",
   "metadata": {},
   "outputs": [
    {
     "data": {
      "text/plain": [
       "(2, 20)"
      ]
     },
     "execution_count": 6,
     "metadata": {},
     "output_type": "execute_result"
    }
   ],
   "source": [
    "t.shape"
   ]
  },
  {
   "cell_type": "code",
   "execution_count": 7,
   "id": "e358aab4",
   "metadata": {},
   "outputs": [
    {
     "data": {
      "text/plain": [
       "(2,)"
      ]
     },
     "execution_count": 7,
     "metadata": {},
     "output_type": "execute_result"
    }
   ],
   "source": [
    "w.shape"
   ]
  },
  {
   "cell_type": "code",
   "execution_count": 8,
   "id": "bba4d4ed",
   "metadata": {},
   "outputs": [
    {
     "data": {
      "text/plain": [
       "array([1., 1.])"
      ]
     },
     "execution_count": 8,
     "metadata": {},
     "output_type": "execute_result"
    }
   ],
   "source": [
    "w"
   ]
  },
  {
   "cell_type": "code",
   "execution_count": 9,
   "id": "f10db191",
   "metadata": {},
   "outputs": [
    {
     "data": {
      "text/plain": [
       "array([[0.08827586, 0.62068966, 0.22068966, 0.24862069, 0.13793103,\n",
       "        0.12758621, 0.6662069 , 0.86206897, 0.17586207, 1.        ,\n",
       "        0.34482759, 0.68448276, 0.06896552, 0.10344828, 0.5       ,\n",
       "        0.12931034, 0.13103448, 0.25517241, 0.67931034, 0.        ],\n",
       "       [0.25      , 0.75      , 0.5       , 0.5       , 0.25      ,\n",
       "        0.25      , 0.75      , 0.75      , 0.5       , 1.        ,\n",
       "        0.5       , 0.75      , 0.25      , 0.25      , 0.5       ,\n",
       "        0.25      , 0.5       , 0.5       , 0.5       , 0.        ]])"
      ]
     },
     "execution_count": 9,
     "metadata": {},
     "output_type": "execute_result"
    }
   ],
   "source": [
    "t"
   ]
  },
  {
   "cell_type": "code",
   "execution_count": 10,
   "id": "fdc1cf8b",
   "metadata": {},
   "outputs": [
    {
     "data": {
      "text/plain": [
       "(20,)"
      ]
     },
     "execution_count": 10,
     "metadata": {},
     "output_type": "execute_result"
    }
   ],
   "source": [
    "w_check = np.dot(w,scaled_X.T) # (2,)(2, 20)\n",
    "# we get = w1*x1 + w2*x2  For Matrix dot product (1, 2)(2, 20) is valid\n",
    "# It is used inside y_predicted = np.dot(w,X.T) + b. Just checking the shape it will return. Neglecting b for now.\n",
    "w_check.shape\n",
    "# returns w1x1 + w2x2 "
   ]
  },
  {
   "cell_type": "markdown",
   "id": "44b83d54",
   "metadata": {},
   "source": [
    "__cost = np.mean(np.square(scaled_y- y_predicted))===Quick Check__"
   ]
  },
  {
   "cell_type": "code",
   "execution_count": 11,
   "id": "10eceac0",
   "metadata": {},
   "outputs": [
    {
     "data": {
      "text/plain": [
       "(20, 1)"
      ]
     },
     "execution_count": 11,
     "metadata": {},
     "output_type": "execute_result"
    }
   ],
   "source": [
    "scaled_y.shape #2d array. It remains a 2d array only even if w is 2d above."
   ]
  },
  {
   "cell_type": "code",
   "execution_count": 12,
   "id": "d9ab5597",
   "metadata": {},
   "outputs": [
    {
     "data": {
      "text/plain": [
       "(20,)"
      ]
     },
     "execution_count": 12,
     "metadata": {},
     "output_type": "execute_result"
    }
   ],
   "source": [
    "b = 0\n",
    "y_predicted = np.dot(w,scaled_X.T) + b\n",
    "y_predicted.shape #1d array\n",
    "# y_predicted"
   ]
  },
  {
   "cell_type": "code",
   "execution_count": 13,
   "id": "1a5ae6cf",
   "metadata": {},
   "outputs": [
    {
     "data": {
      "text/plain": [
       "(20,)"
      ]
     },
     "execution_count": 13,
     "metadata": {},
     "output_type": "execute_result"
    }
   ],
   "source": [
    "# scaled_y shape is (20, 1). Converting it to (20,) for matrix subtraction in cost function.\n",
    "scaled_y_new = scaled_y.reshape(scaled_y.shape[0],) \n",
    "# converting 2d to 1d array to match the input dim of y_predicted. \n",
    "# It is used inside cost function matrix subtraction. cost = np.mean(np.square(scaled_y- y_predicted))\n",
    "#  scaled_y and y_predicted shape should be (20,) for matrix subtraction.\n",
    "scaled_y_new.shape "
   ]
  },
  {
   "cell_type": "raw",
   "id": "34f2cdbd",
   "metadata": {},
   "source": [
    "cost1 = (1/n)*(cost1) and # cost1 = np.mean(cost1) are two different things. \n",
    "cost1 = (1/n)*(cost1) divides the numpy array by n and returns a numpy array\n",
    "cost1 = np.mean(cost1) adds the numpy array and returns single value output. "
   ]
  },
  {
   "cell_type": "code",
   "execution_count": 14,
   "id": "640f36c6",
   "metadata": {
    "scrolled": true
   },
   "outputs": [
    {
     "data": {
      "text/plain": [
       "0.2768777174681"
      ]
     },
     "execution_count": 14,
     "metadata": {},
     "output_type": "execute_result"
    }
   ],
   "source": [
    "n= scaled_X.shape[0]\n",
    "cost1 = (1/n) * sum ([val**2 for val in (scaled_y_new - y_predicted)]) # use this when w is 1d above. For 2d if this is used it returns a wrong value. But same subtraction matrix if used in numpy for 2d, returns a correct answer.Refer below cell.\n",
    "# cost1 = (1/n) * sum ([val**2 for val in (scaled_y - y_predicted.T)]) #use this when w is 2d above \n",
    "# cost1 = ([val**2 for val in (scaled_y - y_predicted)]) # AttributeError: 'list' object has no attribute 'shape'\n",
    "cost1 = np.mean(cost1) # Returns correct answer in digit. But np.mean is required. Else cost1 above will return numpy array. \n",
    "# cost1.shape\n",
    "# type(cost1)\n",
    "cost1"
   ]
  },
  {
   "cell_type": "markdown",
   "id": "343af2d7",
   "metadata": {},
   "source": [
    "Observe how numpy accepts [(20,) - (1, 20)] below for 1d, when x is 2d , while plain code returns a false value. Correct value for cost is 0.2768777174681. "
   ]
  },
  {
   "cell_type": "code",
   "execution_count": 15,
   "id": "ad063fae",
   "metadata": {},
   "outputs": [
    {
     "data": {
      "text/plain": [
       "(20,)"
      ]
     },
     "execution_count": 15,
     "metadata": {},
     "output_type": "execute_result"
    }
   ],
   "source": [
    "cost2 = scaled_y_new - y_predicted # use this when w is 1d above \n",
    "# cost2 = scaled_y - y_predicted.T  #use this when w is 2d above\n",
    "cost2.shape\n",
    "# cost2 = np.mean(np.square(cost2))\n",
    "# cost2"
   ]
  },
  {
   "cell_type": "raw",
   "id": "bb26c269",
   "metadata": {},
   "source": [
    "w = w - rate*w_grad\n",
    "ValueError: operands could not be broadcast together with shapes (1,2) (2,20) with w as 2d above.\n",
    "Error occurs as we are trying to subtract non similar matrix. See below."
   ]
  },
  {
   "cell_type": "code",
   "execution_count": 16,
   "id": "b500e7f5",
   "metadata": {},
   "outputs": [
    {
     "data": {
      "text/plain": [
       "(2, 20)"
      ]
     },
     "execution_count": 16,
     "metadata": {},
     "output_type": "execute_result"
    }
   ],
   "source": [
    "scaled_X.T.shape"
   ]
  },
  {
   "cell_type": "code",
   "execution_count": 17,
   "id": "5724fcfd",
   "metadata": {},
   "outputs": [
    {
     "data": {
      "text/plain": [
       "(20, 1)"
      ]
     },
     "execution_count": 17,
     "metadata": {},
     "output_type": "execute_result"
    }
   ],
   "source": [
    "scaled_y.shape"
   ]
  },
  {
   "cell_type": "code",
   "execution_count": 18,
   "id": "c24f810f",
   "metadata": {},
   "outputs": [
    {
     "data": {
      "text/plain": [
       "(20,)"
      ]
     },
     "execution_count": 18,
     "metadata": {},
     "output_type": "execute_result"
    }
   ],
   "source": [
    "scaled_y_new.shape"
   ]
  },
  {
   "cell_type": "code",
   "execution_count": 19,
   "id": "d3e1930e",
   "metadata": {},
   "outputs": [
    {
     "data": {
      "text/plain": [
       "(20,)"
      ]
     },
     "execution_count": 19,
     "metadata": {},
     "output_type": "execute_result"
    }
   ],
   "source": [
    "y_predicted.shape"
   ]
  },
  {
   "cell_type": "code",
   "execution_count": 20,
   "id": "4e03234d",
   "metadata": {},
   "outputs": [
    {
     "data": {
      "text/plain": [
       "array([0.44868254, 0.55434464])"
      ]
     },
     "execution_count": 20,
     "metadata": {},
     "output_type": "execute_result"
    }
   ],
   "source": [
    "w_grad = -(2/n)*(np.dot(scaled_X.T,(scaled_y_new - y_predicted))) # Error solved.Use when w is 1d. \n",
    "# w_grad = -(2/n)*(np.dot(scaled_X.T,(scaled_y - y_predicted.T))) # use this when w is 2d above \n",
    "w_grad # \n",
    "# w_grad.shape # will return 1d if w is 1d. Will return 2d if w is 2d. "
   ]
  },
  {
   "cell_type": "raw",
   "id": "5795241b",
   "metadata": {},
   "source": [
    "2d w output:\n",
    "array([[0.44868254],\n",
    "       [0.55434464]])"
   ]
  },
  {
   "cell_type": "code",
   "execution_count": 21,
   "id": "90d7ad68",
   "metadata": {},
   "outputs": [
    {
     "data": {
      "text/plain": [
       "array([0.99551317, 0.99445655])"
      ]
     },
     "execution_count": 21,
     "metadata": {},
     "output_type": "execute_result"
    }
   ],
   "source": [
    "w_check = w - 0.01*w_grad\n",
    "w_check"
   ]
  },
  {
   "cell_type": "raw",
   "id": "a602dc27",
   "metadata": {},
   "source": [
    "2d w output:\n",
    "array([[0.99551317, 0.99551317],\n",
    "       [0.99445655, 0.99445655]])"
   ]
  },
  {
   "cell_type": "code",
   "execution_count": 22,
   "id": "f5931602",
   "metadata": {},
   "outputs": [
    {
     "data": {
      "text/plain": [
       "(20, 1)"
      ]
     },
     "execution_count": 22,
     "metadata": {},
     "output_type": "execute_result"
    }
   ],
   "source": [
    "scaled_y.shape # This 2d array was causing errors in matrix subtraction."
   ]
  },
  {
   "cell_type": "code",
   "execution_count": 23,
   "id": "911271d8",
   "metadata": {},
   "outputs": [
    {
     "data": {
      "text/plain": [
       "(2,)"
      ]
     },
     "execution_count": 23,
     "metadata": {},
     "output_type": "execute_result"
    }
   ],
   "source": [
    "w.shape"
   ]
  },
  {
   "cell_type": "code",
   "execution_count": 24,
   "id": "fe9c9a87",
   "metadata": {},
   "outputs": [
    {
     "data": {
      "text/plain": [
       "(20,)"
      ]
     },
     "execution_count": 24,
     "metadata": {},
     "output_type": "execute_result"
    }
   ],
   "source": [
    "scaled_y_new.shape"
   ]
  },
  {
   "cell_type": "code",
   "execution_count": 25,
   "id": "660ece89",
   "metadata": {},
   "outputs": [
    {
     "data": {
      "text/plain": [
       "(20,)"
      ]
     },
     "execution_count": 25,
     "metadata": {},
     "output_type": "execute_result"
    }
   ],
   "source": [
    "y_predicted.shape"
   ]
  },
  {
   "cell_type": "markdown",
   "id": "c1b3362b",
   "metadata": {},
   "source": [
    "__Whenever you want to multiply and add things just use a dot product. Make sure they satisfy the matrix requirement.Use transpose where needed to achieve the correct form.__\n",
    "\n",
    "__Also in matrix subtraction make sure that both matrix are of the same order and dimension i.e subtract 1d array from 1d array only for correct answers__\n",
    "\n",
    "(anything,same),(same,anything)"
   ]
  },
  {
   "cell_type": "raw",
   "id": "2015db2e",
   "metadata": {},
   "source": [
    "batch_gradient_descent(X_train,scaled_y,epochs = 8000, learning_rate = 0.01)"
   ]
  },
  {
   "cell_type": "code",
   "execution_count": 26,
   "id": "a4da9305",
   "metadata": {},
   "outputs": [],
   "source": [
    "def batch_gradient_descent(X,y,epochs,rate):\n",
    "    number_of_features = X.shape[1]                  #Returns the no. of columns value of X_train. In this case 2.\n",
    "#     w = np.ones(shape= (2)).reshape(1,2) #Alternative/Better understanding of below code. \n",
    "#     w = np.ones(shape= (number_of_features)).reshape(1,number_of_features) #Supply y as 2d array as y predicted becomed 2d array. \n",
    "    w = np.ones(number_of_features)                  # supply y as 1d array as y_predicted becomes 1d array for matrix subtraction.\n",
    "    b = 0\n",
    "    n= X.shape[0]                                    #Returns the no. of rows value of X_train. In this case 2. \n",
    "    cost_list = []\n",
    "    epoch_list = []\n",
    "    for i in range (epochs):\n",
    "\n",
    "        y_predicted = np.dot(w,X.T) + b              # y = w1x1 + w2x2 + b-->Generating (w1x1 + w2x2) using matrix multiplication\n",
    "#         w1 = -(2/n)*sum(x1*(y - y_predicted))      # Initially we used to find the weights separately which was not generic\n",
    "#         w2 = -(2/n)* sum (x2*(y - y_predicted))    # We do not know the number of weights. So automating is required. \n",
    "        w_grad = -(2/n)*(np.dot(X.T,(y - y_predicted))) # Finding the combined weights w1 and w2 using partial derivative\n",
    "        b_grad = -(2/n)* sum (y - y_predicted)       # partial derivation of error wrt b\n",
    "        \n",
    "        w = w - rate*w_grad\n",
    "        b = b - rate*b_grad\n",
    "        \n",
    "#         cost = np.mean((1/n) * sum ([val**2 for val in (y - y_predicted)])) #Alternative.Matrix multiplication not required. But we can still use numpy for faster calculations and shortening of code. \n",
    "        cost = np.mean(np.square(y - y_predicted))  #Make sure y and y_predicted are of same dimension/shape\n",
    "        \n",
    "        if i%10== 0:\n",
    "            cost_list.append(cost)\n",
    "            epoch_list.append(i)\n",
    "       \n",
    "    return w,b,cost, cost_list, epoch_list,y_predicted"
   ]
  },
  {
   "cell_type": "code",
   "execution_count": 27,
   "id": "69fb1a27",
   "metadata": {},
   "outputs": [
    {
     "data": {
      "text/plain": [
       "(array([0.70712464, 0.67456527]),\n",
       " -0.23034857438407427,\n",
       " 0.0068641890429808105,\n",
       " array([ 6.16654134e-04,  7.14559478e-01,  2.62958656e-01,  2.82713765e-01,\n",
       "         3.57368475e-02,  2.84201406e-02,  7.46752989e-01,  8.85282640e-01,\n",
       "         2.31252926e-01,  1.15152689e+00,  3.50759140e-01,  7.59679171e-01,\n",
       "        -1.30411988e-02,  1.13478243e-02,  4.60509744e-01,  2.96395917e-02,\n",
       "         1.99547196e-01,  2.87347679e-01,  5.87332664e-01, -2.30507398e-01]))"
      ]
     },
     "execution_count": 27,
     "metadata": {},
     "output_type": "execute_result"
    }
   ],
   "source": [
    "#  scaled_y.reshape(scaled_y.shape[0],) can be used in above function to avoid manual reshaping of 2d y to 1d y.\n",
    "w,b,cost, cost_list, epoch_list,y_pred = batch_gradient_descent(scaled_X,scaled_y.reshape(scaled_y.shape[0],) ,epochs = 500, rate = 0.01)\n",
    "w,b,cost,y_pred"
   ]
  },
  {
   "cell_type": "markdown",
   "id": "4c37e55c",
   "metadata": {},
   "source": [
    "__Quick info : scaled_y.reshape(scaled_y.shape[0],)  which is 1d array is used instead of scaled_y which is a 2d array inside batch_gradient_descent() for correct order of matrix subtraction in (y - y_predicted). y_predicted is a 1d array.__"
   ]
  },
  {
   "attachments": {
    "Partial%20Derivatives%20of%20MSE%20-%20Linear%20Regression.png": {
     "image/png": "[encoded data removed]"
    }
   },
   "cell_type": "markdown",
   "id": "b7b9f87f",
   "metadata": {},
   "source": [
    "![Partial%20Derivatives%20of%20MSE%20-%20Linear%20Regression.png](attachment:Partial%20Derivatives%20of%20MSE%20-%20Linear%20Regression.png)"
   ]
  },
  {
   "cell_type": "markdown",
   "id": "2a0fae84",
   "metadata": {},
   "source": [
    "__Plotting graph for batch_gradient_descent__"
   ]
  },
  {
   "cell_type": "code",
   "execution_count": 28,
   "id": "16f035f1",
   "metadata": {},
   "outputs": [
    {
     "data": {
      "text/plain": [
       "[<matplotlib.lines.Line2D at 0x73dede53a0>]"
      ]
     },
     "execution_count": 28,
     "metadata": {},
     "output_type": "execute_result"
    },
    {
     "data": {
      "image/png": "[encoded data removed]",
      "text/plain": [
       "<Figure size 432x288 with 1 Axes>"
      ]
     },
     "metadata": {
      "needs_background": "light"
     },
     "output_type": "display_data"
    }
   ],
   "source": [
    "plt.xlabel(\"epoch\")\n",
    "plt.ylabel(\"cost\")\n",
    "plt.plot(epoch_list, cost_list)"
   ]
  },
  {
   "cell_type": "markdown",
   "id": "0c1ba9e6",
   "metadata": {},
   "source": [
    "Observe that for batch gradient descent cost vs epoch curve is a smooth line. The cost is exponentially dropped during first few iterations and later the drop is slowed down."
   ]
  },
  {
   "cell_type": "code",
   "execution_count": 29,
   "id": "e723069a",
   "metadata": {},
   "outputs": [
    {
     "name": "stderr",
     "output_type": "stream",
     "text": [
      "C:\\Users\\DELL\\anaconda3\\lib\\site-packages\\sklearn\\base.py:450: UserWarning: X does not have valid feature names, but MinMaxScaler was fitted with feature names\n",
      "  warnings.warn(\n"
     ]
    },
    {
     "data": {
      "text/plain": [
       "array([0.62068966, 0.75      ])"
      ]
     },
     "execution_count": 29,
     "metadata": {},
     "output_type": "execute_result"
    }
   ],
   "source": [
    "# Generating transformed values of x1 and x2.\n",
    "# scale_X = sx.transform([[2600,4]]) # Expects a 2d array as arguement. Generally dataframe. Returns shape (1, 2) --2d array\n",
    "scale_X = sx.transform([[2600,4]])[0] # Returns shape (2,) 1d array.\n",
    "scale_X"
   ]
  },
  {
   "cell_type": "code",
   "execution_count": 30,
   "id": "a75f9bc3",
   "metadata": {},
   "outputs": [
    {
     "data": {
      "text/plain": [
       "(2,)"
      ]
     },
     "execution_count": 30,
     "metadata": {},
     "output_type": "execute_result"
    }
   ],
   "source": [
    "scale_X.shape"
   ]
  },
  {
   "cell_type": "code",
   "execution_count": 31,
   "id": "0a5528b7",
   "metadata": {},
   "outputs": [
    {
     "data": {
      "text/plain": [
       "array([0.70712464, 0.67456527])"
      ]
     },
     "execution_count": 31,
     "metadata": {},
     "output_type": "execute_result"
    }
   ],
   "source": [
    "w # Weights we got from above SGD function"
   ]
  },
  {
   "cell_type": "code",
   "execution_count": 32,
   "id": "ee482acc",
   "metadata": {},
   "outputs": [
    {
     "data": {
      "text/plain": [
       "0.707124642770257"
      ]
     },
     "execution_count": 32,
     "metadata": {},
     "output_type": "execute_result"
    }
   ],
   "source": [
    "w[0]"
   ]
  },
  {
   "cell_type": "code",
   "execution_count": 33,
   "id": "397b5380",
   "metadata": {},
   "outputs": [
    {
     "data": {
      "text/plain": [
       "0.6206896551724137"
      ]
     },
     "execution_count": 33,
     "metadata": {},
     "output_type": "execute_result"
    }
   ],
   "source": [
    "scale_X[0]"
   ]
  },
  {
   "cell_type": "code",
   "execution_count": 34,
   "id": "cb356324",
   "metadata": {},
   "outputs": [
    {
     "data": {
      "text/plain": [
       "0.6745652664894097"
      ]
     },
     "execution_count": 34,
     "metadata": {},
     "output_type": "execute_result"
    }
   ],
   "source": [
    "w[1]"
   ]
  },
  {
   "cell_type": "code",
   "execution_count": 35,
   "id": "dcf77a37",
   "metadata": {},
   "outputs": [
    {
     "data": {
      "text/plain": [
       "0.75"
      ]
     },
     "execution_count": 35,
     "metadata": {},
     "output_type": "execute_result"
    }
   ],
   "source": [
    "scale_X[1]"
   ]
  },
  {
   "cell_type": "code",
   "execution_count": 36,
   "id": "b2bbf9ee",
   "metadata": {},
   "outputs": [
    {
     "data": {
      "text/plain": [
       "0.7144803261679701"
      ]
     },
     "execution_count": 36,
     "metadata": {},
     "output_type": "execute_result"
    }
   ],
   "source": [
    "y_predict = w[0]*scale_X[0] + w[1]*scale_X[1] +b\n",
    "y_predict"
   ]
  },
  {
   "cell_type": "markdown",
   "id": "c44cb955",
   "metadata": {},
   "source": [
    "Inverse transform expects a 2d array. Returns a 2d array."
   ]
  },
  {
   "cell_type": "code",
   "execution_count": 37,
   "id": "f390e9a4",
   "metadata": {},
   "outputs": [
    {
     "data": {
      "text/plain": [
       "array([[167.,  32.]])"
      ]
     },
     "execution_count": 37,
     "metadata": {},
     "output_type": "execute_result"
    }
   ],
   "source": [
    "# Just for checking\n",
    "sy.inverse_transform([[1,0]]) # Reverses the transform process and returns the actual values."
   ]
  },
  {
   "cell_type": "code",
   "execution_count": 38,
   "id": "15488376",
   "metadata": {},
   "outputs": [
    {
     "data": {
      "text/plain": [
       "(20,)"
      ]
     },
     "execution_count": 38,
     "metadata": {},
     "output_type": "execute_result"
    }
   ],
   "source": [
    "y_pred.shape #Is a 1d array. So adding extra [DIMENSION] inside inverse_transform  "
   ]
  },
  {
   "cell_type": "code",
   "execution_count": 39,
   "id": "c1fdce3f",
   "metadata": {
    "scrolled": true
   },
   "outputs": [
    {
     "data": {
      "text/plain": [
       "array([[ 32.08324831],\n",
       "       [128.46552955],\n",
       "       [ 67.49941859],\n",
       "       [ 70.16635827],\n",
       "       [ 36.82447441],\n",
       "       [ 35.83671898],\n",
       "       [132.81165348],\n",
       "       [151.51315645],\n",
       "       [ 63.21914502],\n",
       "       [187.45612963],\n",
       "       [ 79.35248385],\n",
       "       [134.55668809],\n",
       "       [ 30.23943816],\n",
       "       [ 33.53195629],\n",
       "       [ 94.16881543],\n",
       "       [ 36.00134488],\n",
       "       [ 58.93887145],\n",
       "       [ 70.79193671],\n",
       "       [111.28990971],\n",
       "       [  0.88150124]])"
      ]
     },
     "execution_count": 39,
     "metadata": {},
     "output_type": "execute_result"
    }
   ],
   "source": [
    "sy.inverse_transform([y_pred]).reshape(20,1) # [] or [[]] depends on scale_x above. Else it will throw an error.2d required."
   ]
  },
  {
   "cell_type": "code",
   "execution_count": 110,
   "id": "a036d3d8",
   "metadata": {},
   "outputs": [],
   "source": [
    "def predict(area,bedrooms,w,b):\n",
    "    \n",
    "    scaled_X = sx.transform([[area,bedrooms]])[0] #--> then sy.inverse_transform([[y_predicted]]) RETURNS 1D    \n",
    "#     scaled_X = sx.transform([[area,bedrooms]]) #--> then sy.inverse_transform([y_predicted]) RETURNS 2D\n",
    "\n",
    "\n",
    "    y_predicted = w[0]*scaled_X[0] + w[1]*scaled_X[1] +b  #RETURNS () 1D AND RETURNS ([]) FOR 2D\n",
    "\n",
    "#     Inverse_transform needs y_predicted in 2d as input. Output is the inverse_transformed prediction.(Actual value)\n",
    "    return sy.inverse_transform([[y_predicted]])[0][0]  #-->1D  when y_predicted RETURNS ().[][] returns 1st row 1st column.\n",
    "#     return sy.inverse_transform([[y_predicted]])  #-->1D  when y_predicted RETURNS ()\n",
    "#     return sy.inverse_transform([y_predicted])  #-->2D  when y_predicted RETURNS ([])\n",
    "\n",
    "#     return y_predicted #Output is the transformed prediction.\n",
    "\n",
    "# Remember inverse function takes 2d as argument. y_predicted returns 1d array with [value,value] so 1 bracket less in inverse function. \n",
    "# Another option is to supply a 1d array of scaled_x using [0] index so that y_predicted returns a single number which we can use as an input to inverse function with [[]] and satisfy its requirement of 2d array"
   ]
  },
  {
   "cell_type": "code",
   "execution_count": 41,
   "id": "aa21b2de",
   "metadata": {},
   "outputs": [
    {
     "name": "stderr",
     "output_type": "stream",
     "text": [
      "C:\\Users\\DELL\\anaconda3\\lib\\site-packages\\sklearn\\base.py:450: UserWarning: X does not have valid feature names, but MinMaxScaler was fitted with feature names\n",
      "  warnings.warn(\n"
     ]
    },
    {
     "data": {
      "text/plain": [
       "128.45484403267596"
      ]
     },
     "execution_count": 41,
     "metadata": {},
     "output_type": "execute_result"
    }
   ],
   "source": [
    "predict(2600,4,w,b)"
   ]
  },
  {
   "cell_type": "markdown",
   "id": "b49b0d6b",
   "metadata": {},
   "source": [
    "## Stochastic Gradient Descent Function\n",
    "    Initially in Batch Gradient Descent we used to run through each sample once before 1 epoch was completed and weights were adjusted to get the cost.\n",
    "    In SGD we run through 1 sample every epoch and adjust the weights. So number of epochs defines the sample we went through and the accuracy of the cost we get, after the weights are adjusted. To reach the minimum loss more number of epochs are required to be run as the weights are trained onthe basis of single sample only. "
   ]
  },
  {
   "cell_type": "code",
   "execution_count": 42,
   "id": "dcb9e5fe",
   "metadata": {},
   "outputs": [
    {
     "data": {
      "text/plain": [
       "(20, 2)"
      ]
     },
     "execution_count": 42,
     "metadata": {},
     "output_type": "execute_result"
    }
   ],
   "source": [
    "scaled_X.shape"
   ]
  },
  {
   "cell_type": "code",
   "execution_count": 43,
   "id": "9b897f1f",
   "metadata": {},
   "outputs": [
    {
     "data": {
      "text/plain": [
       "numpy.ndarray"
      ]
     },
     "execution_count": 43,
     "metadata": {},
     "output_type": "execute_result"
    }
   ],
   "source": [
    "type(scaled_X)"
   ]
  },
  {
   "cell_type": "code",
   "execution_count": 44,
   "id": "65e11b40",
   "metadata": {},
   "outputs": [
    {
     "data": {
      "text/plain": [
       "array([0.12758621, 0.25      ])"
      ]
     },
     "execution_count": 44,
     "metadata": {},
     "output_type": "execute_result"
    }
   ],
   "source": [
    "scaled_X[5]"
   ]
  },
  {
   "cell_type": "code",
   "execution_count": 45,
   "id": "894def9c",
   "metadata": {},
   "outputs": [
    {
     "data": {
      "text/plain": [
       "0"
      ]
     },
     "execution_count": 45,
     "metadata": {},
     "output_type": "execute_result"
    }
   ],
   "source": [
    "import random\n",
    "random.randint(0,6)"
   ]
  },
  {
   "cell_type": "code",
   "execution_count": 46,
   "id": "d808778e",
   "metadata": {},
   "outputs": [],
   "source": [
    "rows = scaled_X.shape[0]"
   ]
  },
  {
   "cell_type": "code",
   "execution_count": 109,
   "id": "c3044dc6",
   "metadata": {
    "collapsed": true
   },
   "outputs": [
    {
     "name": "stdout",
     "output_type": "stream",
     "text": [
      "18\n",
      "10\n",
      "16\n",
      "5\n",
      "1\n",
      "6\n",
      "13\n",
      "10\n",
      "8\n",
      "1\n",
      "12\n",
      "13\n",
      "3\n",
      "10\n",
      "1\n",
      "8\n",
      "1\n",
      "14\n",
      "6\n",
      "18\n",
      "1\n",
      "13\n",
      "4\n",
      "5\n",
      "17\n",
      "18\n",
      "12\n",
      "11\n",
      "7\n",
      "3\n",
      "13\n",
      "13\n",
      "16\n",
      "0\n",
      "0\n",
      "7\n",
      "14\n",
      "10\n",
      "6\n",
      "16\n",
      "16\n",
      "10\n",
      "1\n",
      "12\n",
      "11\n",
      "11\n",
      "14\n",
      "9\n",
      "15\n",
      "17\n"
     ]
    }
   ],
   "source": [
    "for i in range(0,50):\n",
    "    num = random.randint(0, rows-1)\n",
    "    print (num)"
   ]
  },
  {
   "cell_type": "code",
   "execution_count": 48,
   "id": "2b6af7e2",
   "metadata": {},
   "outputs": [],
   "source": [
    "def stochastic_gradient_descent(X,y,epochs,rate):\n",
    "    number_of_features = X.shape[1]                  #Returns the no. of columns value of X_train. In this case 2.\n",
    "#     w = np.ones(shape= (2)).reshape(1,2) #Alternative/Better understanding of below code. \n",
    "#     w = np.ones(shape= (number_of_features)).reshape(1,number_of_features) #Supply y as 2d array as y predicted becomed 2d array. \n",
    "    w = np.ones(number_of_features)                  # supply y as 1d array as y_predicted becomes 1d array for matrix subtraction.\n",
    "    b = 0\n",
    "    n= X.shape[0]                                    #Returns the no. of rows value of X_train. In this case 2. \n",
    "    \n",
    "    cost_list = []\n",
    "    epoch_list = []\n",
    "    \n",
    "    for i in range (epochs):                         # Iterating individually for each sample and updating the weights bias and cost.  \n",
    "        # Returns a single random digit between 0-20. Why n-1? 20th number is assigned 19th index.\n",
    "        random_indices = random.randint(0,n-1) \n",
    "        sample_x = X[random_indices]\n",
    "        sample_y = y[random_indices]\n",
    "        \n",
    "        # The rest of the code from here onwards remain the same as batch gradient descent. \n",
    "        #Only difference is that X is replaced with sample_x and y with sample_y\n",
    "        # sum or np.sum is not required as only 1 sample at a time is considered here.\n",
    "          \n",
    "        y_predicted = np.dot(w,sample_x.T) + b              # y = w1x1 + w2x2 + b-->Generating (w1x1 + w2x2) using matrix multiplication\n",
    "        w_grad = -(2/n)*(np.dot(sample_x.T,(sample_y - y_predicted))) # Finding the combined weights w1 and w2 using partial derivative\n",
    "        b_grad = -(2/n)*(sample_y - y_predicted)       # partial derivation of error wrt b\n",
    "        \n",
    "        # Below line 'sum' is not required as we are considering only one sample at a time here. No need to add any array.\n",
    "        # b_grad = -(2/n)* sum (sample_y - y_predicted)       # sum or np.sum is not required as 1 sample at at time is considered here.\n",
    "        \n",
    "        w = w - rate*w_grad\n",
    "        b = b - rate*b_grad\n",
    " \n",
    "        cost = np.mean(np.square(sample_y - y_predicted))  #Make sure y and y_predicted are of same dimension/shape\n",
    "        \n",
    "        if i%10== 0: # At every 10th iteration record the cost and epoch value.\n",
    "            cost_list.append(cost)\n",
    "            epoch_list.append(i)\n",
    "       \n",
    "    return w,b,cost, cost_list, epoch_list,y_predicted \n",
    "#     return w_sgd,b_sgd,cost_sgd, cost_list_sgd, epoch_list_sgd,y_predicted_sgd "
   ]
  },
  {
   "cell_type": "code",
   "execution_count": 49,
   "id": "0b03ae11",
   "metadata": {},
   "outputs": [
    {
     "data": {
      "text/plain": [
       "(array([0.70592411, 0.67311547]), -0.230602526937409, 0.0033809268361348183)"
      ]
     },
     "execution_count": 49,
     "metadata": {},
     "output_type": "execute_result"
    }
   ],
   "source": [
    "w_sgd,b_sgd,cost_sgd, cost_list_sgd, epoch_list_sgd,y_predicted_sgd = stochastic_gradient_descent(scaled_X,scaled_y.reshape(scaled_y.shape[0],) ,epochs = 10000, rate = 0.01)\n",
    "w_sgd,b_sgd,cost_sgd"
   ]
  },
  {
   "cell_type": "raw",
   "id": "7f24a74a",
   "metadata": {},
   "source": [
    "Output from batch GD:\n",
    "(array([0.70712464, 0.67456527]),\n",
    " -0.23034857438407427,\n",
    " 0.0068641890429808105,"
   ]
  },
  {
   "cell_type": "markdown",
   "id": "062355e1",
   "metadata": {},
   "source": [
    "__Plotting Graph for SGD__"
   ]
  },
  {
   "cell_type": "code",
   "execution_count": 50,
   "id": "466d61d4",
   "metadata": {},
   "outputs": [
    {
     "data": {
      "text/plain": [
       "[<matplotlib.lines.Line2D at 0x73def0bc70>]"
      ]
     },
     "execution_count": 50,
     "metadata": {},
     "output_type": "execute_result"
    },
    {
     "data": {
      "image/png": "[encoded data removed]",
      "text/plain": [
       "<Figure size 432x288 with 1 Axes>"
      ]
     },
     "metadata": {
      "needs_background": "light"
     },
     "output_type": "display_data"
    }
   ],
   "source": [
    "plt.xlabel(\"epoch\")\n",
    "plt.ylabel(\"cost\")\n",
    "plt.plot(epoch_list_sgd, cost_list_sgd)"
   ]
  },
  {
   "cell_type": "markdown",
   "id": "9327bf78",
   "metadata": {},
   "source": [
    "__Using predict() we created above to find the prices by changing w and b__"
   ]
  },
  {
   "cell_type": "code",
   "execution_count": 51,
   "id": "1d426f5f",
   "metadata": {},
   "outputs": [
    {
     "name": "stderr",
     "output_type": "stream",
     "text": [
      "C:\\Users\\DELL\\anaconda3\\lib\\site-packages\\sklearn\\base.py:450: UserWarning: X does not have valid feature names, but MinMaxScaler was fitted with feature names\n",
      "  warnings.warn(\n"
     ]
    },
    {
     "data": {
      "text/plain": [
       "128.17317251652153"
      ]
     },
     "execution_count": 51,
     "metadata": {},
     "output_type": "execute_result"
    }
   ],
   "source": [
    "predict(2600,4,w_sgd,b_sgd) # Notice that the value returned is quite similar to that of Batch GD predicted."
   ]
  },
  {
   "cell_type": "markdown",
   "id": "5b413893",
   "metadata": {},
   "source": [
    "## Mini Batch Gradient Descent Function\n",
    "\n",
    "    In minibatch gradient descent a fix sized batch of any random samples is used for training in 1 epoch. Lets say we have training set of size 20. Then we can pick any 5 samples as batch_size ,then train our model , update weights bias cost and repeat the process."
   ]
  },
  {
   "cell_type": "code",
   "execution_count": 52,
   "id": "4dad9441",
   "metadata": {},
   "outputs": [
    {
     "name": "stdout",
     "output_type": "stream",
     "text": [
      "0\n",
      "5\n",
      "10\n",
      "15\n"
     ]
    }
   ],
   "source": [
    "for i in range (0,len(df),5):\n",
    "    print (i)"
   ]
  },
  {
   "cell_type": "markdown",
   "id": "1a1b778c",
   "metadata": {},
   "source": [
    "__Difference between np.random.permutation() and random.randint() is shown below__"
   ]
  },
  {
   "cell_type": "code",
   "execution_count": 95,
   "id": "840973dc",
   "metadata": {},
   "outputs": [
    {
     "data": {
      "text/plain": [
       "array([ 6,  7, 14, 11,  5, 15, 16, 10,  3,  8,  4,  9, 17, 12, 13,  1, 19,\n",
       "       18,  2,  0])"
      ]
     },
     "execution_count": 95,
     "metadata": {},
     "output_type": "execute_result"
    }
   ],
   "source": [
    "random_per_indices = np.random.permutation(len(df)) # Returns a 1d array of random numbers.\n",
    "random_per_indices"
   ]
  },
  {
   "cell_type": "code",
   "execution_count": 96,
   "id": "7cf1316f",
   "metadata": {},
   "outputs": [
    {
     "data": {
      "text/plain": [
       "4"
      ]
     },
     "execution_count": 96,
     "metadata": {},
     "output_type": "execute_result"
    }
   ],
   "source": [
    "random_int_index = random.randint(0,19) # Returns a single random number.\n",
    "random_int_index"
   ]
  },
  {
   "cell_type": "code",
   "execution_count": 97,
   "id": "77da5963",
   "metadata": {},
   "outputs": [
    {
     "name": "stdout",
     "output_type": "stream",
     "text": [
      "[16, 2, 12, 3, 17, 4, 3, 7, 11, 16, 19, 16, 0, 7, 17, 3, 18, 18, 0, 12, 9, 5, 9, 0, 11, 10, 14, 13, 12, 13, 15, 14, 11, 17, 15, 17, 12, 4, 12, 3, 8, 4, 14, 13, 10, 10, 12, 8, 13, 5]\n"
     ]
    }
   ],
   "source": [
    "# Checking the numbers returned by randint\n",
    "list = [] #printing in list to save space else the numbers are printed vertically.\n",
    "for i in range (0,50):\n",
    "    random_int_index=random.randint(0,19)\n",
    "    list.append(random_int_index)\n",
    "print (list)"
   ]
  },
  {
   "cell_type": "code",
   "execution_count": 98,
   "id": "08b5a7e2",
   "metadata": {},
   "outputs": [],
   "source": [
    "random_indices = np.random.permutation(len(df))\n",
    "X_tmp = scaled_X[random_indices]\n",
    "y_tmp = scaled_y[random_indices]"
   ]
  },
  {
   "cell_type": "markdown",
   "id": "03da5674",
   "metadata": {},
   "source": [
    "for j in range(0,20,5) Here j prints 4 values 0 5 10 15 if we skip 5 numbers till 20.\n",
    "initially [j:j+5] will return [0:5] then [5:10] then [10:15] and [15:20]\n",
    "\n",
    "    for j in range(0,20,batchsize) If batch size exceeds the examples write an if statement to make batchsize = number_of_examples. This way we can avoid errors by restricting the value of batch size to be inside the range of example size. For batch size = 20, j will return only one value 20. Hence the for loop will run once only. [j:j+5] will return [0:0+20] i.e. [0:20]"
   ]
  },
  {
   "cell_type": "code",
   "execution_count": 54,
   "id": "2b880307",
   "metadata": {},
   "outputs": [
    {
     "name": "stdout",
     "output_type": "stream",
     "text": [
      "0\n",
      "5\n",
      "10\n",
      "15\n"
     ]
    }
   ],
   "source": [
    "for j in range(0,len(df),5): \n",
    "    print (j)"
   ]
  },
  {
   "cell_type": "code",
   "execution_count": 55,
   "id": "e35d26b7",
   "metadata": {},
   "outputs": [],
   "source": [
    "for j in range(0,len(df),5): \n",
    "    Xj = X_tmp[j:j+5]\n",
    "    yj = y_tmp[j:j+5]"
   ]
  },
  {
   "cell_type": "code",
   "execution_count": 56,
   "id": "c7984b24",
   "metadata": {},
   "outputs": [
    {
     "data": {
      "text/plain": [
       "array([[0.68448276, 0.75      ],\n",
       "       [0.67931034, 0.5       ],\n",
       "       [0.13103448, 0.5       ],\n",
       "       [0.12931034, 0.25      ],\n",
       "       [0.08827586, 0.25      ]])"
      ]
     },
     "execution_count": 56,
     "metadata": {},
     "output_type": "execute_result"
    }
   ],
   "source": [
    "Xj"
   ]
  },
  {
   "cell_type": "code",
   "execution_count": 57,
   "id": "205eab26",
   "metadata": {},
   "outputs": [
    {
     "data": {
      "text/plain": [
       "array([[0.8       ],\n",
       "       [0.51851852],\n",
       "       [0.11851852],\n",
       "       [0.07407407],\n",
       "       [0.05237037]])"
      ]
     },
     "execution_count": 57,
     "metadata": {},
     "output_type": "execute_result"
    }
   ],
   "source": [
    "yj"
   ]
  },
  {
   "cell_type": "code",
   "execution_count": 176,
   "id": "0aa2b9d8",
   "metadata": {},
   "outputs": [],
   "source": [
    "def minibatch_gradient_descent(X,y,epochs,batch_size,rate):\n",
    "    number_of_features = X.shape[1]                  #Returns the no. of columns value of X_train. In this case 2.\n",
    "#     w = np.ones(shape= (2)).reshape(1,2) #Alternative/Better understanding of below code. \n",
    "#     w = np.ones(shape= (number_of_features)).reshape(1,number_of_features) #Supply y as 2d array as y predicted becomed 2d array. \n",
    "    w = np.ones(number_of_features)                  # supply y as 1d array as y_predicted becomes 1d array for matrix subtraction.\n",
    "    b = 0\n",
    "    n= X.shape[0]                                    #Returns the no. of rows value of X_train. In this case 2. \n",
    "    \n",
    "    cost_list = []\n",
    "    epoch_list = []\n",
    "    \n",
    "    for i in range (epochs):                                # Iterating for weights and bias \n",
    "        random_indices = np.random.permutation(n)           # Generating new indices for x and y\n",
    "        sample_x = X[random_indices]\n",
    "        sample_y = y[random_indices]\n",
    "        \n",
    "        for j in range(0,len(X),batch_size):   # Dividing into batch and Finding the weights bias and cost for combined batch\n",
    "            xj = sample_x[j:j+batch_size]\n",
    "            yj = sample_y[j:j+batch_size]\n",
    "            \n",
    "        # The rest of the code from here onwards remain the same as batch gradient descent. Except:\n",
    "        # Only difference is that X is replaced with xj and y with yj\n",
    "        # Sum or np.sum is required as batch (array) is selected for matrix calculations. SGD above does not require np.sum (1 example is trained)  \n",
    "        # b_mbgd will return (5,) 5 outputs if np.sum is not used in b_grad. predict() will throw an error--> ValueError: Found array with dim 3. Estimator expected <= 2.\n",
    "\n",
    "            y_predicted = np.dot(w,xj.T) + b                  # y = w1x1 + w2x2 + b-->Generating (w1x1 + w2x2) using matrix multiplication\n",
    "            w_grad = -(2/n)*(np.dot(xj.T,(yj - y_predicted))) # Finding the combined weights w1 and w2 using partial derivative\n",
    "            b_grad = -(2/n)*np.sum(yj - y_predicted)          # partial derivation of error wrt b.\n",
    "        \n",
    "        # Below line 'sum' is not required as we are considering only one sample at a time here. No need to add any array.\n",
    "        # b_grad = -(2/n)* sum (yj - y_predicted)       # sum or np.sum is not required as 1 sample at at time is considered here.\n",
    "        \n",
    "            w = w - rate*w_grad\n",
    "            b = b - rate*b_grad\n",
    " \n",
    "            cost = np.mean(np.square(yj - y_predicted))  #Make sure y and y_predicted are of same dimension/shape\n",
    "        \n",
    "        if i%10== 0: # At every 10th iteration record the cost and epoch value.\n",
    "            cost_list.append(cost)\n",
    "            epoch_list.append(i)\n",
    "       \n",
    "    return w,b,cost, cost_list, epoch_list,y_predicted \n",
    "#     return w_sgd,b_sgd,cost_sgd, cost_list_sgd, epoch_list_sgd,y_predicted_sgd "
   ]
  },
  {
   "cell_type": "code",
   "execution_count": 177,
   "id": "095d4ef6",
   "metadata": {},
   "outputs": [
    {
     "data": {
      "text/plain": [
       "(array([0.80883893, 0.77679609]), -0.30509041722126173, 0.02266380764799694)"
      ]
     },
     "execution_count": 177,
     "metadata": {},
     "output_type": "execute_result"
    }
   ],
   "source": [
    "w_mbgd,b_mbgd,cost_mbgd, cost_list_mbgd, epoch_list_mbgd,y_predicted_mbgd = minibatch_gradient_descent(scaled_X,scaled_y.reshape(scaled_y.shape[0],) ,120 ,5, 0.01)\n",
    "\n",
    "w_mbgd,b_mbgd,cost_mbgd"
   ]
  },
  {
   "cell_type": "code",
   "execution_count": 178,
   "id": "ce097b40",
   "metadata": {},
   "outputs": [
    {
     "data": {
      "text/plain": [
       "(2,)"
      ]
     },
     "execution_count": 178,
     "metadata": {},
     "output_type": "execute_result"
    }
   ],
   "source": [
    "w_mbgd.shape"
   ]
  },
  {
   "cell_type": "code",
   "execution_count": 179,
   "id": "812cf9ff",
   "metadata": {},
   "outputs": [
    {
     "data": {
      "text/plain": [
       "()"
      ]
     },
     "execution_count": 179,
     "metadata": {},
     "output_type": "execute_result"
    }
   ],
   "source": [
    "b_mbgd.shape"
   ]
  },
  {
   "cell_type": "markdown",
   "id": "4f098298",
   "metadata": {},
   "source": [
    "__Plotting Graph for Mini Btach GD__"
   ]
  },
  {
   "cell_type": "code",
   "execution_count": 186,
   "id": "3e38c52e",
   "metadata": {},
   "outputs": [
    {
     "data": {
      "text/plain": [
       "[<matplotlib.lines.Line2D at 0x73d59185e0>]"
      ]
     },
     "execution_count": 186,
     "metadata": {},
     "output_type": "execute_result"
    },
    {
     "data": {
      "image/png": "[encoded data removed]",
      "text/plain": [
       "<Figure size 432x288 with 1 Axes>"
      ]
     },
     "metadata": {
      "needs_background": "light"
     },
     "output_type": "display_data"
    }
   ],
   "source": [
    "plt.xlabel(\"epoch\")\n",
    "plt.ylabel(\"cost\")\n",
    "plt.plot(epoch_list_mbgd, cost_list_mbgd)"
   ]
  },
  {
   "cell_type": "code",
   "execution_count": 184,
   "id": "a9f33c8f",
   "metadata": {},
   "outputs": [],
   "source": [
    "def predict(area,bedrooms,w,b):\n",
    "    \n",
    "    scaled_X = sx.transform([[area,bedrooms]])[0] #--> then sy.inverse_transform([[y_predicted]]) RETURNS 1D    \n",
    "#     scaled_X = sx.transform([[area,bedrooms]]) #--> then sy.inverse_transform([y_predicted]) RETURNS 2D\n",
    "\n",
    "\n",
    "    y_predicted = w[0]*scaled_X[0] + w[1]*scaled_X[1] +b  #RETURNS () 1D AND RETURNS ([]) FOR 2D\n",
    "\n",
    "#     Inverse_transform needs y_predicted in 2d as input. Output is the inverse_transformed prediction.(Actual value)\n",
    "    return sy.inverse_transform([[y_predicted]])[0][0]  #-->1D  when y_predicted RETURNS ().[][] returns 1st row 1st column.\n",
    "#     return sy.inverse_transform([[y_predicted]])  #-->1D  when y_predicted RETURNS ()\n",
    "#     return sy.inverse_transform([y_predicted])  #-->2D  when y_predicted RETURNS ([])\n",
    "\n",
    "#     return y_predicted #Output is the transformed prediction.\n",
    "\n",
    "# Remember inverse function takes 2d as argument. y_predicted returns 1d array with [value,value] so 1 bracket less in inverse function. \n",
    "# Another option is to supply a 1d array of scaled_x using [0] index so that y_predicted returns a single number which we can use as an input to inverse function with [[]] and satisfy its requirement of 2d array"
   ]
  },
  {
   "cell_type": "code",
   "execution_count": 185,
   "id": "5fc25ad5",
   "metadata": {},
   "outputs": [
    {
     "name": "stderr",
     "output_type": "stream",
     "text": [
      "C:\\Users\\DELL\\anaconda3\\lib\\site-packages\\sklearn\\base.py:450: UserWarning: X does not have valid feature names, but MinMaxScaler was fitted with feature names\n",
      "  warnings.warn(\n"
     ]
    },
    {
     "data": {
      "text/plain": [
       "137.23852219607804"
      ]
     },
     "execution_count": 185,
     "metadata": {},
     "output_type": "execute_result"
    }
   ],
   "source": [
    "predict(2600,4,w_mbgd,b_mbgd) # Notice that the value returned is quite similar to that of Batch GD predicted."
   ]
  },
  {
   "cell_type": "code",
   "execution_count": null,
   "id": "46b2b50b",
   "metadata": {},
   "outputs": [],
   "source": []
  }
 ],
 "metadata": {
  "kernelspec": {
   "display_name": "Python 3 (ipykernel)",
   "language": "python",
   "name": "python3"
  },
  "language_info": {
   "codemirror_mode": {
    "name": "ipython",
    "version": 3
   },
   "file_extension": ".py",
   "mimetype": "text/x-python",
   "name": "python",
   "nbconvert_exporter": "python",
   "pygments_lexer": "ipython3",
   "version": "3.9.12"
  }
 },
 "nbformat": 4,
 "nbformat_minor": 5
}
