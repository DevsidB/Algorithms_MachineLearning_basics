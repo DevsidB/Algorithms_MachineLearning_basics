{
 "cells": [
  {
   "cell_type": "code",
   "execution_count": 2,
   "id": "06594f30",
   "metadata": {},
   "outputs": [],
   "source": [
    "%matplotlib inline\n",
    "from matplotlib import pyplot as plt\n",
    "from sklearn.datasets import load_digits\n",
    "import pandas as pd\n",
    "import numpy as np"
   ]
  },
  {
   "cell_type": "code",
   "execution_count": 3,
   "id": "25ed4b8e",
   "metadata": {},
   "outputs": [
    {
     "data": {
      "text/plain": [
       "['DESCR', 'data', 'feature_names', 'frame', 'images', 'target', 'target_names']"
      ]
     },
     "execution_count": 3,
     "metadata": {},
     "output_type": "execute_result"
    }
   ],
   "source": [
    "digits = load_digits()\n",
    "dir(digits)"
   ]
  },
  {
   "cell_type": "markdown",
   "id": "d953de8b",
   "metadata": {},
   "source": [
    "__Using KNN Classifier__"
   ]
  },
  {
   "cell_type": "code",
   "execution_count": 4,
   "id": "cca947eb",
   "metadata": {},
   "outputs": [],
   "source": [
    "from sklearn.model_selection import train_test_split\n",
    "X_train, X_test, y_train, y_test = train_test_split(digits.data,digits.target,test_size=0.2,random_state= 2) # (flattened 2d array,1d array)"
   ]
  },
  {
   "cell_type": "code",
   "execution_count": 5,
   "id": "54c75013",
   "metadata": {},
   "outputs": [
    {
     "data": {
      "text/plain": [
       "(1437, 360, 1437, 360)"
      ]
     },
     "execution_count": 5,
     "metadata": {},
     "output_type": "execute_result"
    }
   ],
   "source": [
    "len(X_train), len(X_test), len(y_train), len(y_test)"
   ]
  },
  {
   "cell_type": "code",
   "execution_count": 6,
   "id": "12f60813",
   "metadata": {},
   "outputs": [],
   "source": [
    "from sklearn.neighbors import KNeighborsClassifier\n",
    "knn_model = KNeighborsClassifier(n_neighbors=3)   #n_neighbours is nothing but k =3"
   ]
  },
  {
   "cell_type": "code",
   "execution_count": 7,
   "id": "e147878f",
   "metadata": {},
   "outputs": [
    {
     "data": {
      "text/plain": [
       "KNeighborsClassifier(n_neighbors=3)"
      ]
     },
     "execution_count": 7,
     "metadata": {},
     "output_type": "execute_result"
    }
   ],
   "source": [
    "knn_model.fit(X_train,y_train)"
   ]
  },
  {
   "cell_type": "code",
   "execution_count": 8,
   "id": "fef9a12e",
   "metadata": {},
   "outputs": [
    {
     "data": {
      "text/plain": [
       "0.9861111111111112"
      ]
     },
     "execution_count": 8,
     "metadata": {},
     "output_type": "execute_result"
    }
   ],
   "source": [
    "knn_model.score(X_test,y_test)"
   ]
  },
  {
   "cell_type": "code",
   "execution_count": 9,
   "id": "13bbb5b4",
   "metadata": {},
   "outputs": [
    {
     "data": {
      "text/plain": [
       "array([4, 0, 9, 1, 8, 7, 1, 5, 1, 6, 6, 7, 6, 1, 5, 5, 7, 6, 2, 7, 4, 6,\n",
       "       4, 1, 5, 2, 9, 5, 4, 6, 5, 6, 3, 4, 0, 9, 9, 8, 4, 6, 8, 8, 5, 7,\n",
       "       9, 6, 9, 6, 1, 3, 0, 1, 9, 7, 3, 3, 1, 1, 8, 8, 9, 8, 5, 4, 4, 7,\n",
       "       7, 5, 8, 4, 3, 1, 3, 8, 7, 3, 3, 0, 8, 7, 2, 8, 5, 3, 8, 7, 6, 4,\n",
       "       6, 2, 2, 0, 1, 1, 5, 3, 5, 7, 6, 8, 2, 2, 6, 4, 6, 7, 3, 7, 3, 9,\n",
       "       4, 7, 0, 3, 5, 1, 5, 0, 3, 9, 2, 7, 3, 2, 0, 8, 1, 9, 2, 1, 9, 1,\n",
       "       0, 3, 4, 3, 0, 7, 3, 2, 2, 7, 3, 1, 6, 7, 2, 8, 3, 1, 1, 6, 4, 8,\n",
       "       2, 1, 8, 4, 1, 3, 1, 1, 9, 5, 4, 8, 7, 4, 8, 9, 5, 7, 6, 9, 0, 0,\n",
       "       4, 0, 0, 4, 0, 6, 5, 8, 8, 3, 7, 9, 2, 0, 3, 2, 7, 3, 0, 2, 1, 5,\n",
       "       2, 7, 0, 6, 9, 3, 1, 1, 3, 5, 2, 3, 5, 2, 1, 2, 9, 4, 6, 5, 5, 5,\n",
       "       9, 7, 1, 5, 9, 6, 3, 7, 1, 7, 5, 1, 7, 2, 7, 5, 5, 4, 8, 6, 6, 2,\n",
       "       8, 7, 3, 7, 8, 0, 9, 5, 7, 4, 3, 4, 1, 0, 3, 3, 5, 4, 1, 3, 1, 2,\n",
       "       5, 1, 4, 0, 3, 1, 5, 5, 7, 4, 0, 1, 0, 8, 5, 5, 5, 4, 0, 1, 8, 6,\n",
       "       2, 1, 1, 1, 7, 9, 6, 7, 9, 7, 0, 4, 9, 6, 9, 2, 7, 2, 1, 0, 8, 2,\n",
       "       8, 6, 5, 7, 8, 4, 5, 7, 8, 6, 5, 2, 6, 9, 3, 0, 0, 8, 0, 6, 6, 7,\n",
       "       1, 4, 5, 6, 9, 7, 2, 8, 5, 1, 2, 4, 1, 8, 8, 7, 6, 0, 8, 0, 6, 5,\n",
       "       5, 7, 8, 0, 4, 1, 4, 5])"
      ]
     },
     "execution_count": 9,
     "metadata": {},
     "output_type": "execute_result"
    }
   ],
   "source": [
    "knn_pred = knn_model.predict(X_test)\n",
    "knn_pred"
   ]
  },
  {
   "cell_type": "markdown",
   "id": "a4321764",
   "metadata": {},
   "source": [
    "__Cross Validation__ default cv = 5 (can be changed)"
   ]
  },
  {
   "cell_type": "code",
   "execution_count": 11,
   "id": "2a2abec6",
   "metadata": {},
   "outputs": [],
   "source": [
    "from sklearn.model_selection import cross_val_score  # default n_splits= 5.Train test split is not required for C-validation"
   ]
  },
  {
   "cell_type": "code",
   "execution_count": 12,
   "id": "a66d94dd",
   "metadata": {},
   "outputs": [
    {
     "data": {
      "text/plain": [
       "array([0.96494157, 0.96661102, 0.97328881])"
      ]
     },
     "execution_count": 12,
     "metadata": {},
     "output_type": "execute_result"
    }
   ],
   "source": [
    "cross_val_score(knn_model,digits.data,digits.target,cv=3) # using cv =3"
   ]
  },
  {
   "cell_type": "markdown",
   "id": "aa0d79e6",
   "metadata": {},
   "source": [
    "__Parameter Tuning using For Loop__ (Default CV is 5, iterating through 1-10 values of K)"
   ]
  },
  {
   "cell_type": "code",
   "execution_count": 15,
   "id": "238eb4cf",
   "metadata": {},
   "outputs": [
    {
     "name": "stdout",
     "output_type": "stream",
     "text": [
      "[0.95659432 0.96994992 0.96494157]\n",
      "[0.95826377 0.96327212 0.96494157]\n",
      "[0.96494157 0.96661102 0.97328881]\n",
      "[0.95659432 0.96661102 0.96828047]\n",
      "[0.95826377 0.96327212 0.96661102]\n",
      "[0.95492487 0.96327212 0.96160267]\n",
      "[0.94991653 0.96327212 0.96494157]\n",
      "[0.94824708 0.96160267 0.96160267]\n",
      "[0.94824708 0.95659432 0.96494157]\n"
     ]
    },
    {
     "data": {
      "text/plain": [
       "{'1': 0.9638286032276016,\n",
       " '2': 0.9621591541457986,\n",
       " '3': 0.9682804674457429,\n",
       " '4': 0.9638286032276016,\n",
       " '5': 0.9627156371730662,\n",
       " '6': 0.9599332220367279,\n",
       " '7': 0.9593767390094602,\n",
       " '8': 0.9571508069003896,\n",
       " '9': 0.9565943238731219}"
      ]
     },
     "execution_count": 15,
     "metadata": {},
     "output_type": "execute_result"
    }
   ],
   "source": [
    "# Iterating through each n_neighbor= 1 to 10 and finding the scores \n",
    "neighbor_range=list(range(1,10))               # list of C values\n",
    "avg_scores = {}                                # dictionary \n",
    "for i in neighbor_range:\n",
    "        cv_scores = cross_val_score(KNeighborsClassifier(n_neighbors=i),digits.data,digits.target,cv=3) # cv: default = 5\n",
    "        print(cv_scores)\n",
    "        avg_scores[str(i)] = np.average(cv_scores) #averages the 5 scores and adds to dictionary\n",
    "avg_scores"
   ]
  },
  {
   "cell_type": "code",
   "execution_count": 29,
   "id": "b61986ce",
   "metadata": {},
   "outputs": [
    {
     "data": {
      "text/plain": [
       "'3'"
      ]
     },
     "execution_count": 29,
     "metadata": {},
     "output_type": "execute_result"
    }
   ],
   "source": [
    "max(avg_scores,key= avg_scores.get) #prints the key with max value in dictionary."
   ]
  },
  {
   "cell_type": "code",
   "execution_count": 27,
   "id": "9cef78a1",
   "metadata": {},
   "outputs": [
    {
     "data": {
      "text/plain": [
       "0.9682804674457429"
      ]
     },
     "execution_count": 27,
     "metadata": {},
     "output_type": "execute_result"
    }
   ],
   "source": [
    "max(avg_scores.values()) #prints the maximum value in dictionary"
   ]
  },
  {
   "cell_type": "code",
   "execution_count": 33,
   "id": "e517f8a9",
   "metadata": {},
   "outputs": [
    {
     "data": {
      "text/plain": [
       "'9'"
      ]
     },
     "execution_count": 33,
     "metadata": {},
     "output_type": "execute_result"
    }
   ],
   "source": [
    "max(avg_scores.keys()) #this will just print the highest key number, not the key with highest value."
   ]
  },
  {
   "cell_type": "markdown",
   "id": "e34d2200",
   "metadata": {},
   "source": [
    "__Parameter Tuning Using GridSearch CV__ (Default CV is 5, iterating through 1-10 values of K using gridsearchCV)"
   ]
  },
  {
   "cell_type": "code",
   "execution_count": 16,
   "id": "2a2fb742",
   "metadata": {},
   "outputs": [],
   "source": [
    "from sklearn.model_selection import GridSearchCV #takes (estimator, param_grid, cv)"
   ]
  },
  {
   "cell_type": "code",
   "execution_count": 17,
   "id": "e9cdd2d6",
   "metadata": {},
   "outputs": [
    {
     "data": {
      "text/plain": [
       "{'mean_fit_time': array([0.00180297, 0.00120196, 0.00140104, 0.00160227, 0.00180202,\n",
       "        0.00220213, 0.00140233, 0.00140204, 0.00160141]),\n",
       " 'std_fit_time': array([0.00040057, 0.00039966, 0.00048961, 0.00049035, 0.00074821,\n",
       "        0.00040002, 0.00049021, 0.0004886 , 0.00049033]),\n",
       " 'mean_score_time': array([0.0460288 , 0.03942523, 0.04442916, 0.05023212, 0.0690455 ,\n",
       "        0.06704383, 0.04702978, 0.04723048, 0.0524343 ]),\n",
       " 'std_score_time': array([0.00718825, 0.00257905, 0.00422775, 0.00421685, 0.0261788 ,\n",
       "        0.0203706 , 0.00400141, 0.00204144, 0.00484495]),\n",
       " 'param_n_neighbors': masked_array(data=[1, 2, 3, 4, 5, 6, 7, 8, 9],\n",
       "              mask=[False, False, False, False, False, False, False, False,\n",
       "                    False],\n",
       "        fill_value='?',\n",
       "             dtype=object),\n",
       " 'params': [{'n_neighbors': 1},\n",
       "  {'n_neighbors': 2},\n",
       "  {'n_neighbors': 3},\n",
       "  {'n_neighbors': 4},\n",
       "  {'n_neighbors': 5},\n",
       "  {'n_neighbors': 6},\n",
       "  {'n_neighbors': 7},\n",
       "  {'n_neighbors': 8},\n",
       "  {'n_neighbors': 9}],\n",
       " 'split0_test_score': array([0.96111111, 0.96111111, 0.95555556, 0.94722222, 0.94722222,\n",
       "        0.94444444, 0.93611111, 0.93611111, 0.93055556]),\n",
       " 'split1_test_score': array([0.95277778, 0.96666667, 0.95833333, 0.95833333, 0.95555556,\n",
       "        0.95833333, 0.96111111, 0.95833333, 0.95277778]),\n",
       " 'split2_test_score': array([0.96657382, 0.96935933, 0.96657382, 0.96657382, 0.96657382,\n",
       "        0.96657382, 0.96935933, 0.96935933, 0.97214485]),\n",
       " 'split3_test_score': array([0.98607242, 0.97771588, 0.98607242, 0.98050139, 0.98050139,\n",
       "        0.97493036, 0.98050139, 0.97771588, 0.97771588]),\n",
       " 'split4_test_score': array([0.95543175, 0.96100279, 0.96657382, 0.96657382, 0.9637883 ,\n",
       "        0.95264624, 0.95264624, 0.94986072, 0.94986072]),\n",
       " 'mean_test_score': array([0.96439338, 0.96717115, 0.96662179, 0.96384092, 0.96272826,\n",
       "        0.95938564, 0.95994584, 0.95827608, 0.95661096]),\n",
       " 'std_test_score': array([0.01183842, 0.00618072, 0.01067232, 0.01094553, 0.01116854,\n",
       "        0.01061202, 0.01505909, 0.01457979, 0.01688705]),\n",
       " 'rank_test_score': array([3, 1, 2, 4, 5, 7, 6, 8, 9])}"
      ]
     },
     "execution_count": 17,
     "metadata": {},
     "output_type": "execute_result"
    }
   ],
   "source": [
    "gridcv_model = GridSearchCV(KNeighborsClassifier(),\n",
    "                   {'n_neighbors':list(range(1,10))},\n",
    "                   cv = 5)\n",
    "\n",
    "gridcv_model.fit(digits.data,digits.target)\n",
    "gridcv_model.cv_results_  #results generated are key value pairs.Not easy to view. Creating pandas dataframe of results below."
   ]
  },
  {
   "cell_type": "code",
   "execution_count": 18,
   "id": "de886b04",
   "metadata": {},
   "outputs": [
    {
     "data": {
      "text/html": [
       "<div>\n",
       "<style scoped>\n",
       "    .dataframe tbody tr th:only-of-type {\n",
       "        vertical-align: middle;\n",
       "    }\n",
       "\n",
       "    .dataframe tbody tr th {\n",
       "        vertical-align: top;\n",
       "    }\n",
       "\n",
       "    .dataframe thead th {\n",
       "        text-align: right;\n",
       "    }\n",
       "</style>\n",
       "<table border=\"1\" class=\"dataframe\">\n",
       "  <thead>\n",
       "    <tr style=\"text-align: right;\">\n",
       "      <th></th>\n",
       "      <th>mean_fit_time</th>\n",
       "      <th>std_fit_time</th>\n",
       "      <th>mean_score_time</th>\n",
       "      <th>std_score_time</th>\n",
       "      <th>param_n_neighbors</th>\n",
       "      <th>params</th>\n",
       "      <th>split0_test_score</th>\n",
       "      <th>split1_test_score</th>\n",
       "      <th>split2_test_score</th>\n",
       "      <th>split3_test_score</th>\n",
       "      <th>split4_test_score</th>\n",
       "      <th>mean_test_score</th>\n",
       "      <th>std_test_score</th>\n",
       "      <th>rank_test_score</th>\n",
       "    </tr>\n",
       "  </thead>\n",
       "  <tbody>\n",
       "    <tr>\n",
       "      <th>0</th>\n",
       "      <td>0.001803</td>\n",
       "      <td>0.000401</td>\n",
       "      <td>0.046029</td>\n",
       "      <td>0.007188</td>\n",
       "      <td>1</td>\n",
       "      <td>{'n_neighbors': 1}</td>\n",
       "      <td>0.961111</td>\n",
       "      <td>0.952778</td>\n",
       "      <td>0.966574</td>\n",
       "      <td>0.986072</td>\n",
       "      <td>0.955432</td>\n",
       "      <td>0.964393</td>\n",
       "      <td>0.011838</td>\n",
       "      <td>3</td>\n",
       "    </tr>\n",
       "    <tr>\n",
       "      <th>1</th>\n",
       "      <td>0.001202</td>\n",
       "      <td>0.000400</td>\n",
       "      <td>0.039425</td>\n",
       "      <td>0.002579</td>\n",
       "      <td>2</td>\n",
       "      <td>{'n_neighbors': 2}</td>\n",
       "      <td>0.961111</td>\n",
       "      <td>0.966667</td>\n",
       "      <td>0.969359</td>\n",
       "      <td>0.977716</td>\n",
       "      <td>0.961003</td>\n",
       "      <td>0.967171</td>\n",
       "      <td>0.006181</td>\n",
       "      <td>1</td>\n",
       "    </tr>\n",
       "    <tr>\n",
       "      <th>2</th>\n",
       "      <td>0.001401</td>\n",
       "      <td>0.000490</td>\n",
       "      <td>0.044429</td>\n",
       "      <td>0.004228</td>\n",
       "      <td>3</td>\n",
       "      <td>{'n_neighbors': 3}</td>\n",
       "      <td>0.955556</td>\n",
       "      <td>0.958333</td>\n",
       "      <td>0.966574</td>\n",
       "      <td>0.986072</td>\n",
       "      <td>0.966574</td>\n",
       "      <td>0.966622</td>\n",
       "      <td>0.010672</td>\n",
       "      <td>2</td>\n",
       "    </tr>\n",
       "    <tr>\n",
       "      <th>3</th>\n",
       "      <td>0.001602</td>\n",
       "      <td>0.000490</td>\n",
       "      <td>0.050232</td>\n",
       "      <td>0.004217</td>\n",
       "      <td>4</td>\n",
       "      <td>{'n_neighbors': 4}</td>\n",
       "      <td>0.947222</td>\n",
       "      <td>0.958333</td>\n",
       "      <td>0.966574</td>\n",
       "      <td>0.980501</td>\n",
       "      <td>0.966574</td>\n",
       "      <td>0.963841</td>\n",
       "      <td>0.010946</td>\n",
       "      <td>4</td>\n",
       "    </tr>\n",
       "    <tr>\n",
       "      <th>4</th>\n",
       "      <td>0.001802</td>\n",
       "      <td>0.000748</td>\n",
       "      <td>0.069045</td>\n",
       "      <td>0.026179</td>\n",
       "      <td>5</td>\n",
       "      <td>{'n_neighbors': 5}</td>\n",
       "      <td>0.947222</td>\n",
       "      <td>0.955556</td>\n",
       "      <td>0.966574</td>\n",
       "      <td>0.980501</td>\n",
       "      <td>0.963788</td>\n",
       "      <td>0.962728</td>\n",
       "      <td>0.011169</td>\n",
       "      <td>5</td>\n",
       "    </tr>\n",
       "    <tr>\n",
       "      <th>5</th>\n",
       "      <td>0.002202</td>\n",
       "      <td>0.000400</td>\n",
       "      <td>0.067044</td>\n",
       "      <td>0.020371</td>\n",
       "      <td>6</td>\n",
       "      <td>{'n_neighbors': 6}</td>\n",
       "      <td>0.944444</td>\n",
       "      <td>0.958333</td>\n",
       "      <td>0.966574</td>\n",
       "      <td>0.974930</td>\n",
       "      <td>0.952646</td>\n",
       "      <td>0.959386</td>\n",
       "      <td>0.010612</td>\n",
       "      <td>7</td>\n",
       "    </tr>\n",
       "    <tr>\n",
       "      <th>6</th>\n",
       "      <td>0.001402</td>\n",
       "      <td>0.000490</td>\n",
       "      <td>0.047030</td>\n",
       "      <td>0.004001</td>\n",
       "      <td>7</td>\n",
       "      <td>{'n_neighbors': 7}</td>\n",
       "      <td>0.936111</td>\n",
       "      <td>0.961111</td>\n",
       "      <td>0.969359</td>\n",
       "      <td>0.980501</td>\n",
       "      <td>0.952646</td>\n",
       "      <td>0.959946</td>\n",
       "      <td>0.015059</td>\n",
       "      <td>6</td>\n",
       "    </tr>\n",
       "    <tr>\n",
       "      <th>7</th>\n",
       "      <td>0.001402</td>\n",
       "      <td>0.000489</td>\n",
       "      <td>0.047230</td>\n",
       "      <td>0.002041</td>\n",
       "      <td>8</td>\n",
       "      <td>{'n_neighbors': 8}</td>\n",
       "      <td>0.936111</td>\n",
       "      <td>0.958333</td>\n",
       "      <td>0.969359</td>\n",
       "      <td>0.977716</td>\n",
       "      <td>0.949861</td>\n",
       "      <td>0.958276</td>\n",
       "      <td>0.014580</td>\n",
       "      <td>8</td>\n",
       "    </tr>\n",
       "    <tr>\n",
       "      <th>8</th>\n",
       "      <td>0.001601</td>\n",
       "      <td>0.000490</td>\n",
       "      <td>0.052434</td>\n",
       "      <td>0.004845</td>\n",
       "      <td>9</td>\n",
       "      <td>{'n_neighbors': 9}</td>\n",
       "      <td>0.930556</td>\n",
       "      <td>0.952778</td>\n",
       "      <td>0.972145</td>\n",
       "      <td>0.977716</td>\n",
       "      <td>0.949861</td>\n",
       "      <td>0.956611</td>\n",
       "      <td>0.016887</td>\n",
       "      <td>9</td>\n",
       "    </tr>\n",
       "  </tbody>\n",
       "</table>\n",
       "</div>"
      ],
      "text/plain": [
       "   mean_fit_time  std_fit_time  mean_score_time  std_score_time  \\\n",
       "0       0.001803      0.000401         0.046029        0.007188   \n",
       "1       0.001202      0.000400         0.039425        0.002579   \n",
       "2       0.001401      0.000490         0.044429        0.004228   \n",
       "3       0.001602      0.000490         0.050232        0.004217   \n",
       "4       0.001802      0.000748         0.069045        0.026179   \n",
       "5       0.002202      0.000400         0.067044        0.020371   \n",
       "6       0.001402      0.000490         0.047030        0.004001   \n",
       "7       0.001402      0.000489         0.047230        0.002041   \n",
       "8       0.001601      0.000490         0.052434        0.004845   \n",
       "\n",
       "  param_n_neighbors              params  split0_test_score  split1_test_score  \\\n",
       "0                 1  {'n_neighbors': 1}           0.961111           0.952778   \n",
       "1                 2  {'n_neighbors': 2}           0.961111           0.966667   \n",
       "2                 3  {'n_neighbors': 3}           0.955556           0.958333   \n",
       "3                 4  {'n_neighbors': 4}           0.947222           0.958333   \n",
       "4                 5  {'n_neighbors': 5}           0.947222           0.955556   \n",
       "5                 6  {'n_neighbors': 6}           0.944444           0.958333   \n",
       "6                 7  {'n_neighbors': 7}           0.936111           0.961111   \n",
       "7                 8  {'n_neighbors': 8}           0.936111           0.958333   \n",
       "8                 9  {'n_neighbors': 9}           0.930556           0.952778   \n",
       "\n",
       "   split2_test_score  split3_test_score  split4_test_score  mean_test_score  \\\n",
       "0           0.966574           0.986072           0.955432         0.964393   \n",
       "1           0.969359           0.977716           0.961003         0.967171   \n",
       "2           0.966574           0.986072           0.966574         0.966622   \n",
       "3           0.966574           0.980501           0.966574         0.963841   \n",
       "4           0.966574           0.980501           0.963788         0.962728   \n",
       "5           0.966574           0.974930           0.952646         0.959386   \n",
       "6           0.969359           0.980501           0.952646         0.959946   \n",
       "7           0.969359           0.977716           0.949861         0.958276   \n",
       "8           0.972145           0.977716           0.949861         0.956611   \n",
       "\n",
       "   std_test_score  rank_test_score  \n",
       "0        0.011838                3  \n",
       "1        0.006181                1  \n",
       "2        0.010672                2  \n",
       "3        0.010946                4  \n",
       "4        0.011169                5  \n",
       "5        0.010612                7  \n",
       "6        0.015059                6  \n",
       "7        0.014580                8  \n",
       "8        0.016887                9  "
      ]
     },
     "execution_count": 18,
     "metadata": {},
     "output_type": "execute_result"
    }
   ],
   "source": [
    "grid_df = pd.DataFrame(gridcv_model.cv_results_ )  #converting the above generated results to dataframe\n",
    "grid_df   # returned whole lot of different parameter  values "
   ]
  },
  {
   "cell_type": "code",
   "execution_count": 19,
   "id": "7e6cad25",
   "metadata": {},
   "outputs": [
    {
     "data": {
      "text/html": [
       "<div>\n",
       "<style scoped>\n",
       "    .dataframe tbody tr th:only-of-type {\n",
       "        vertical-align: middle;\n",
       "    }\n",
       "\n",
       "    .dataframe tbody tr th {\n",
       "        vertical-align: top;\n",
       "    }\n",
       "\n",
       "    .dataframe thead th {\n",
       "        text-align: right;\n",
       "    }\n",
       "</style>\n",
       "<table border=\"1\" class=\"dataframe\">\n",
       "  <thead>\n",
       "    <tr style=\"text-align: right;\">\n",
       "      <th></th>\n",
       "      <th>param_n_neighbors</th>\n",
       "      <th>mean_test_score</th>\n",
       "    </tr>\n",
       "  </thead>\n",
       "  <tbody>\n",
       "    <tr>\n",
       "      <th>0</th>\n",
       "      <td>1</td>\n",
       "      <td>0.964393</td>\n",
       "    </tr>\n",
       "    <tr>\n",
       "      <th>1</th>\n",
       "      <td>2</td>\n",
       "      <td>0.967171</td>\n",
       "    </tr>\n",
       "    <tr>\n",
       "      <th>2</th>\n",
       "      <td>3</td>\n",
       "      <td>0.966622</td>\n",
       "    </tr>\n",
       "    <tr>\n",
       "      <th>3</th>\n",
       "      <td>4</td>\n",
       "      <td>0.963841</td>\n",
       "    </tr>\n",
       "    <tr>\n",
       "      <th>4</th>\n",
       "      <td>5</td>\n",
       "      <td>0.962728</td>\n",
       "    </tr>\n",
       "    <tr>\n",
       "      <th>5</th>\n",
       "      <td>6</td>\n",
       "      <td>0.959386</td>\n",
       "    </tr>\n",
       "    <tr>\n",
       "      <th>6</th>\n",
       "      <td>7</td>\n",
       "      <td>0.959946</td>\n",
       "    </tr>\n",
       "    <tr>\n",
       "      <th>7</th>\n",
       "      <td>8</td>\n",
       "      <td>0.958276</td>\n",
       "    </tr>\n",
       "    <tr>\n",
       "      <th>8</th>\n",
       "      <td>9</td>\n",
       "      <td>0.956611</td>\n",
       "    </tr>\n",
       "  </tbody>\n",
       "</table>\n",
       "</div>"
      ],
      "text/plain": [
       "  param_n_neighbors  mean_test_score\n",
       "0                 1         0.964393\n",
       "1                 2         0.967171\n",
       "2                 3         0.966622\n",
       "3                 4         0.963841\n",
       "4                 5         0.962728\n",
       "5                 6         0.959386\n",
       "6                 7         0.959946\n",
       "7                 8         0.958276\n",
       "8                 9         0.956611"
      ]
     },
     "execution_count": 19,
     "metadata": {},
     "output_type": "execute_result"
    }
   ],
   "source": [
    "grid_df = grid_df[['param_n_neighbors','mean_test_score']] # selecting the required columns only\n",
    "grid_df"
   ]
  },
  {
   "cell_type": "code",
   "execution_count": 21,
   "id": "8292103f",
   "metadata": {},
   "outputs": [
    {
     "data": {
      "text/plain": [
       "0.9671711544413494"
      ]
     },
     "execution_count": 21,
     "metadata": {},
     "output_type": "execute_result"
    }
   ],
   "source": [
    "gridcv_model.best_score_ #returns the best score out of all the combinations"
   ]
  },
  {
   "cell_type": "code",
   "execution_count": 23,
   "id": "ee8710f5",
   "metadata": {},
   "outputs": [
    {
     "data": {
      "text/plain": [
       "{'n_neighbors': 2}"
      ]
     },
     "execution_count": 23,
     "metadata": {},
     "output_type": "execute_result"
    }
   ],
   "source": [
    "gridcv_model.best_params_ # returns the best combination"
   ]
  },
  {
   "cell_type": "markdown",
   "id": "423176ad",
   "metadata": {},
   "source": [
    "__Confusion Matrix and Classification report__(for k = 3 : No cross cv and hyperparameter tuning used)"
   ]
  },
  {
   "cell_type": "code",
   "execution_count": 34,
   "id": "05c43125",
   "metadata": {},
   "outputs": [
    {
     "data": {
      "text/plain": [
       "array([[32,  0,  0,  0,  0,  0,  0,  0,  0,  0],\n",
       "       [ 0, 44,  0,  0,  0,  0,  0,  0,  0,  0],\n",
       "       [ 0,  0, 31,  0,  0,  0,  0,  0,  0,  0],\n",
       "       [ 0,  0,  0, 35,  0,  0,  0,  1,  0,  0],\n",
       "       [ 0,  0,  0,  0, 33,  0,  0,  1,  1,  0],\n",
       "       [ 0,  0,  0,  0,  0, 43,  0,  0,  0,  0],\n",
       "       [ 0,  0,  0,  0,  0,  0, 35,  0,  0,  0],\n",
       "       [ 0,  0,  0,  0,  0,  0,  0, 40,  0,  0],\n",
       "       [ 0,  1,  0,  0,  0,  0,  0,  0, 35,  0],\n",
       "       [ 0,  0,  0,  0,  0,  0,  0,  1,  0, 27]], dtype=int64)"
      ]
     },
     "execution_count": 34,
     "metadata": {},
     "output_type": "execute_result"
    }
   ],
   "source": [
    "from sklearn.metrics import confusion_matrix\n",
    "cm = confusion_matrix(y_test,knn_pred)\n",
    "cm"
   ]
  },
  {
   "cell_type": "code",
   "execution_count": 35,
   "id": "a711406d",
   "metadata": {},
   "outputs": [
    {
     "data": {
      "text/plain": [
       "Text(24.0, 0.5, 'True')"
      ]
     },
     "execution_count": 35,
     "metadata": {},
     "output_type": "execute_result"
    },
    {
     "data": {
      "image/png": "[encoded data removed]",
      "text/plain": [
       "<Figure size 360x252 with 2 Axes>"
      ]
     },
     "metadata": {
      "needs_background": "light"
     },
     "output_type": "display_data"
    }
   ],
   "source": [
    "import seaborn as sn\n",
    "plt.figure (figsize =(5,3.5))\n",
    "sn.heatmap(cm, annot = True,fmt = \"d\")\n",
    "plt.xlabel(\"Predicted\")\n",
    "plt.ylabel(\"True\")"
   ]
  },
  {
   "cell_type": "code",
   "execution_count": 36,
   "id": "b87a4407",
   "metadata": {
    "scrolled": true
   },
   "outputs": [
    {
     "name": "stdout",
     "output_type": "stream",
     "text": [
      "              precision    recall  f1-score   support\n",
      "\n",
      "           0       1.00      1.00      1.00        32\n",
      "           1       0.98      1.00      0.99        44\n",
      "           2       1.00      1.00      1.00        31\n",
      "           3       1.00      0.97      0.99        36\n",
      "           4       1.00      0.94      0.97        35\n",
      "           5       1.00      1.00      1.00        43\n",
      "           6       1.00      1.00      1.00        35\n",
      "           7       0.93      1.00      0.96        40\n",
      "           8       0.97      0.97      0.97        36\n",
      "           9       1.00      0.96      0.98        28\n",
      "\n",
      "    accuracy                           0.99       360\n",
      "   macro avg       0.99      0.99      0.99       360\n",
      "weighted avg       0.99      0.99      0.99       360\n",
      "\n"
     ]
    }
   ],
   "source": [
    "from sklearn.metrics import classification_report\n",
    "print(classification_report(y_test,knn_pred))"
   ]
  },
  {
   "cell_type": "code",
   "execution_count": null,
   "id": "d43c7e6d",
   "metadata": {},
   "outputs": [],
   "source": []
  }
 ],
 "metadata": {
  "kernelspec": {
   "display_name": "Python 3 (ipykernel)",
   "language": "python",
   "name": "python3"
  },
  "language_info": {
   "codemirror_mode": {
    "name": "ipython",
    "version": 3
   },
   "file_extension": ".py",
   "mimetype": "text/x-python",
   "name": "python",
   "nbconvert_exporter": "python",
   "pygments_lexer": "ipython3",
   "version": "3.9.12"
  }
 },
 "nbformat": 4,
 "nbformat_minor": 5
}
