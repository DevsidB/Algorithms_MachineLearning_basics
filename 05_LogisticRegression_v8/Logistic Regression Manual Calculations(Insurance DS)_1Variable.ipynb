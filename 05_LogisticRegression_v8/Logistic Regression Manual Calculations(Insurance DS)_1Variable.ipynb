{
 "cells": [
  {
   "cell_type": "markdown",
   "id": "6ee222a6",
   "metadata": {},
   "source": [
    "To do: SIGMOID PROBABILITIES NOT FOUND\n",
    "    \n",
    "    OUR GOAL : calculate logistic regression without using external libraries"
   ]
  },
  {
   "cell_type": "code",
   "execution_count": 1,
   "id": "e0608a03",
   "metadata": {},
   "outputs": [],
   "source": [
    "import pandas as pd\n",
    "import numpy as np\n",
    "import matplotlib.pyplot as plt\n",
    "from sklearn.linear_model import LinearRegression\n",
    "%matplotlib inline"
   ]
  },
  {
   "cell_type": "code",
   "execution_count": 2,
   "id": "f5092bcd",
   "metadata": {},
   "outputs": [
    {
     "data": {
      "text/html": [
       "<div>\n",
       "<style scoped>\n",
       "    .dataframe tbody tr th:only-of-type {\n",
       "        vertical-align: middle;\n",
       "    }\n",
       "\n",
       "    .dataframe tbody tr th {\n",
       "        vertical-align: top;\n",
       "    }\n",
       "\n",
       "    .dataframe thead th {\n",
       "        text-align: right;\n",
       "    }\n",
       "</style>\n",
       "<table border=\"1\" class=\"dataframe\">\n",
       "  <thead>\n",
       "    <tr style=\"text-align: right;\">\n",
       "      <th></th>\n",
       "      <th>age</th>\n",
       "      <th>bought_insurance</th>\n",
       "    </tr>\n",
       "  </thead>\n",
       "  <tbody>\n",
       "    <tr>\n",
       "      <th>0</th>\n",
       "      <td>22</td>\n",
       "      <td>0</td>\n",
       "    </tr>\n",
       "    <tr>\n",
       "      <th>1</th>\n",
       "      <td>25</td>\n",
       "      <td>0</td>\n",
       "    </tr>\n",
       "    <tr>\n",
       "      <th>2</th>\n",
       "      <td>47</td>\n",
       "      <td>1</td>\n",
       "    </tr>\n",
       "    <tr>\n",
       "      <th>3</th>\n",
       "      <td>52</td>\n",
       "      <td>0</td>\n",
       "    </tr>\n",
       "    <tr>\n",
       "      <th>4</th>\n",
       "      <td>46</td>\n",
       "      <td>1</td>\n",
       "    </tr>\n",
       "    <tr>\n",
       "      <th>5</th>\n",
       "      <td>56</td>\n",
       "      <td>1</td>\n",
       "    </tr>\n",
       "    <tr>\n",
       "      <th>6</th>\n",
       "      <td>55</td>\n",
       "      <td>0</td>\n",
       "    </tr>\n",
       "    <tr>\n",
       "      <th>7</th>\n",
       "      <td>60</td>\n",
       "      <td>1</td>\n",
       "    </tr>\n",
       "    <tr>\n",
       "      <th>8</th>\n",
       "      <td>62</td>\n",
       "      <td>1</td>\n",
       "    </tr>\n",
       "    <tr>\n",
       "      <th>9</th>\n",
       "      <td>61</td>\n",
       "      <td>1</td>\n",
       "    </tr>\n",
       "    <tr>\n",
       "      <th>10</th>\n",
       "      <td>18</td>\n",
       "      <td>0</td>\n",
       "    </tr>\n",
       "    <tr>\n",
       "      <th>11</th>\n",
       "      <td>28</td>\n",
       "      <td>0</td>\n",
       "    </tr>\n",
       "    <tr>\n",
       "      <th>12</th>\n",
       "      <td>27</td>\n",
       "      <td>0</td>\n",
       "    </tr>\n",
       "    <tr>\n",
       "      <th>13</th>\n",
       "      <td>29</td>\n",
       "      <td>0</td>\n",
       "    </tr>\n",
       "    <tr>\n",
       "      <th>14</th>\n",
       "      <td>49</td>\n",
       "      <td>1</td>\n",
       "    </tr>\n",
       "    <tr>\n",
       "      <th>15</th>\n",
       "      <td>55</td>\n",
       "      <td>1</td>\n",
       "    </tr>\n",
       "    <tr>\n",
       "      <th>16</th>\n",
       "      <td>25</td>\n",
       "      <td>1</td>\n",
       "    </tr>\n",
       "    <tr>\n",
       "      <th>17</th>\n",
       "      <td>58</td>\n",
       "      <td>1</td>\n",
       "    </tr>\n",
       "    <tr>\n",
       "      <th>18</th>\n",
       "      <td>19</td>\n",
       "      <td>0</td>\n",
       "    </tr>\n",
       "    <tr>\n",
       "      <th>19</th>\n",
       "      <td>18</td>\n",
       "      <td>0</td>\n",
       "    </tr>\n",
       "    <tr>\n",
       "      <th>20</th>\n",
       "      <td>21</td>\n",
       "      <td>0</td>\n",
       "    </tr>\n",
       "    <tr>\n",
       "      <th>21</th>\n",
       "      <td>26</td>\n",
       "      <td>0</td>\n",
       "    </tr>\n",
       "    <tr>\n",
       "      <th>22</th>\n",
       "      <td>40</td>\n",
       "      <td>1</td>\n",
       "    </tr>\n",
       "    <tr>\n",
       "      <th>23</th>\n",
       "      <td>45</td>\n",
       "      <td>1</td>\n",
       "    </tr>\n",
       "    <tr>\n",
       "      <th>24</th>\n",
       "      <td>50</td>\n",
       "      <td>1</td>\n",
       "    </tr>\n",
       "    <tr>\n",
       "      <th>25</th>\n",
       "      <td>54</td>\n",
       "      <td>1</td>\n",
       "    </tr>\n",
       "    <tr>\n",
       "      <th>26</th>\n",
       "      <td>23</td>\n",
       "      <td>0</td>\n",
       "    </tr>\n",
       "  </tbody>\n",
       "</table>\n",
       "</div>"
      ],
      "text/plain": [
       "    age  bought_insurance\n",
       "0    22                 0\n",
       "1    25                 0\n",
       "2    47                 1\n",
       "3    52                 0\n",
       "4    46                 1\n",
       "5    56                 1\n",
       "6    55                 0\n",
       "7    60                 1\n",
       "8    62                 1\n",
       "9    61                 1\n",
       "10   18                 0\n",
       "11   28                 0\n",
       "12   27                 0\n",
       "13   29                 0\n",
       "14   49                 1\n",
       "15   55                 1\n",
       "16   25                 1\n",
       "17   58                 1\n",
       "18   19                 0\n",
       "19   18                 0\n",
       "20   21                 0\n",
       "21   26                 0\n",
       "22   40                 1\n",
       "23   45                 1\n",
       "24   50                 1\n",
       "25   54                 1\n",
       "26   23                 0"
      ]
     },
     "execution_count": 2,
     "metadata": {},
     "output_type": "execute_result"
    }
   ],
   "source": [
    "df = pd.read_csv('insurance_data.csv')\n",
    "df"
   ]
  },
  {
   "cell_type": "code",
   "execution_count": 3,
   "id": "dcda1647",
   "metadata": {},
   "outputs": [
    {
     "data": {
      "text/plain": [
       "LinearRegression()"
      ]
     },
     "execution_count": 3,
     "metadata": {},
     "output_type": "execute_result"
    }
   ],
   "source": [
    "model = LinearRegression()\n",
    "model.fit(df[['age']],df.bought_insurance) #fit(dataframe,series)"
   ]
  },
  {
   "cell_type": "code",
   "execution_count": 4,
   "id": "d6b5aa8c",
   "metadata": {},
   "outputs": [
    {
     "data": {
      "text/plain": [
       "array([0.02368394])"
      ]
     },
     "execution_count": 4,
     "metadata": {},
     "output_type": "execute_result"
    }
   ],
   "source": [
    "model.coef_ #value of slope (m)"
   ]
  },
  {
   "cell_type": "code",
   "execution_count": 16,
   "id": "69b0c035",
   "metadata": {},
   "outputs": [
    {
     "data": {
      "text/plain": [
       "-0.4209443697498303"
      ]
     },
     "execution_count": 16,
     "metadata": {},
     "output_type": "execute_result"
    }
   ],
   "source": [
    "model.intercept_ # value of intercept(b)"
   ]
  },
  {
   "cell_type": "code",
   "execution_count": 6,
   "id": "36d16713",
   "metadata": {},
   "outputs": [
    {
     "data": {
      "text/plain": [
       "array([0.10010227, 0.17115409, 0.69220073, 0.81062042, 0.66851679,\n",
       "       0.90535618, 0.88167224, 1.00009193, 1.04745981, 1.02377587,\n",
       "       0.00536652, 0.2422059 , 0.21852197, 0.26588984, 0.73956861,\n",
       "       0.88167224, 0.17115409, 0.95272406, 0.02905046, 0.00536652,\n",
       "       0.07641834, 0.19483803, 0.52641316, 0.64483286, 0.76325255,\n",
       "       0.8579883 , 0.12378621])"
      ]
     },
     "execution_count": 6,
     "metadata": {},
     "output_type": "execute_result"
    }
   ],
   "source": [
    "pred = model.predict(df[['age']]) #returns y from linear regression (y = mx +b)\n",
    "pred"
   ]
  },
  {
   "cell_type": "code",
   "execution_count": 25,
   "id": "8a876965",
   "metadata": {},
   "outputs": [
    {
     "data": {
      "text/plain": [
       "[<matplotlib.lines.Line2D at 0xecae427820>]"
      ]
     },
     "execution_count": 25,
     "metadata": {},
     "output_type": "execute_result"
    },
    {
     "data": {
      "image/png": "[encoded data removed]",
      "text/plain": [
       "<Figure size 432x288 with 1 Axes>"
      ]
     },
     "metadata": {
      "needs_background": "light"
     },
     "output_type": "display_data"
    }
   ],
   "source": [
    "plt.xlabel('age')\n",
    "plt.ylabel('bought_insurance')\n",
    "\n",
    "plt.scatter(df.age,df.bought_insurance,color= 'green',marker = '+')\n",
    "plt.plot(df.age,pred,color= 'green') "
   ]
  },
  {
   "cell_type": "markdown",
   "id": "b6748bf4",
   "metadata": {},
   "source": [
    "__Substituting y from linear regression in sigmoid__"
   ]
  },
  {
   "cell_type": "code",
   "execution_count": 7,
   "id": "db5643ce",
   "metadata": {
    "scrolled": false
   },
   "outputs": [
    {
     "data": {
      "text/plain": [
       "array([0.52500469, 0.54268437, 0.66645631, 0.6922417 , 0.66117097,\n",
       "       0.71204895, 0.70716863, 0.73107665, 0.74028681, 0.73570744,\n",
       "       0.50134163, 0.56025719, 0.55441413, 0.56608359, 0.67690152,\n",
       "       0.70716863, 0.54268437, 0.72166268, 0.5072621 , 0.50134163,\n",
       "       0.51909529, 0.548556  , 0.62864615, 0.65584512, 0.68205948,\n",
       "       0.70224018, 0.5309071 ])"
      ]
     },
     "execution_count": 7,
     "metadata": {},
     "output_type": "execute_result"
    }
   ],
   "source": [
    "sigmoid_y = (1/ (1 + np.exp(-pred)))\n",
    "sigmoid_y"
   ]
  },
  {
   "cell_type": "code",
   "execution_count": 27,
   "id": "c99eff31",
   "metadata": {},
   "outputs": [
    {
     "data": {
      "text/plain": [
       "<matplotlib.collections.PathCollection at 0xecae4e53a0>"
      ]
     },
     "execution_count": 27,
     "metadata": {},
     "output_type": "execute_result"
    },
    {
     "data": {
      "image/png": "[encoded data removed]",
      "text/plain": [
       "<Figure size 432x288 with 1 Axes>"
      ]
     },
     "metadata": {
      "needs_background": "light"
     },
     "output_type": "display_data"
    }
   ],
   "source": [
    "plt.scatter(df.age,sigmoid_y,color= 'green') # just for trial"
   ]
  },
  {
   "cell_type": "code",
   "execution_count": 8,
   "id": "6d8b894b",
   "metadata": {},
   "outputs": [
    {
     "data": {
      "text/plain": [
       "array([0.90474488, 0.84269171, 0.50047345, 0.44458215, 0.51246811,\n",
       "       0.40439782, 0.41408987, 0.36784562, 0.35082779, 0.35923595,\n",
       "       0.99464785, 0.78489455, 0.80370583, 0.76652356, 0.47731978,\n",
       "       0.41408987, 0.84269171, 0.38568895, 0.97136745, 0.99464785,\n",
       "       0.92642857, 0.82296795, 0.59071999, 0.52475024, 0.46614779,\n",
       "       0.42401421, 0.88356872])"
      ]
     },
     "execution_count": 8,
     "metadata": {},
     "output_type": "execute_result"
    }
   ],
   "source": [
    "np.exp(-pred)"
   ]
  },
  {
   "cell_type": "code",
   "execution_count": 9,
   "id": "5e88e4bd",
   "metadata": {},
   "outputs": [],
   "source": [
    "def sig_prob(X):\n",
    "    sigmoid_list = []\n",
    "    for i in X:\n",
    "        if (i >0.5):\n",
    "            sigmoid_list.append(1)\n",
    "        else:\n",
    "            sigmoid_list.append[0]\n",
    "    return sigmoid_list"
   ]
  },
  {
   "cell_type": "code",
   "execution_count": 10,
   "id": "80b32326",
   "metadata": {},
   "outputs": [
    {
     "data": {
      "text/plain": [
       "array([1, 1, 1, 1, 1, 1, 1, 1, 1, 1, 1, 1, 1, 1, 1, 1, 1, 1, 1, 1, 1, 1,\n",
       "       1, 1, 1, 1, 1])"
      ]
     },
     "execution_count": 10,
     "metadata": {},
     "output_type": "execute_result"
    }
   ],
   "source": [
    "np.array(sig_prob(sigmoid_y)) #converting list to array for better view. list elements were printed 1 on each line."
   ]
  },
  {
   "cell_type": "markdown",
   "id": "331bbfcc",
   "metadata": {},
   "source": [
    "__Comparing with logistic regression__"
   ]
  },
  {
   "cell_type": "code",
   "execution_count": 11,
   "id": "6636a406",
   "metadata": {},
   "outputs": [
    {
     "data": {
      "text/plain": [
       "LogisticRegression()"
      ]
     },
     "execution_count": 11,
     "metadata": {},
     "output_type": "execute_result"
    }
   ],
   "source": [
    "from sklearn.linear_model import LogisticRegression\n",
    "modelLR = LogisticRegression() # creating object from class\n",
    "modelLR.fit(df[['age']],df.bought_insurance)"
   ]
  },
  {
   "cell_type": "code",
   "execution_count": 12,
   "id": "b07513a8",
   "metadata": {},
   "outputs": [
    {
     "data": {
      "text/plain": [
       "array([[0.1354656]])"
      ]
     },
     "execution_count": 12,
     "metadata": {},
     "output_type": "execute_result"
    }
   ],
   "source": [
    "modelLR.coef_"
   ]
  },
  {
   "cell_type": "code",
   "execution_count": 13,
   "id": "68c23ff3",
   "metadata": {},
   "outputs": [
    {
     "data": {
      "text/plain": [
       "array([-5.26279696])"
      ]
     },
     "execution_count": 13,
     "metadata": {},
     "output_type": "execute_result"
    }
   ],
   "source": [
    "modelLR.intercept_"
   ]
  },
  {
   "cell_type": "code",
   "execution_count": 14,
   "id": "73c587e0",
   "metadata": {},
   "outputs": [
    {
     "data": {
      "text/plain": [
       "array([0, 0, 1, 1, 1, 1, 1, 1, 1, 1, 0, 0, 0, 0, 1, 1, 0, 1, 0, 0, 0, 0,\n",
       "       1, 1, 1, 1, 0], dtype=int64)"
      ]
     },
     "execution_count": 14,
     "metadata": {},
     "output_type": "execute_result"
    }
   ],
   "source": [
    "modelLR.predict(df[['age']])"
   ]
  },
  {
   "cell_type": "code",
   "execution_count": 21,
   "id": "b73694f3",
   "metadata": {},
   "outputs": [
    {
     "data": {
      "text/plain": [
       "array([[0.90742181, 0.09257819],\n",
       "       [0.86716909, 0.13283091],\n",
       "       [0.24897506, 0.75102494],\n",
       "       [0.14412861, 0.85587139],\n",
       "       [0.27515554, 0.72484446],\n",
       "       [0.08921347, 0.91078653],\n",
       "       [0.10085042, 0.89914958],\n",
       "       [0.05390402, 0.94609598],\n",
       "       [0.04164368, 0.95835632],\n",
       "       [0.04739857, 0.95260143],\n",
       "       [0.94398106, 0.05601894],\n",
       "       [0.81302094, 0.18697906],\n",
       "       [0.8327475 , 0.1672525 ],\n",
       "       [0.79155013, 0.20844987],\n",
       "       [0.20181043, 0.79818957],\n",
       "       [0.10085042, 0.89914958],\n",
       "       [0.86716909, 0.13283091],\n",
       "       [0.06951213, 0.93048787],\n",
       "       [0.93637149, 0.06362851],\n",
       "       [0.94398106, 0.05601894],\n",
       "       [0.91819109, 0.08180891],\n",
       "       [0.85077487, 0.14922513],\n",
       "       [0.4611219 , 0.5388781 ],\n",
       "       [0.30297839, 0.69702161],\n",
       "       [0.18086723, 0.81913277],\n",
       "       [0.11381561, 0.88618439],\n",
       "       [0.89539637, 0.10460363]])"
      ]
     },
     "execution_count": 21,
     "metadata": {},
     "output_type": "execute_result"
    }
   ],
   "source": [
    "predict_proba = modelLR.predict_proba(df[['age']])\n",
    "predict_proba"
   ]
  },
  {
   "cell_type": "code",
   "execution_count": null,
   "id": "1ce72364",
   "metadata": {},
   "outputs": [],
   "source": []
  }
 ],
 "metadata": {
  "kernelspec": {
   "display_name": "Python 3 (ipykernel)",
   "language": "python",
   "name": "python3"
  },
  "language_info": {
   "codemirror_mode": {
    "name": "ipython",
    "version": 3
   },
   "file_extension": ".py",
   "mimetype": "text/x-python",
   "name": "python",
   "nbconvert_exporter": "python",
   "pygments_lexer": "ipython3",
   "version": "3.9.12"
  }
 },
 "nbformat": 4,
 "nbformat_minor": 5
}
